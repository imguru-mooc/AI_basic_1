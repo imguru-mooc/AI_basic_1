{
 "cells": [
  {
   "attachments": {},
   "cell_type": "markdown",
   "id": "a33de796",
   "metadata": {},
   "source": [
    "### 객체의 콘텍스트 관리 프로토콜 지원"
   ]
  },
  {
   "cell_type": "code",
   "execution_count": 18,
   "id": "61504056",
   "metadata": {},
   "outputs": [],
   "source": [
    "class Foo():\n",
    "    def __init__(self):\n",
    "        pass \n",
    "    def __enter__(self):\n",
    "        print('Foo.__enter__()')\n",
    "        return 'Hello'\n",
    "    def __exit__(self, exc_ty, exc_val, tb):\n",
    "        print('Foo.__exit__()')"
   ]
  },
  {
   "cell_type": "code",
   "execution_count": 19,
   "id": "0d1958d0",
   "metadata": {
    "scrolled": true
   },
   "outputs": [
    {
     "name": "stdout",
     "output_type": "stream",
     "text": [
      "Foo.__enter__()\n",
      "Hello\n",
      "Foo.__exit__()\n"
     ]
    }
   ],
   "source": [
    "f = Foo() \n",
    "\n",
    "with f as s:\n",
    "    print(s)"
   ]
  },
  {
   "cell_type": "code",
   "execution_count": 34,
   "id": "27098795",
   "metadata": {},
   "outputs": [],
   "source": [
    "from socket import socket, AF_INET, SOCK_STREAM\n",
    "\n",
    "class LazyConnection:\n",
    "    def __init__(self, address, family=AF_INET, type=SOCK_STREAM):\n",
    "        self.address = address\n",
    "        self.family = AF_INET\n",
    "        self.type = SOCK_STREAM\n",
    "        self.sock = None\n",
    "\n",
    "    def __enter__(self):\n",
    "        print('__enter__()')\n",
    "        if self.sock is not None:\n",
    "            raise RuntimeError('Already connected')\n",
    "        self.sock = socket(self.family, self.type)\n",
    "        self.sock.connect(self.address)\n",
    "        return self.sock\n",
    "\n",
    "    def __exit__(self, exc_ty, exc_val, tb):\n",
    "        print('__exit__()')\n",
    "        self.sock.close()\n",
    "        self.sock = None"
   ]
  },
  {
   "cell_type": "code",
   "execution_count": 35,
   "id": "0ee96aa4",
   "metadata": {},
   "outputs": [
    {
     "name": "stdout",
     "output_type": "stream",
     "text": [
      "__enter__()\n",
      "__exit__()\n",
      "Got 392 bytes\n"
     ]
    }
   ],
   "source": [
    "if __name__ == '__main__':\n",
    "    from functools import partial\n",
    "\n",
    "    c = LazyConnection(('www.python.org', 80))\n",
    "    with c as s:\n",
    "        s.send(b'GET /index.html HTTP/1.0\\r\\n')\n",
    "        s.send(b'Host: www.python.org\\r\\n')\n",
    "        s.send(b'\\r\\n')\n",
    "        resp = b''.join(iter(partial(s.recv, 8192), b''))\n",
    "\n",
    "    print('Got %d bytes' % len(resp))\n"
   ]
  },
  {
   "attachments": {},
   "cell_type": "markdown",
   "id": "81f38a3c",
   "metadata": {},
   "source": [
    "### 인스턴스를 많이 생성할 때 메모리 절약"
   ]
  },
  {
   "cell_type": "code",
   "execution_count": 45,
   "id": "4b427d95",
   "metadata": {},
   "outputs": [
    {
     "name": "stdout",
     "output_type": "stream",
     "text": [
      "2020 6 1\n",
      "{'year': 2020, 'month': 6, 'day': 1}\n",
      "{'year': 2021, 'month': 7, 'day': 22}\n"
     ]
    },
    {
     "data": {
      "text/plain": [
       "['__class__',\n",
       " '__delattr__',\n",
       " '__dict__',\n",
       " '__dir__',\n",
       " '__doc__',\n",
       " '__eq__',\n",
       " '__format__',\n",
       " '__ge__',\n",
       " '__getattribute__',\n",
       " '__gt__',\n",
       " '__hash__',\n",
       " '__init__',\n",
       " '__init_subclass__',\n",
       " '__le__',\n",
       " '__lt__',\n",
       " '__module__',\n",
       " '__ne__',\n",
       " '__new__',\n",
       " '__reduce__',\n",
       " '__reduce_ex__',\n",
       " '__repr__',\n",
       " '__setattr__',\n",
       " '__sizeof__',\n",
       " '__str__',\n",
       " '__subclasshook__',\n",
       " '__weakref__',\n",
       " 'day',\n",
       " 'month',\n",
       " 'year']"
      ]
     },
     "execution_count": 45,
     "metadata": {},
     "output_type": "execute_result"
    }
   ],
   "source": [
    "class Date:\n",
    "    def __init__(self, year, month, day):\n",
    "        self.year = year\n",
    "        self.month = month\n",
    "        self.day = day\n",
    "\n",
    "d1 = Date(2020, 6, 1)\n",
    "print(d1.year, d1.month, d1.day)\n",
    "# print(dir(d1))\n",
    "print(d1.__dict__)\n",
    "d2 = Date(2021, 7, 22)\n",
    "print(d2.__dict__)\n",
    "dir(d2)"
   ]
  },
  {
   "cell_type": "code",
   "execution_count": 60,
   "id": "2a7fdfdd",
   "metadata": {},
   "outputs": [
    {
     "name": "stdout",
     "output_type": "stream",
     "text": [
      "['__class__', '__delattr__', '__dir__', '__doc__', '__eq__', '__format__', '__ge__', '__getattribute__', '__gt__', '__hash__', '__init__', '__init_subclass__', '__le__', '__lt__', '__module__', '__ne__', '__new__', '__reduce__', '__reduce_ex__', '__repr__', '__setattr__', '__sizeof__', '__slots__', '__str__', '__subclasshook__', 'day', 'month', 'year']\n",
      "<class 'list'>\n",
      "2020\n"
     ]
    }
   ],
   "source": [
    "class Date:\n",
    "    __slots__ = ['year', 'month', 'day']\n",
    "    def __init__(self, year, month, day):\n",
    "        self.year = year\n",
    "        self.month = month\n",
    "        self.day = day\n",
    "\n",
    "d1 = Date(2020, 6, 1)\n",
    "print(dir(d1))\n",
    "print(type(d1.__slots__))\n",
    "print(d1.__getattribute__(d1.__slots__[0]))\n",
    "# print(d1.year, d1.month, d1.day)"
   ]
  },
  {
   "cell_type": "markdown",
   "id": "498a1495",
   "metadata": {},
   "source": [
    "### 관리 속성 만들기"
   ]
  },
  {
   "cell_type": "code",
   "execution_count": 70,
   "id": "ee7a96a5",
   "metadata": {},
   "outputs": [],
   "source": [
    "class Person:\n",
    "    def __init__(self, first_name):\n",
    "        self.first_name = first_name\n",
    "\n",
    "    @property\n",
    "    def first_name(self):\n",
    "        return self._first_name\n",
    "\n",
    "    @first_name.setter\n",
    "    def first_name(self, value):\n",
    "        print('Person.first_name()')\n",
    "        if not isinstance(value, str):\n",
    "            raise TypeError('Expected a string')\n",
    "        self._first_name = value"
   ]
  },
  {
   "cell_type": "code",
   "execution_count": 72,
   "id": "117661ef",
   "metadata": {},
   "outputs": [],
   "source": [
    "class Person:\n",
    "    def __init__(self, joomin):\n",
    "        self.joomin = joomin\n",
    "\n",
    "    def joomin_check(self, joomin):\n",
    "        seq = \"234567892345\"\n",
    "        checksum = 0\n",
    "        for x, y in zip(joomin, seq):\n",
    "            checksum += int(x)*int(y)\n",
    "            \n",
    "        checksum = (11-checksum%11)%10\n",
    "        return checksum == int(joomin[12])\n",
    "        \n",
    "    @property\n",
    "    def joomin(self):\n",
    "        return self._joomin\n",
    "\n",
    "    @joomin.setter\n",
    "    def joomin(self, value):\n",
    "        print('Person.joomin()')\n",
    "        if not self.joomin_check(value):\n",
    "            raise ValueError('주민번호가 잘못되어 있습니다.')\n",
    "        self._joomin = value"
   ]
  },
  {
   "cell_type": "code",
   "execution_count": 78,
   "id": "89ad4b5a",
   "metadata": {},
   "outputs": [
    {
     "name": "stdout",
     "output_type": "stream",
     "text": [
      "Person.joomin()\n"
     ]
    },
    {
     "data": {
      "text/plain": [
       "'8812202469125'"
      ]
     },
     "execution_count": 78,
     "metadata": {},
     "output_type": "execute_result"
    }
   ],
   "source": [
    "p1 = Person(\"8812202469125\")\n",
    "p1.joomin"
   ]
  },
  {
   "cell_type": "markdown",
   "id": "88464b6d",
   "metadata": {},
   "source": [
    "## 상속"
   ]
  },
  {
   "attachments": {},
   "cell_type": "markdown",
   "id": "911b0fe1",
   "metadata": {},
   "source": [
    "### 부모 클래스의 메소드 호출"
   ]
  },
  {
   "cell_type": "code",
   "execution_count": 80,
   "id": "e2574892",
   "metadata": {},
   "outputs": [
    {
     "name": "stdout",
     "output_type": "stream",
     "text": [
      "B.spam\n",
      "A.spam\n"
     ]
    }
   ],
   "source": [
    "class A:\n",
    "    def spam(self):\n",
    "        print('A.spam')\n",
    "\n",
    "class B(A):\n",
    "    def spam(self):\n",
    "        print('B.spam')\n",
    "        super().spam()\n",
    "\n",
    "if __name__ == '__main__':\n",
    "    b = B()\n",
    "    b.spam()"
   ]
  },
  {
   "cell_type": "code",
   "execution_count": 83,
   "id": "77a445a3",
   "metadata": {},
   "outputs": [
    {
     "name": "stdout",
     "output_type": "stream",
     "text": [
      "0 1\n"
     ]
    }
   ],
   "source": [
    "class A:\n",
    "    def __init__(self):\n",
    "        self.x = 0\n",
    "\n",
    "class B(A):\n",
    "    def __init__(self):\n",
    "        super().__init__()\n",
    "        self.y = 1\n",
    "\n",
    "if __name__ == '__main__':\n",
    "    b = B()\n",
    "    print(b.x, b.y)"
   ]
  },
  {
   "cell_type": "code",
   "execution_count": 98,
   "id": "0a9f30b0",
   "metadata": {},
   "outputs": [],
   "source": [
    "class Proxy:\n",
    "    def __init__(self, obj):\n",
    "        self._obj = obj\n",
    "\n",
    "    def __getattr__(self, name):\n",
    "        print('Proxy.__getattr__(%s)'%(name))\n",
    "        return getattr(self._obj, name) # getattr(a,  'spam')\n",
    "\n",
    "    def __setattr__(self, name, value): \n",
    "#         print(name, value)\n",
    "        print('Proxy.__setattr__(%s, %s)'%(name, value))\n",
    "        if name.startswith('_'):\n",
    "            super().__setattr__(name, value)\n",
    "        else:\n",
    "            setattr(self._obj, name, value) # setattr(a, 'x', '37')"
   ]
  },
  {
   "cell_type": "code",
   "execution_count": 101,
   "id": "ae315a1f",
   "metadata": {},
   "outputs": [
    {
     "name": "stdout",
     "output_type": "stream",
     "text": [
      "Proxy.__setattr__(_obj, <__main__.A object at 0x000001F0DD767310>)\n",
      "Proxy.__getattr__(x)\n",
      "42\n",
      "Proxy.__getattr__(spam)\n",
      "A.spam\n",
      "None\n",
      "Proxy.__setattr__(x, 37)\n",
      "Proxy.__getattr__(x)\n",
      "Should be 37: 37\n",
      "Should be 37: 37\n"
     ]
    }
   ],
   "source": [
    "if __name__ == '__main__':\n",
    "    class A:\n",
    "        def __init__(self, x):\n",
    "            self.x = x\n",
    "        def spam(self):\n",
    "            print('A.spam')\n",
    "\n",
    "    a = A(42)\n",
    "    p = Proxy(a)\n",
    "    print(p.x)\n",
    "    print(p.spam())\n",
    "    p.x = 37\n",
    "    print('Should be 37:', p.x)\n",
    "    print('Should be 37:', a.x)"
   ]
  },
  {
   "cell_type": "markdown",
   "id": "5c0520c9",
   "metadata": {},
   "source": [
    "### 다이아몬드 형태의 상속 구조의 문제점"
   ]
  },
  {
   "cell_type": "code",
   "execution_count": 111,
   "id": "6cac9f46",
   "metadata": {},
   "outputs": [
    {
     "name": "stdout",
     "output_type": "stream",
     "text": [
      "(<class '__main__.C'>, <class '__main__.A'>, <class '__main__.B'>, <class '__main__.Base'>, <class 'object'>)\n",
      "Base.__init__\n",
      "A.__init__\n",
      "Base.__init__\n",
      "B.__init__\n",
      "C.__init__\n"
     ]
    }
   ],
   "source": [
    "class Base:\n",
    "    def __init__(self):\n",
    "        print('Base.__init__')\n",
    "\n",
    "class A(Base):\n",
    "    def __init__(self):\n",
    "        Base.__init__(self)\n",
    "        print('A.__init__')\n",
    "\n",
    "class B(Base):\n",
    "    def __init__(self):\n",
    "        Base.__init__(self)\n",
    "        print('B.__init__')\n",
    "\n",
    "class C(A,B):\n",
    "    def __init__(self):\n",
    "        A.__init__(self)\n",
    "        B.__init__(self)\n",
    "        print('C.__init__')\n",
    "\n",
    "if __name__ == '__main__':\n",
    "    print(C.__mro__)\n",
    "    c = C()"
   ]
  },
  {
   "cell_type": "code",
   "execution_count": 115,
   "id": "758804a7",
   "metadata": {},
   "outputs": [
    {
     "name": "stdout",
     "output_type": "stream",
     "text": [
      "(<class '__main__.C'>, <class '__main__.A'>, <class '__main__.B'>, <class '__main__.Base'>, <class 'object'>)\n",
      "Base.__init__\n",
      "B.__init__\n",
      "B.foo()\n",
      "A.__init__\n",
      "C.__init__\n"
     ]
    }
   ],
   "source": [
    "class Base:\n",
    "    def __init__(self):\n",
    "        print('Base.__init__')\n",
    "\n",
    "class A(Base):\n",
    "    def __init__(self):\n",
    "        super().__init__()\n",
    "        super().foo()\n",
    "        print('A.__init__')\n",
    "\n",
    "class B(Base):\n",
    "    def __init__(self):\n",
    "        super().__init__()\n",
    "        print('B.__init__')\n",
    "        \n",
    "    def foo(self):\n",
    "        print('B.foo()')\n",
    "\n",
    "class C(A,B):\n",
    "    def __init__(self):\n",
    "        super().__init__()\n",
    "        print('C.__init__')\n",
    "\n",
    "if __name__ == '__main__':\n",
    "    print(C.__mro__)\n",
    "    c = C()"
   ]
  },
  {
   "cell_type": "markdown",
   "id": "a0243e15",
   "metadata": {},
   "source": [
    "### 추상클래스"
   ]
  },
  {
   "cell_type": "code",
   "execution_count": 117,
   "id": "ce5212f1",
   "metadata": {},
   "outputs": [
    {
     "name": "stdout",
     "output_type": "stream",
     "text": [
      "자동차가 달린다.\n"
     ]
    }
   ],
   "source": [
    "class Car():\n",
    "    def run(self):\n",
    "        print(\"자동차가 달린다.\")\n",
    "\n",
    "class Sonata(Car):\n",
    "    pass\n",
    "        \n",
    "s = Sonata()\n",
    "s.run()"
   ]
  },
  {
   "cell_type": "code",
   "execution_count": 118,
   "id": "8761406a",
   "metadata": {},
   "outputs": [
    {
     "name": "stdout",
     "output_type": "stream",
     "text": [
      "소나타가 달린다.\n"
     ]
    }
   ],
   "source": [
    "class Car():\n",
    "    def run(self):\n",
    "        print(\"자동차가 달린다.\")\n",
    "\n",
    "class Sonata(Car):\n",
    "    def run(self):\n",
    "        print(\"소나타가 달린다.\")\n",
    "        \n",
    "s = Sonata()\n",
    "s.run()"
   ]
  },
  {
   "cell_type": "code",
   "execution_count": 121,
   "id": "02ee15ff",
   "metadata": {},
   "outputs": [
    {
     "name": "stdout",
     "output_type": "stream",
     "text": [
      "소나타가 달린다.\n"
     ]
    }
   ],
   "source": [
    "class Car():\n",
    "    def run(self):\n",
    "        print(\" 달린다.\")\n",
    "\n",
    "class Sonata(Car):\n",
    "    def run(self):\n",
    "        print(\"소나타가\" , end=\"\")\n",
    "        super().run()\n",
    "        \n",
    "s = Sonata()\n",
    "s.run()"
   ]
  },
  {
   "cell_type": "code",
   "execution_count": 127,
   "id": "2f992f3f",
   "metadata": {},
   "outputs": [
    {
     "name": "stdout",
     "output_type": "stream",
     "text": [
      "소나타가 달린다.\n"
     ]
    }
   ],
   "source": [
    "from abc import ABCMeta, abstractmethod\n",
    "\n",
    "class Car(metaclass=ABCMeta):\n",
    "    @abstractmethod\n",
    "    def run(self): \n",
    "        pass\n",
    "\n",
    "class Sonata(Car):\n",
    "    def run(self):\n",
    "        print(\"소나타가 달린다.\")\n",
    "\n",
    "# c = Car()\n",
    "s = Sonata()\n",
    "s.run()"
   ]
  },
  {
   "cell_type": "code",
   "execution_count": 129,
   "id": "e3e4a0c0",
   "metadata": {},
   "outputs": [
    {
     "name": "stdout",
     "output_type": "stream",
     "text": [
      "소나타가 달린다.\n",
      "모델 Y가 달린다.\n"
     ]
    }
   ],
   "source": [
    "from abc import ABCMeta, abstractmethod\n",
    "\n",
    "class Car(metaclass=ABCMeta):\n",
    "    @abstractmethod\n",
    "    def run(self): \n",
    "        pass\n",
    "\n",
    "class Sonata(Car):\n",
    "    def run(self):\n",
    "        print(\"소나타가 달린다.\")\n",
    "        \n",
    "class ModelY(Car):\n",
    "    def run(self):\n",
    "        print(\"모델 Y가 달린다.\")\n",
    "\n",
    "\n",
    "car = [Sonata(), ModelY()]\n",
    "for c in car:\n",
    "    c.run()"
   ]
  },
  {
   "cell_type": "code",
   "execution_count": 132,
   "id": "2959554e",
   "metadata": {},
   "outputs": [
    {
     "name": "stdout",
     "output_type": "stream",
     "text": [
      "소나타가 달린다.\n",
      "모델 Y가 달린다.\n",
      "소나타가 멈춘다.\n",
      "모델 Y가 멈춘다.\n"
     ]
    }
   ],
   "source": [
    "from abc import ABCMeta, abstractmethod\n",
    "\n",
    "class Car(metaclass=ABCMeta):\n",
    "    @abstractmethod\n",
    "    def run(self): \n",
    "        pass\n",
    "    \n",
    "    @abstractmethod\n",
    "    def stop(self): \n",
    "        pass\n",
    "\n",
    "class Sonata(Car):\n",
    "    def run(self):\n",
    "        print(\"소나타가 달린다.\")\n",
    "        \n",
    "    def stop(self):\n",
    "        print(\"소나타가 멈춘다.\")\n",
    "        \n",
    "class ModelY(Car):\n",
    "    def run(self):\n",
    "        print(\"모델 Y가 달린다.\")\n",
    "        \n",
    "    def stop(self):\n",
    "        print(\"모델 Y가 멈춘다.\")\n",
    "\n",
    "\n",
    "car = [Sonata(), ModelY()]\n",
    "for c in car:\n",
    "    c.run()\n",
    "    \n",
    "for c in car:\n",
    "    c.stop()"
   ]
  }
 ],
 "metadata": {
  "kernelspec": {
   "display_name": "Python 3",
   "language": "python",
   "name": "python3"
  },
  "language_info": {
   "codemirror_mode": {
    "name": "ipython",
    "version": 3
   },
   "file_extension": ".py",
   "mimetype": "text/x-python",
   "name": "python",
   "nbconvert_exporter": "python",
   "pygments_lexer": "ipython3",
   "version": "3.8.8"
  }
 },
 "nbformat": 4,
 "nbformat_minor": 5
}
