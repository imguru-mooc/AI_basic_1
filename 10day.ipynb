{
 "cells": [
  {
   "cell_type": "markdown",
   "id": "7a5ebc84",
   "metadata": {},
   "source": [
    "### 스택 구현하기"
   ]
  },
  {
   "cell_type": "code",
   "execution_count": 1,
   "id": "ea0813ea",
   "metadata": {},
   "outputs": [
    {
     "name": "stdout",
     "output_type": "stream",
     "text": [
      "3\n",
      "2\n",
      "1\n"
     ]
    }
   ],
   "source": [
    "def push(Stack, x):\n",
    "    Stack.append(x)\n",
    "    \n",
    "def pop(Stack):\n",
    "    temp = Stack[-1]\n",
    "    del Stack[-1]\n",
    "    return temp\n",
    "\n",
    "Stack = []\n",
    "for i in range(3):\n",
    "    push(Stack, i+1)\n",
    "\n",
    "for i in range(3):\n",
    "    print(pop(Stack))"
   ]
  },
  {
   "cell_type": "code",
   "execution_count": 3,
   "id": "eadea5b6",
   "metadata": {},
   "outputs": [
    {
     "name": "stdout",
     "output_type": "stream",
     "text": [
      "3\n",
      "2\n",
      "1\n"
     ]
    }
   ],
   "source": [
    "class Stack:\n",
    "    def __init__(self):\n",
    "        self.data = []\n",
    "\n",
    "    def push(self, x):\n",
    "        self.data.append(x)\n",
    "    \n",
    "    def pop(self):\n",
    "        temp = self.data[-1]\n",
    "        del self.data[-1]\n",
    "        return temp\n",
    "        \n",
    "stack = Stack()\n",
    "\n",
    "for i in range(3):\n",
    "    stack.push(i+1)\n",
    "\n",
    "for i in range(3):\n",
    "    print(stack.pop())"
   ]
  },
  {
   "cell_type": "markdown",
   "id": "6da26a98",
   "metadata": {},
   "source": [
    "### 클래스 기본 문법"
   ]
  },
  {
   "cell_type": "code",
   "execution_count": 8,
   "id": "303785a4",
   "metadata": {},
   "outputs": [
    {
     "name": "stdout",
     "output_type": "stream",
     "text": [
      "48\n",
      "0x216959b7c40\n"
     ]
    }
   ],
   "source": [
    "import sys\n",
    "\n",
    "class MyClass:\n",
    "    pass\n",
    "\n",
    "c1 = MyClass()\n",
    "print(sys.getsizeof(c1))\n",
    "print(hex(id(c1)))"
   ]
  },
  {
   "cell_type": "markdown",
   "id": "be06b819",
   "metadata": {},
   "source": [
    "### 파이썬에서는 클래도 객체이다. "
   ]
  },
  {
   "cell_type": "code",
   "execution_count": 16,
   "id": "21114dbf",
   "metadata": {},
   "outputs": [
    {
     "name": "stdout",
     "output_type": "stream",
     "text": [
      "48\n",
      "1064\n",
      "0x21695988a60\n",
      "0x21694f68110\n",
      "['__class__', '__delattr__', '__dict__', '__dir__', '__doc__', '__eq__', '__format__', '__ge__', '__getattribute__', '__gt__', '__hash__', '__init__', '__init_subclass__', '__le__', '__lt__', '__module__', '__ne__', '__new__', '__reduce__', '__reduce_ex__', '__repr__', '__setattr__', '__sizeof__', '__str__', '__subclasshook__', '__weakref__']\n",
      "<class '__main__.MyClass'>\n",
      "['__class__', '__delattr__', '__dict__', '__dir__', '__doc__', '__eq__', '__format__', '__ge__', '__getattribute__', '__gt__', '__hash__', '__init__', '__init_subclass__', '__le__', '__lt__', '__module__', '__ne__', '__new__', '__reduce__', '__reduce_ex__', '__repr__', '__setattr__', '__sizeof__', '__str__', '__subclasshook__', '__weakref__']\n",
      "<class 'type'>\n"
     ]
    }
   ],
   "source": [
    "import sys\n",
    "c1 = MyClass()\n",
    "print(sys.getsizeof(c1))\n",
    "print(sys.getsizeof(MyClass))\n",
    "print(hex(id(c1)))\n",
    "print(hex(id(MyClass)))\n",
    "print(dir(c1))  # map(), zip(), enumerate(), len(), filter(), dir()\n",
    "print(c1.__class__)\n",
    "print(dir(MyClass))\n",
    "print(MyClass.__class__)\n"
   ]
  },
  {
   "cell_type": "code",
   "execution_count": 27,
   "id": "23b4d525",
   "metadata": {},
   "outputs": [
    {
     "name": "stdout",
     "output_type": "stream",
     "text": [
      "__init__() 0x21695a80ca0\n",
      "__init__(100, 200)\n",
      "0x21695a80ca0\n",
      "20000\n"
     ]
    }
   ],
   "source": [
    "class Rectangle:\n",
    "#     count = 0  # 클래스 변수\n",
    " \n",
    "    def __init__(self, width, height):\n",
    "        print(\"__init__()\", hex(id(self)))\n",
    "        print(\"__init__(%d, %d)\"%(width, height))\n",
    "        # self.* : 인스턴스변수\n",
    "        self.width = width\n",
    "        self.height = height\n",
    "#         Rectangle.count += 1\n",
    " \n",
    "    def calcArea(self):\n",
    "        area = self.width * self.height\n",
    "        return area\n",
    "\n",
    "    \n",
    "rect = Rectangle(100,200)\n",
    "print(hex(id(rect)))\n",
    "print(rect.calcArea())"
   ]
  },
  {
   "cell_type": "code",
   "execution_count": 34,
   "id": "8e87fd89",
   "metadata": {},
   "outputs": [
    {
     "name": "stdout",
     "output_type": "stream",
     "text": [
      "__init__() 0x21695a78190\n",
      "__init__(100, 200)\n",
      "__init__() 0x216959884f0\n",
      "__init__(10, 20)\n",
      "0x21695a78190\n",
      "20000\n",
      "2\n"
     ]
    }
   ],
   "source": [
    "class Rectangle:\n",
    "    count = 0  # 클래스 변수\n",
    " \n",
    "    def __init__(self, width, height):\n",
    "        print(\"__init__()\", hex(id(self)))\n",
    "        print(\"__init__(%d, %d)\"%(width, height))\n",
    "        # self.* : 인스턴스변수\n",
    "        self.width = width\n",
    "        self.height = height\n",
    "        Rectangle.count += 1\n",
    " \n",
    "    def calcArea(self):\n",
    "        area = self.width * self.height\n",
    "        return area\n",
    "\n",
    "    \n",
    "rect1 = Rectangle(100,200)\n",
    "rect2 = Rectangle(10,20)\n",
    "print(hex(id(rect1)))\n",
    "print(rect1.calcArea())\n",
    "print(rect1.count)"
   ]
  },
  {
   "cell_type": "code",
   "execution_count": 37,
   "id": "345f7513",
   "metadata": {},
   "outputs": [
    {
     "name": "stdout",
     "output_type": "stream",
     "text": [
      "0x7ffbf15f2750\n",
      "0x7ffbf15f2750\n"
     ]
    }
   ],
   "source": [
    "print(hex(id(rect1.count)))\n",
    "print(hex(id(Rectangle.count)))"
   ]
  },
  {
   "cell_type": "code",
   "execution_count": 38,
   "id": "58540002",
   "metadata": {},
   "outputs": [
    {
     "name": "stdout",
     "output_type": "stream",
     "text": [
      "['__class__', '__delattr__', '__dict__', '__dir__', '__doc__', '__eq__', '__format__', '__ge__', '__getattribute__', '__gt__', '__hash__', '__init__', '__init_subclass__', '__le__', '__lt__', '__module__', '__ne__', '__new__', '__reduce__', '__reduce_ex__', '__repr__', '__setattr__', '__sizeof__', '__str__', '__subclasshook__', '__weakref__', 'calcArea', 'count']\n"
     ]
    }
   ],
   "source": [
    "print(dir(Rectangle))"
   ]
  },
  {
   "cell_type": "code",
   "execution_count": 39,
   "id": "2d4aa19d",
   "metadata": {},
   "outputs": [
    {
     "name": "stdout",
     "output_type": "stream",
     "text": [
      "['__class__', '__delattr__', '__dict__', '__dir__', '__doc__', '__eq__', '__format__', '__ge__', '__getattribute__', '__gt__', '__hash__', '__init__', '__init_subclass__', '__le__', '__lt__', '__module__', '__ne__', '__new__', '__reduce__', '__reduce_ex__', '__repr__', '__setattr__', '__sizeof__', '__str__', '__subclasshook__', '__weakref__', 'calcArea', 'count', 'height', 'width']\n"
     ]
    }
   ],
   "source": [
    "print(dir(rect1))"
   ]
  },
  {
   "cell_type": "markdown",
   "id": "bd62cb0f",
   "metadata": {},
   "source": [
    "### private 멤버"
   ]
  },
  {
   "cell_type": "code",
   "execution_count": 45,
   "id": "d26f8d4d",
   "metadata": {},
   "outputs": [
    {
     "name": "stdout",
     "output_type": "stream",
     "text": [
      "__init__()\n",
      "__internalRun()= 200\n",
      "10 20\n"
     ]
    }
   ],
   "source": [
    "class Rectangle:\n",
    "    def __init__(self, width, height):\n",
    "        print(\"__init__()\")\n",
    "        self.width = width\n",
    "        self.height = height\n",
    " \n",
    "        # private 변수 __area\n",
    "        self.__area = width * height\n",
    "        self.__internalRun()\n",
    " \n",
    "    # private 메서드\n",
    "    def __internalRun(self):\n",
    "        print(\"__internalRun()=\", self.__area)\n",
    "    \n",
    "rect = Rectangle(10,20)\n",
    "print(rect.width, rect.height)\n",
    "# print(rect.__area)\n",
    "# rect.__internalRun()"
   ]
  },
  {
   "cell_type": "markdown",
   "id": "c4326ee5",
   "metadata": {},
   "source": [
    "### 정적 메서드"
   ]
  },
  {
   "cell_type": "code",
   "execution_count": 50,
   "id": "100ffe73",
   "metadata": {},
   "outputs": [
    {
     "name": "stdout",
     "output_type": "stream",
     "text": [
      "bar()\n",
      "bar()\n"
     ]
    }
   ],
   "source": [
    "class Foo:\n",
    "    def bar(self):\n",
    "        print(\"bar()\")\n",
    "        \n",
    "f = Foo()\n",
    "f.bar()  # Foo.bar(f)\n",
    "# bar()  # bar()는 전역 함수가 아니다.\n",
    "Foo.bar()  # 객체 없이 멤버 함수를 호출하면 self를 전달할 수 없다."
   ]
  },
  {
   "cell_type": "code",
   "execution_count": 53,
   "id": "b133db58",
   "metadata": {},
   "outputs": [
    {
     "name": "stdout",
     "output_type": "stream",
     "text": [
      "bar()\n"
     ]
    }
   ],
   "source": [
    "class Foo:\n",
    "    @staticmethod\n",
    "    def bar():\n",
    "        print(\"bar()\")\n",
    "        \n",
    "Foo.bar()"
   ]
  },
  {
   "cell_type": "code",
   "execution_count": 56,
   "id": "07b95321",
   "metadata": {},
   "outputs": [
    {
     "name": "stdout",
     "output_type": "stream",
     "text": [
      "bar()\n"
     ]
    }
   ],
   "source": [
    "class Foo:\n",
    "    def __init__(self):\n",
    "        self.data = 777\n",
    "        \n",
    "    @staticmethod\n",
    "    def bar():\n",
    "        print(\"bar()\")\n",
    "        \n",
    "Foo.bar()"
   ]
  },
  {
   "cell_type": "markdown",
   "id": "198487ac",
   "metadata": {},
   "source": [
    "### 클래스 메서드"
   ]
  },
  {
   "cell_type": "code",
   "execution_count": 60,
   "id": "56735baf",
   "metadata": {},
   "outputs": [
    {
     "name": "stdout",
     "output_type": "stream",
     "text": [
      "bar() 0\n"
     ]
    }
   ],
   "source": [
    "class Foo:\n",
    "    count = 0\n",
    "    \n",
    "    @classmethod\n",
    "    def bar(cls):\n",
    "        print(\"bar()\", cls.count)\n",
    "        \n",
    "Foo.bar()"
   ]
  },
  {
   "cell_type": "code",
   "execution_count": 61,
   "id": "b9dd1f94",
   "metadata": {},
   "outputs": [
    {
     "name": "stdout",
     "output_type": "stream",
     "text": [
      "bar() 0.04\n"
     ]
    }
   ],
   "source": [
    "class Account:\n",
    "    ratio = 0.03\n",
    "    \n",
    "    @classmethod\n",
    "    def bar(cls, new_ratio):\n",
    "        cls.ratio = new_ratio\n",
    "        print(\"bar()\", cls.ratio)\n",
    "        \n",
    "Account.bar(0.04)"
   ]
  },
  {
   "cell_type": "code",
   "execution_count": 62,
   "id": "dbb2d275",
   "metadata": {},
   "outputs": [],
   "source": [
    "class Rectangle:\n",
    "    count = 0  # 클래스 변수\n",
    " \n",
    "    def __init__(self, width, height):\n",
    "        self.width = width\n",
    "        self.height = height\n",
    "        Rectangle.count += 1\n",
    " \n",
    "    # 인스턴스 메서드\n",
    "    def calcArea(self):\n",
    "        area = self.width * self.height\n",
    "        return area\n",
    " \n",
    "    # 정적 메서드\n",
    "    @staticmethod\n",
    "    def isSquare(rectWidth, rectHeight):\n",
    "        return rectWidth == rectHeight   \n",
    " \n",
    "    # 클래스 메서드\n",
    "    @classmethod\n",
    "    def printCount(cls):\n",
    "        print(cls.count)"
   ]
  },
  {
   "cell_type": "code",
   "execution_count": 63,
   "id": "a5c0cd19",
   "metadata": {},
   "outputs": [
    {
     "data": {
      "text/plain": [
       "True"
      ]
     },
     "execution_count": 63,
     "metadata": {},
     "output_type": "execute_result"
    }
   ],
   "source": [
    "Rectangle.isSquare(100,100)"
   ]
  },
  {
   "cell_type": "code",
   "execution_count": 65,
   "id": "429cc090",
   "metadata": {},
   "outputs": [],
   "source": [
    "r1 = Rectangle(10,20)"
   ]
  },
  {
   "cell_type": "code",
   "execution_count": 66,
   "id": "4eafa545",
   "metadata": {
    "scrolled": true
   },
   "outputs": [
    {
     "name": "stdout",
     "output_type": "stream",
     "text": [
      "1\n"
     ]
    }
   ],
   "source": [
    "Rectangle.printCount()"
   ]
  },
  {
   "cell_type": "markdown",
   "id": "5c47b929",
   "metadata": {},
   "source": [
    "### 연산자 재정의"
   ]
  },
  {
   "cell_type": "code",
   "execution_count": 71,
   "id": "87b212d1",
   "metadata": {},
   "outputs": [
    {
     "data": {
      "text/plain": [
       "(1, 2, 3, 4)"
      ]
     },
     "execution_count": 71,
     "metadata": {},
     "output_type": "execute_result"
    }
   ],
   "source": [
    "class Foo():\n",
    "    pass\n",
    "\n",
    "f1 = Foo()\n",
    "f2 = Foo()\n",
    "# f1 + f2\n",
    "1 + 1\n",
    "'hello' + 'world'\n",
    "[1,2]+[3,4]\n",
    "(1,2)+(3,4)"
   ]
  },
  {
   "cell_type": "code",
   "execution_count": 81,
   "id": "ac6991a0",
   "metadata": {},
   "outputs": [
    {
     "name": "stdout",
     "output_type": "stream",
     "text": [
      "<__main__.Foo object at 0x0000021695A80D00>\n",
      "<__main__.Foo object at 0x0000021695A800A0>\n",
      "<__main__.Foo object at 0x0000021695A80070>\n",
      "helloworld\n",
      "hello\n",
      "world\n"
     ]
    }
   ],
   "source": [
    "class Foo():\n",
    "    def __init__(self, a ):\n",
    "        self.data = a\n",
    "        \n",
    "    def __add__(self, other):\n",
    "        obj = Foo( self.data + other.data )\n",
    "        return obj\n",
    "\n",
    "\n",
    "f1 = Foo(1)\n",
    "f2 = Foo(2)\n",
    "print(f1)\n",
    "print(f2)\n",
    "print(f1 + f2)\n",
    "print(\"hello\" + \"world\")\n",
    "print(\"hello\")\n",
    "print(\"world\")"
   ]
  },
  {
   "cell_type": "code",
   "execution_count": 90,
   "id": "f316dd4c",
   "metadata": {},
   "outputs": [
    {
     "name": "stdout",
     "output_type": "stream",
     "text": [
      "['__add__', '__class__', '__delattr__', '__dict__', '__dir__', '__doc__', '__eq__', '__format__', '__ge__', '__getattribute__', '__gt__', '__hash__', '__init__', '__init_subclass__', '__le__', '__lt__', '__module__', '__ne__', '__new__', '__reduce__', '__reduce_ex__', '__repr__', '__setattr__', '__sizeof__', '__str__', '__subclasshook__', '__weakref__', 'data']\n",
      "1\n",
      "2\n",
      "3\n",
      "helloworld\n",
      "hello\n",
      "world\n"
     ]
    },
    {
     "data": {
      "text/plain": [
       "1"
      ]
     },
     "execution_count": 90,
     "metadata": {},
     "output_type": "execute_result"
    }
   ],
   "source": [
    "class Foo():\n",
    "    def __init__(self, a ):\n",
    "        self.data = a\n",
    "        \n",
    "    def __add__(self, other):\n",
    "        obj = Foo( self.data + other.data )\n",
    "        return obj\n",
    "    \n",
    "#     def __str__(self):\n",
    "#         return str(self.data)\n",
    "    \n",
    "    def __repr__(self):\n",
    "        return str(self.data)\n",
    "\n",
    "\n",
    "f1 = Foo(1)\n",
    "f2 = Foo(2)\n",
    "print(dir(f1))\n",
    "print(f1)\n",
    "print(f2)\n",
    "print(f1 + f2)\n",
    "print(\"hello\" + \"world\")\n",
    "print(\"hello\")\n",
    "print(\"world\")\n",
    "\n",
    "f1"
   ]
  },
  {
   "cell_type": "markdown",
   "id": "cada8fa4",
   "metadata": {},
   "source": [
    "### 상속"
   ]
  },
  {
   "cell_type": "code",
   "execution_count": 91,
   "id": "b915d1eb",
   "metadata": {},
   "outputs": [
    {
     "name": "stdout",
     "output_type": "stream",
     "text": [
      "자동차가 달린다\n"
     ]
    }
   ],
   "source": [
    "class Car:\n",
    "    def run(self):\n",
    "        print(\"자동차가 달린다\")\n",
    "    \n",
    "c = Car()\n",
    "c.run()"
   ]
  },
  {
   "cell_type": "code",
   "execution_count": 93,
   "id": "1ef372c7",
   "metadata": {},
   "outputs": [
    {
     "name": "stdout",
     "output_type": "stream",
     "text": [
      "자동차가 달린다\n"
     ]
    }
   ],
   "source": [
    "class Sonata(Car):\n",
    "    pass\n",
    "    \n",
    "s = Sonata()\n",
    "s.run()"
   ]
  },
  {
   "cell_type": "markdown",
   "id": "cac215e3",
   "metadata": {},
   "source": [
    "### 오버라이딩"
   ]
  },
  {
   "cell_type": "code",
   "execution_count": 97,
   "id": "1aaa6934",
   "metadata": {},
   "outputs": [
    {
     "name": "stdout",
     "output_type": "stream",
     "text": [
      "자동차가 달린다\n",
      "소나타가 달린다\n"
     ]
    }
   ],
   "source": [
    "class Car:\n",
    "    def run(self):\n",
    "        print(\"자동차가 달린다\")\n",
    "\n",
    "c = Car()\n",
    "c.run()\n",
    "\n",
    "class Sonata(Car):\n",
    "    def run(self):\n",
    "        print(\"소나타가 달린다\")\n",
    "\n",
    "s = Sonata()\n",
    "s.run()"
   ]
  },
  {
   "cell_type": "code",
   "execution_count": 101,
   "id": "687d8180",
   "metadata": {},
   "outputs": [
    {
     "name": "stdout",
     "output_type": "stream",
     "text": [
      "Foo2.run()\n"
     ]
    }
   ],
   "source": [
    "class Foo:\n",
    "    def run(self):           # run = def (self):  print(\"Foo1.run()\")\n",
    "        print(\"Foo1.run()\")\n",
    "        \n",
    "    def run(self):           # run = def (self):  print(\"Foo2.run()\")\n",
    "        print(\"Foo2.run()\")\n",
    "\n",
    "f = Foo()\n",
    "f.run()"
   ]
  },
  {
   "cell_type": "markdown",
   "id": "5b64020e",
   "metadata": {},
   "source": [
    "### 파이썬은 오버로딩은 지원하지 않는다."
   ]
  },
  {
   "cell_type": "code",
   "execution_count": 104,
   "id": "cf4fd83f",
   "metadata": {},
   "outputs": [
    {
     "name": "stdout",
     "output_type": "stream",
     "text": [
      "Foo2.run()\n"
     ]
    }
   ],
   "source": [
    "class Foo:\n",
    "    def run(self, a):           # run = def (self, a):  print(\"Foo1.run()\")\n",
    "        print(\"Foo1.run()\")\n",
    "        \n",
    "    def run(self):              # run = def (self):  print(\"Foo2.run()\")\n",
    "        print(\"Foo2.run()\")\n",
    "\n",
    "f = Foo()\n",
    "f.run()"
   ]
  },
  {
   "cell_type": "markdown",
   "id": "96b57f76",
   "metadata": {},
   "source": [
    "### 상속시 생성자의 호출 순서"
   ]
  },
  {
   "cell_type": "code",
   "execution_count": 107,
   "id": "a7321931",
   "metadata": {},
   "outputs": [
    {
     "name": "stdout",
     "output_type": "stream",
     "text": [
      "Car.__init__()\n",
      "자동차가 달린다\n"
     ]
    }
   ],
   "source": [
    "class Car:\n",
    "    def __init__(self):\n",
    "        print(\"Car.__init__()\")\n",
    "    def run(self):\n",
    "        print(\"자동차가 달린다\")\n",
    "\n",
    "c = Car()\n",
    "c.run()"
   ]
  },
  {
   "cell_type": "code",
   "execution_count": 109,
   "id": "0d8d8b61",
   "metadata": {},
   "outputs": [
    {
     "name": "stdout",
     "output_type": "stream",
     "text": [
      "Sonata.__init__()\n",
      "소나타가 달린다\n"
     ]
    }
   ],
   "source": [
    "class Car:\n",
    "    def __init__(self):\n",
    "        print(\"Car.__init__()\")\n",
    "    def run(self):\n",
    "        print(\"자동차가 달린다\")\n",
    "\n",
    "class Sonata(Car):\n",
    "    def __init__(self):\n",
    "        print(\"Sonata.__init__()\")\n",
    "    def run(self):\n",
    "        print(\"소나타가 달린다\")\n",
    "\n",
    "s = Sonata()\n",
    "s.run()"
   ]
  },
  {
   "cell_type": "code",
   "execution_count": 114,
   "id": "56660686",
   "metadata": {},
   "outputs": [
    {
     "name": "stdout",
     "output_type": "stream",
     "text": [
      "Car.__init__()\n",
      "Sonata.__init__()\n",
      "소나타가 달린다 5\n"
     ]
    }
   ],
   "source": [
    "class Car:\n",
    "    def __init__(self):\n",
    "        print(\"Car.__init__()\")\n",
    "        self.dan = 5\n",
    "    def run(self):\n",
    "        print(\"자동차가 달린다\")\n",
    "\n",
    "class Sonata(Car):\n",
    "    def __init__(self):\n",
    "        # Car.__init__(self)\n",
    "        super().__init__()\n",
    "        print(\"Sonata.__init__()\")\n",
    "    def run(self):\n",
    "        print(\"소나타가 달린다\", self.dan)\n",
    "\n",
    "s = Sonata()\n",
    "s.run()"
   ]
  },
  {
   "cell_type": "markdown",
   "id": "89d8ba1b",
   "metadata": {},
   "source": [
    "### 다중 상속"
   ]
  },
  {
   "cell_type": "code",
   "execution_count": 115,
   "id": "260c94e0",
   "metadata": {},
   "outputs": [
    {
     "name": "stdout",
     "output_type": "stream",
     "text": [
      "자동차가 달린다.\n",
      "충전한다.\n"
     ]
    }
   ],
   "source": [
    "class Car:\n",
    "    def run(self):\n",
    "        print(\"자동차가 달린다.\")\n",
    "\n",
    "class Electric:\n",
    "    def charge(self):\n",
    "        print(\"충전한다.\")\n",
    "\n",
    "class Model3(Car, Electric):\n",
    "    pass\n",
    "\n",
    "m3 = Model3()\n",
    "m3.run()\n",
    "m3.charge()"
   ]
  }
 ],
 "metadata": {
  "kernelspec": {
   "display_name": "Python 3",
   "language": "python",
   "name": "python3"
  },
  "language_info": {
   "codemirror_mode": {
    "name": "ipython",
    "version": 3
   },
   "file_extension": ".py",
   "mimetype": "text/x-python",
   "name": "python",
   "nbconvert_exporter": "python",
   "pygments_lexer": "ipython3",
   "version": "3.8.8"
  }
 },
 "nbformat": 4,
 "nbformat_minor": 5
}
