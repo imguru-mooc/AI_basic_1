{
 "cells": [
  {
   "cell_type": "code",
   "execution_count": 7,
   "id": "3d974f48",
   "metadata": {},
   "outputs": [
    {
     "name": "stdout",
     "output_type": "stream",
     "text": [
      "hello python\n"
     ]
    }
   ],
   "source": [
    "print(\"hello python\")"
   ]
  },
  {
   "cell_type": "code",
   "execution_count": 9,
   "id": "5d2d73e0",
   "metadata": {},
   "outputs": [
    {
     "name": "stdout",
     "output_type": "stream",
     "text": [
      "Hello, Python!\n"
     ]
    }
   ],
   "source": [
    "print(\"Hello, Python!\");"
   ]
  },
  {
   "cell_type": "code",
   "execution_count": 1,
   "id": "9f4d31c1",
   "metadata": {},
   "outputs": [
    {
     "name": "stdout",
     "output_type": "stream",
     "text": [
      "Hello Python\n",
      "Hello Python\n"
     ]
    }
   ],
   "source": [
    "print(\"Hello Python\"); print(\"Hello Python\")"
   ]
  },
  {
   "cell_type": "code",
   "execution_count": 2,
   "id": "4ee65c11",
   "metadata": {},
   "outputs": [
    {
     "name": "stdout",
     "output_type": "stream",
     "text": [
      "Hello, Python!\n"
     ]
    }
   ],
   "source": [
    "# Hello, Python!\n",
    "print(\"Hello, Python!\");"
   ]
  },
  {
   "cell_type": "code",
   "execution_count": 4,
   "id": "bf5c36e4",
   "metadata": {
    "scrolled": true
   },
   "outputs": [
    {
     "name": "stdout",
     "output_type": "stream",
     "text": [
      "Hello, Python!\n",
      "123456\n"
     ]
    }
   ],
   "source": [
    "print(\"Hello, Python!\");\n",
    "print(\"123456\")"
   ]
  },
  {
   "cell_type": "code",
   "execution_count": 8,
   "id": "9989ef15",
   "metadata": {},
   "outputs": [
    {
     "name": "stdout",
     "output_type": "stream",
     "text": [
      "a는 10 입니다.\n"
     ]
    }
   ],
   "source": [
    "a = 10\n",
    "if a == 10 :\n",
    "    print(\"a는 10 입니다.\")"
   ]
  },
  {
   "cell_type": "code",
   "execution_count": 15,
   "id": "3c6d27d8",
   "metadata": {},
   "outputs": [
    {
     "name": "stdout",
     "output_type": "stream",
     "text": [
      "<class 'bool'>\n"
     ]
    }
   ],
   "source": [
    "a1 = True\n",
    "print(type(a1))"
   ]
  },
  {
   "cell_type": "code",
   "execution_count": 16,
   "id": "d5f601ff",
   "metadata": {},
   "outputs": [
    {
     "name": "stdout",
     "output_type": "stream",
     "text": [
      "1 1\n"
     ]
    }
   ],
   "source": [
    "a = 1\n",
    "b = 1\n",
    "print(a,b)"
   ]
  },
  {
   "cell_type": "code",
   "execution_count": 17,
   "id": "84b984ef",
   "metadata": {},
   "outputs": [
    {
     "name": "stdout",
     "output_type": "stream",
     "text": [
      "1.5 3.5\n"
     ]
    }
   ],
   "source": [
    "a = 1.5\n",
    "b = 3.5\n",
    "print(a,b)"
   ]
  },
  {
   "cell_type": "code",
   "execution_count": 19,
   "id": "1a68391a",
   "metadata": {},
   "outputs": [
    {
     "name": "stdout",
     "output_type": "stream",
     "text": [
      "ABC 101010\n"
     ]
    }
   ],
   "source": [
    "a = \"ABC\"\n",
    "b = \"101010\"\n",
    "print(a,b)"
   ]
  },
  {
   "cell_type": "code",
   "execution_count": 20,
   "id": "ae7cd2ef",
   "metadata": {},
   "outputs": [
    {
     "name": "stdout",
     "output_type": "stream",
     "text": [
      "True False\n"
     ]
    }
   ],
   "source": [
    "a = True\n",
    "b = False\n",
    "print(a,b)"
   ]
  },
  {
   "cell_type": "code",
   "execution_count": 21,
   "id": "7ee346ce",
   "metadata": {},
   "outputs": [
    {
     "name": "stdout",
     "output_type": "stream",
     "text": [
      "<class 'str'>\n",
      "<class 'int'>\n"
     ]
    }
   ],
   "source": [
    "a = 'hello'\n",
    "print(type(a))\n",
    "a = 10\n",
    "print(type(a))"
   ]
  },
  {
   "cell_type": "code",
   "execution_count": 24,
   "id": "43dbfb3f",
   "metadata": {},
   "outputs": [
    {
     "name": "stdout",
     "output_type": "stream",
     "text": [
      "None\n"
     ]
    }
   ],
   "source": [
    "x = None\n",
    "print(x)"
   ]
  },
  {
   "cell_type": "code",
   "execution_count": 25,
   "id": "56048ed4",
   "metadata": {},
   "outputs": [
    {
     "name": "stdout",
     "output_type": "stream",
     "text": [
      "243\n"
     ]
    }
   ],
   "source": [
    "print(3*3*3*3*3)"
   ]
  },
  {
   "cell_type": "code",
   "execution_count": 26,
   "id": "cedd6835",
   "metadata": {},
   "outputs": [
    {
     "name": "stdout",
     "output_type": "stream",
     "text": [
      "243\n"
     ]
    }
   ],
   "source": [
    "print(3**5)"
   ]
  },
  {
   "cell_type": "code",
   "execution_count": 27,
   "id": "0ff7c72b",
   "metadata": {},
   "outputs": [
    {
     "name": "stdout",
     "output_type": "stream",
     "text": [
      "3.5\n"
     ]
    }
   ],
   "source": [
    "print(7 / 2)"
   ]
  },
  {
   "cell_type": "code",
   "execution_count": 28,
   "id": "fdc554f6",
   "metadata": {},
   "outputs": [
    {
     "name": "stdout",
     "output_type": "stream",
     "text": [
      "3\n"
     ]
    }
   ],
   "source": [
    "print(7 // 2)"
   ]
  },
  {
   "cell_type": "code",
   "execution_count": 29,
   "id": "6d540e9c",
   "metadata": {},
   "outputs": [
    {
     "name": "stdout",
     "output_type": "stream",
     "text": [
      "1\n"
     ]
    }
   ],
   "source": [
    "print(7 % 2)"
   ]
  },
  {
   "cell_type": "code",
   "execution_count": 35,
   "id": "3497c8c7",
   "metadata": {},
   "outputs": [
    {
     "name": "stdout",
     "output_type": "stream",
     "text": [
      "2\n"
     ]
    }
   ],
   "source": [
    "a=1\n",
    "# a=a+1\n",
    "a += 1\n",
    "# ++a  # +(+a) , 파이썬 증감 연산자를 지원하지 않는다.\n",
    "print(a)"
   ]
  },
  {
   "cell_type": "code",
   "execution_count": 36,
   "id": "b35b0874",
   "metadata": {},
   "outputs": [
    {
     "name": "stdout",
     "output_type": "stream",
     "text": [
      "10\n"
     ]
    }
   ],
   "source": [
    "a = 10\n",
    "print(a)"
   ]
  },
  {
   "cell_type": "code",
   "execution_count": 38,
   "id": "a1503805",
   "metadata": {},
   "outputs": [
    {
     "name": "stdout",
     "output_type": "stream",
     "text": [
      "10.5\n"
     ]
    }
   ],
   "source": [
    "a = 10.5\n",
    "print(a)"
   ]
  },
  {
   "cell_type": "code",
   "execution_count": 40,
   "id": "aeb9a7ef",
   "metadata": {},
   "outputs": [
    {
     "name": "stdout",
     "output_type": "stream",
     "text": [
      "<class 'float'>\n"
     ]
    }
   ],
   "source": [
    "a = float(10)\n",
    "print(type(a))"
   ]
  },
  {
   "cell_type": "code",
   "execution_count": 41,
   "id": "10ff8209",
   "metadata": {},
   "outputs": [
    {
     "name": "stdout",
     "output_type": "stream",
     "text": [
      "<class 'int'>\n"
     ]
    }
   ],
   "source": [
    "a = int(a)\n",
    "print(type(a))"
   ]
  },
  {
   "cell_type": "code",
   "execution_count": 43,
   "id": "8fce3146",
   "metadata": {},
   "outputs": [
    {
     "name": "stdout",
     "output_type": "stream",
     "text": [
      "<class 'float'>\n"
     ]
    }
   ],
   "source": [
    "b = 3\n",
    "print(type(a/b))"
   ]
  },
  {
   "cell_type": "code",
   "execution_count": 45,
   "id": "baf155aa",
   "metadata": {},
   "outputs": [
    {
     "name": "stdout",
     "output_type": "stream",
     "text": [
      "20\n"
     ]
    }
   ],
   "source": [
    "a = 10.3\n",
    "b = 10.5\n",
    "a = int(a)\n",
    "b = int(b)\n",
    "print(a+b)"
   ]
  },
  {
   "cell_type": "code",
   "execution_count": 48,
   "id": "70a061de",
   "metadata": {},
   "outputs": [
    {
     "name": "stdout",
     "output_type": "stream",
     "text": [
      "77.3\n"
     ]
    }
   ],
   "source": [
    "a = float(\"76.3\")\n",
    "print(a+1)"
   ]
  },
  {
   "cell_type": "code",
   "execution_count": 53,
   "id": "2247bf15",
   "metadata": {},
   "outputs": [
    {
     "name": "stdout",
     "output_type": "stream",
     "text": [
      "3.143.14\n"
     ]
    }
   ],
   "source": [
    "a = str(3.14)\n",
    "b = str(a)\n",
    "print(a+b) # \"3.14\"+\"3.14\" => \"3.143.14\""
   ]
  },
  {
   "cell_type": "code",
   "execution_count": 55,
   "id": "e5a3aa54",
   "metadata": {},
   "outputs": [
    {
     "name": "stdout",
     "output_type": "stream",
     "text": [
      "<class 'float'> <class 'str'> <class 'str'> <class 'bool'>\n"
     ]
    }
   ],
   "source": [
    "a = float(10)\n",
    "b = str(10.5)\n",
    "c = \"hello\"\n",
    "d = True\n",
    "print(type(a), type(b), type(c), type(d))"
   ]
  },
  {
   "cell_type": "code",
   "execution_count": 58,
   "id": "704353ce",
   "metadata": {},
   "outputs": [
    {
     "name": "stdout",
     "output_type": "stream",
     "text": [
      "<class 'int'>\n",
      "0x7ffba2432850\n"
     ]
    }
   ],
   "source": [
    "x = 10\n",
    "print(type(x))\n",
    "print(hex(id(x)))"
   ]
  },
  {
   "cell_type": "code",
   "execution_count": 59,
   "id": "7a1e9052",
   "metadata": {},
   "outputs": [
    {
     "name": "stdout",
     "output_type": "stream",
     "text": [
      "0x7ffba2432850\n",
      "0x7ffba2432850\n"
     ]
    }
   ],
   "source": [
    "x = 10\n",
    "y = x\n",
    "print(hex(id(x)))\n",
    "print(hex(id(y)))"
   ]
  },
  {
   "cell_type": "code",
   "execution_count": 61,
   "id": "9048295d",
   "metadata": {},
   "outputs": [
    {
     "name": "stdout",
     "output_type": "stream",
     "text": [
      "0x7ffba2432830\n",
      "0x7ffba2432850\n"
     ]
    }
   ],
   "source": [
    "x = 10\n",
    "y = x\n",
    "x = x-1\n",
    "print(hex(id(x)))\n",
    "print(hex(id(y)))"
   ]
  },
  {
   "cell_type": "code",
   "execution_count": 62,
   "id": "15144f3f",
   "metadata": {},
   "outputs": [
    {
     "name": "stdout",
     "output_type": "stream",
     "text": [
      "0x7ffba2432850\n",
      "0x7ffba2432850\n"
     ]
    }
   ],
   "source": [
    "z = 10\n",
    "print(hex(id(y)))\n",
    "print(hex(id(z)))"
   ]
  },
  {
   "cell_type": "code",
   "execution_count": 63,
   "id": "922f2ce4",
   "metadata": {},
   "outputs": [
    {
     "name": "stdout",
     "output_type": "stream",
     "text": [
      "0x7ffba2432850\n",
      "0x2a23d9c7570\n"
     ]
    }
   ],
   "source": [
    "z = 'hello'\n",
    "print(hex(id(y)))\n",
    "print(hex(id(z)))"
   ]
  },
  {
   "cell_type": "code",
   "execution_count": 78,
   "id": "f4fb073e",
   "metadata": {},
   "outputs": [
    {
     "name": "stdout",
     "output_type": "stream",
     "text": [
      "0x2a23bb82f30\n",
      "30\n"
     ]
    }
   ],
   "source": [
    "import sys\n",
    "\n",
    "x = 'python'\n",
    "y = x\n",
    "z = y\n",
    "del x\n",
    "print(hex(id(z)))\n",
    "print(sys.getrefcount(z))"
   ]
  },
  {
   "cell_type": "code",
   "execution_count": 81,
   "id": "ba150d7c",
   "metadata": {},
   "outputs": [
    {
     "name": "stdout",
     "output_type": "stream",
     "text": [
      "이름 입력 : \n",
      "홍길동\n",
      "홍길동\n"
     ]
    }
   ],
   "source": [
    "print(\"이름 입력 : \")\n",
    "a = input()\n",
    "print(a)"
   ]
  },
  {
   "cell_type": "code",
   "execution_count": 84,
   "id": "7b72e607",
   "metadata": {},
   "outputs": [
    {
     "name": "stdout",
     "output_type": "stream",
     "text": [
      "숫자 입력 : \n",
      "10\n",
      "11\n"
     ]
    }
   ],
   "source": [
    "print(\"숫자 입력 : \")\n",
    "a = int(input())\n",
    "print(a + 1)"
   ]
  },
  {
   "cell_type": "code",
   "execution_count": 94,
   "id": "ac54bad7",
   "metadata": {},
   "outputs": [
    {
     "name": "stdout",
     "output_type": "stream",
     "text": [
      "숫자입력 : 10,20\n",
      "30\n"
     ]
    }
   ],
   "source": [
    "a, b = input(\"숫자입력 : \").split(\",\")\n",
    "a = int(a)\n",
    "b = int(b)\n",
    "print(a+b)"
   ]
  },
  {
   "cell_type": "code",
   "execution_count": 97,
   "id": "8f525046",
   "metadata": {},
   "outputs": [
    {
     "name": "stdout",
     "output_type": "stream",
     "text": [
      "숫자입력 => 10,20\n",
      "30\n"
     ]
    }
   ],
   "source": [
    "a, b = map(int,input(\"숫자입력 => \").split(\",\"))\n",
    "print(a+b)"
   ]
  },
  {
   "cell_type": "code",
   "execution_count": 98,
   "id": "e6e4226b",
   "metadata": {},
   "outputs": [
    {
     "name": "stdout",
     "output_type": "stream",
     "text": [
      "1 2 3\n"
     ]
    }
   ],
   "source": [
    "print(1,2,3)"
   ]
  },
  {
   "cell_type": "code",
   "execution_count": 99,
   "id": "bea184c0",
   "metadata": {},
   "outputs": [
    {
     "name": "stdout",
     "output_type": "stream",
     "text": [
      "Hello Python\n"
     ]
    }
   ],
   "source": [
    "print(\"Hello\",\"Python\")"
   ]
  },
  {
   "cell_type": "code",
   "execution_count": 110,
   "id": "3e32b2b6",
   "metadata": {},
   "outputs": [
    {
     "name": "stdout",
     "output_type": "stream",
     "text": [
      "1 2 3\n"
     ]
    }
   ],
   "source": [
    "print(1,2,3,sep=\" \")"
   ]
  },
  {
   "cell_type": "code",
   "execution_count": 111,
   "id": "9c3eb684",
   "metadata": {},
   "outputs": [
    {
     "name": "stdout",
     "output_type": "stream",
     "text": [
      "1\n",
      "2\n",
      "3\n"
     ]
    }
   ],
   "source": [
    "print(1)\n",
    "print(2)\n",
    "print(3)"
   ]
  },
  {
   "cell_type": "code",
   "execution_count": 112,
   "id": "a88037bd",
   "metadata": {},
   "outputs": [
    {
     "name": "stdout",
     "output_type": "stream",
     "text": [
      "1 2 3\n"
     ]
    }
   ],
   "source": [
    "print(1, end=' ')\n",
    "print(2, end=' ')\n",
    "print(3)"
   ]
  },
  {
   "cell_type": "code",
   "execution_count": 114,
   "id": "ac49d227",
   "metadata": {},
   "outputs": [
    {
     "name": "stdout",
     "output_type": "stream",
     "text": [
      "1,2,3\t4,5,6\n"
     ]
    }
   ],
   "source": [
    "print(1,2,3,sep=\",\", end=\"\\t\")\n",
    "print(4,5,6,sep=\",\")"
   ]
  },
  {
   "cell_type": "code",
   "execution_count": 116,
   "id": "5b335f95",
   "metadata": {},
   "outputs": [
    {
     "name": "stdout",
     "output_type": "stream",
     "text": [
      "1 2 3\n",
      "123\n"
     ]
    }
   ],
   "source": [
    "print(1,2,3)\n",
    "print(\"1\"+\"2\"+\"3\")"
   ]
  },
  {
   "cell_type": "code",
   "execution_count": 123,
   "id": "06e442ff",
   "metadata": {},
   "outputs": [
    {
     "name": "stdout",
     "output_type": "stream",
     "text": [
      "1 2 3\n"
     ]
    }
   ],
   "source": [
    "print(\"%d %d %d\"%(1,2,3))"
   ]
  },
  {
   "cell_type": "code",
   "execution_count": 127,
   "id": "9280ce72",
   "metadata": {},
   "outputs": [
    {
     "name": "stdout",
     "output_type": "stream",
     "text": [
      "a b c\n"
     ]
    }
   ],
   "source": [
    "print(\"{} {} {}\".format(\"a\",\"b\",\"c\"))"
   ]
  },
  {
   "cell_type": "code",
   "execution_count": 128,
   "id": "064e63d1",
   "metadata": {},
   "outputs": [
    {
     "name": "stdout",
     "output_type": "stream",
     "text": [
      "one two\n"
     ]
    }
   ],
   "source": [
    "print(\"%s %s\"%(\"one\", \"two\"))"
   ]
  },
  {
   "cell_type": "code",
   "execution_count": 129,
   "id": "522f13f2",
   "metadata": {},
   "outputs": [
    {
     "name": "stdout",
     "output_type": "stream",
     "text": [
      "one two\n"
     ]
    }
   ],
   "source": [
    "print(\"{} {}\".format(\"one\", \"two\"))"
   ]
  },
  {
   "cell_type": "code",
   "execution_count": 131,
   "id": "e2ef6785",
   "metadata": {},
   "outputs": [
    {
     "name": "stdout",
     "output_type": "stream",
     "text": [
      "1 2\n"
     ]
    }
   ],
   "source": [
    "print(\"%d %d\"%(1, 2))"
   ]
  },
  {
   "cell_type": "code",
   "execution_count": 132,
   "id": "e3b4b1fa",
   "metadata": {},
   "outputs": [
    {
     "name": "stdout",
     "output_type": "stream",
     "text": [
      "1 2\n"
     ]
    }
   ],
   "source": [
    "print(\"{} {}\".format(1, 2))"
   ]
  },
  {
   "cell_type": "code",
   "execution_count": 133,
   "id": "bfdbe204",
   "metadata": {},
   "outputs": [
    {
     "name": "stdout",
     "output_type": "stream",
     "text": [
      "1 hello 3.140000\n"
     ]
    }
   ],
   "source": [
    "print(\"%d %s %f\"%(1, \"hello\", 3.14) )"
   ]
  },
  {
   "cell_type": "code",
   "execution_count": 136,
   "id": "148f6df1",
   "metadata": {},
   "outputs": [
    {
     "name": "stdout",
     "output_type": "stream",
     "text": [
      "   1   2\n"
     ]
    }
   ],
   "source": [
    "print(\"%4d%4d\"%(1, 2)) # width=4"
   ]
  },
  {
   "cell_type": "code",
   "execution_count": 139,
   "id": "5959f99f",
   "metadata": {},
   "outputs": [
    {
     "name": "stdout",
     "output_type": "stream",
     "text": [
      "   1    2\n",
      "  10   22\n"
     ]
    }
   ],
   "source": [
    "print(\"%4d %4d\"%(1, 2))   # width=4\n",
    "print(\"%4d %4d\"%(10, 22)) # width=4"
   ]
  },
  {
   "cell_type": "code",
   "execution_count": 144,
   "id": "5a54675f",
   "metadata": {},
   "outputs": [
    {
     "name": "stdout",
     "output_type": "stream",
     "text": [
      "       1.1        2.2\n",
      "      10.1       20.2\n"
     ]
    }
   ],
   "source": [
    "print(\"%10.1f %10.1f\"%(1.1, 2.2))   # width=4\n",
    "print(\"%10.1f %10.1f\"%(10.1, 20.2))   # width=4"
   ]
  },
  {
   "cell_type": "code",
   "execution_count": 146,
   "id": "1c46fbfc",
   "metadata": {},
   "outputs": [
    {
     "name": "stdout",
     "output_type": "stream",
     "text": [
      "10 12 a\n"
     ]
    }
   ],
   "source": [
    "print(\"%d %o %x\"%(10, 10, 10))"
   ]
  },
  {
   "cell_type": "code",
   "execution_count": 148,
   "id": "072e863e",
   "metadata": {},
   "outputs": [
    {
     "name": "stdout",
     "output_type": "stream",
     "text": [
      "99%\n"
     ]
    }
   ],
   "source": [
    "print(\"%d%%\"%(99))"
   ]
  },
  {
   "cell_type": "code",
   "execution_count": 149,
   "id": "ab44567f",
   "metadata": {},
   "outputs": [
    {
     "name": "stdout",
     "output_type": "stream",
     "text": [
      "홍길동 33\n"
     ]
    }
   ],
   "source": [
    "print(\"{} {}\".format(\"홍길동\", 33))"
   ]
  },
  {
   "cell_type": "code",
   "execution_count": 150,
   "id": "af55f1b4",
   "metadata": {},
   "outputs": [
    {
     "name": "stdout",
     "output_type": "stream",
     "text": [
      "홍길동 33\n"
     ]
    }
   ],
   "source": [
    "print(\"{0} {1}\".format(\"홍길동\", 33))"
   ]
  },
  {
   "cell_type": "code",
   "execution_count": 152,
   "id": "ee399cfd",
   "metadata": {},
   "outputs": [
    {
     "name": "stdout",
     "output_type": "stream",
     "text": [
      "33 홍길동\n"
     ]
    }
   ],
   "source": [
    "print(\"{1} {0}\".format(\"홍길동\", 33))"
   ]
  },
  {
   "cell_type": "code",
   "execution_count": 159,
   "id": "f270cc11",
   "metadata": {},
   "outputs": [
    {
     "name": "stdout",
     "output_type": "stream",
     "text": [
      "[     3.140]\n"
     ]
    }
   ],
   "source": [
    "print(\"[{0:10.3f}]\".format(3.14))"
   ]
  },
  {
   "cell_type": "code",
   "execution_count": 160,
   "id": "e7590cc5",
   "metadata": {},
   "outputs": [
    {
     "name": "stdout",
     "output_type": "stream",
     "text": [
      "123   123 00123 +123\n"
     ]
    }
   ],
   "source": [
    "print(\"%2d %5d %05d %+d\"%(123,123,123,123))"
   ]
  },
  {
   "cell_type": "code",
   "execution_count": 170,
   "id": "c6ca942f",
   "metadata": {},
   "outputs": [
    {
     "name": "stdout",
     "output_type": "stream",
     "text": [
      "[       100 200]\n"
     ]
    }
   ],
   "source": [
    "a = 100\n",
    "b = 200\n",
    "print(\"[{0:>10d} {1}]\".format(a, b))"
   ]
  },
  {
   "cell_type": "code",
   "execution_count": 178,
   "id": "e10cbcd0",
   "metadata": {},
   "outputs": [
    {
     "name": "stdout",
     "output_type": "stream",
     "text": [
      "물건값, 지불금액 입력:5430 10000\n",
      "5000원 0개\n",
      "1000원 4개\n",
      " 500원 1개\n",
      " 100원 0개\n",
      "  50원 1개\n",
      "  10원 2개\n"
     ]
    }
   ],
   "source": [
    "price, money = map(int, input(\"물건값, 지불금액 입력:\").split())\n",
    "change = money - price\n",
    "print(\"%4d원 %d개\"%(5000, change//5000))\n",
    "change = change % 5000\n",
    "print(\"%4d원 %d개\"%(1000, change//1000))\n",
    "change = change % 1000\n",
    "print(\"%4d원 %d개\"%(500, change//500))\n",
    "change = change % 500\n",
    "print(\"%4d원 %d개\"%(100,  change//100))\n",
    "change = change % 100\n",
    "print(\"%4d원 %d개\"%(50, change//50))\n",
    "change = change % 50\n",
    "print(\"%4d원 %d개\"%(10, change//10))"
   ]
  },
  {
   "cell_type": "code",
   "execution_count": null,
   "id": "767ee38b",
   "metadata": {},
   "outputs": [],
   "source": []
  }
 ],
 "metadata": {
  "kernelspec": {
   "display_name": "Python 3",
   "language": "python",
   "name": "python3"
  },
  "language_info": {
   "codemirror_mode": {
    "name": "ipython",
    "version": 3
   },
   "file_extension": ".py",
   "mimetype": "text/x-python",
   "name": "python",
   "nbconvert_exporter": "python",
   "pygments_lexer": "ipython3",
   "version": "3.8.8"
  }
 },
 "nbformat": 4,
 "nbformat_minor": 5
}
