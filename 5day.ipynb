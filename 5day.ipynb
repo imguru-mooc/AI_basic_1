{
 "cells": [
  {
   "cell_type": "markdown",
   "id": "5021e825",
   "metadata": {},
   "source": [
    "연습문제 9 ( 대각선 배열 채우기 )"
   ]
  },
  {
   "cell_type": "code",
   "execution_count": 1,
   "id": "f41758c3",
   "metadata": {},
   "outputs": [
    {
     "name": "stdout",
     "output_type": "stream",
     "text": [
      "   1   3   6  10  15\n",
      "   2   5   9  14   0\n",
      "   4   8  13   0   0\n",
      "   7  12   0   0   0\n",
      "  11   0   0   0   0\n"
     ]
    }
   ],
   "source": [
    "n = 5\n",
    "a = [[0,0,0,0,0],\n",
    "     [0,0,0,0,0],\n",
    "     [0,0,0,0,0],\n",
    "     [0,0,0,0,0],\n",
    "     [0,0,0,0,0]]\n",
    "\n",
    "count=1\n",
    "for i in range(n):\n",
    "    for j in range(i+1):\n",
    "        a[i-j][j] = count\n",
    "        count += 1\n",
    "        \n",
    "for i in range(n):\n",
    "    for j in range(n):\n",
    "        print( \"%4d\"% a[i][j], end=\"\")\n",
    "    print()"
   ]
  },
  {
   "cell_type": "code",
   "execution_count": 3,
   "id": "73014766",
   "metadata": {},
   "outputs": [
    {
     "name": "stdout",
     "output_type": "stream",
     "text": [
      "   1   3   6  10  15\n",
      "   2   5   9  14  19\n",
      "   4   8  13  18  22\n",
      "   7  12  17  21  24\n",
      "  11  16  20  23  25\n"
     ]
    }
   ],
   "source": [
    "n = 5\n",
    "a = [[0,0,0,0,0],\n",
    "     [0,0,0,0,0],\n",
    "     [0,0,0,0,0],\n",
    "     [0,0,0,0,0],\n",
    "     [0,0,0,0,0]]\n",
    "\n",
    "count=1\n",
    "for i in range(n*2-1):\n",
    "    for j in range(n):\n",
    "        for k in range(n):\n",
    "            if(j+k==i):\n",
    "                a[k][j] = count\n",
    "                count += 1\n",
    "        \n",
    "for i in range(n):\n",
    "    for j in range(n):\n",
    "        print( \"%4d\"% a[i][j], end=\"\")\n",
    "    print()"
   ]
  },
  {
   "cell_type": "markdown",
   "id": "e770ea94",
   "metadata": {},
   "source": [
    "연습문제 10번 (달팽이 배열 채우기)"
   ]
  },
  {
   "cell_type": "code",
   "execution_count": 10,
   "id": "bd85f5d0",
   "metadata": {},
   "outputs": [
    {
     "name": "stdout",
     "output_type": "stream",
     "text": [
      "   1   2   3   4   5\n",
      "  16  17  18  19   6\n",
      "  15  24  25  20   7\n",
      "  14  23  22  21   8\n",
      "  13  12  11  10   9\n"
     ]
    }
   ],
   "source": [
    "n = 5\n",
    "a = [[0,0,0,0,0],\n",
    "     [0,0,0,0,0],\n",
    "     [0,0,0,0,0],\n",
    "     [0,0,0,0,0],\n",
    "     [0,0,0,0,0]]\n",
    "num=n\n",
    "count=1\n",
    "r = 0\n",
    "c = -1\n",
    "while True:\n",
    "    for i in range(num):\n",
    "        c+=1\n",
    "        a[r][c] = count\n",
    "        count += 1\n",
    "\n",
    "    num -= 1\n",
    "    if num == 0 :\n",
    "        break\n",
    "\n",
    "    for i in range(num):\n",
    "        r+=1\n",
    "        a[r][c] = count\n",
    "        count += 1\n",
    "\n",
    "    for i in range(num):\n",
    "        c-=1\n",
    "        a[r][c] = count\n",
    "        count += 1\n",
    "\n",
    "    num -= 1\n",
    "    if num == 0 :\n",
    "        break\n",
    "\n",
    "    for i in range(num):\n",
    "        r-=1\n",
    "        a[r][c] = count\n",
    "        count += 1\n",
    "  \n",
    "for i in range(n):\n",
    "    for j in range(n):\n",
    "        print( \"%4d\"% a[i][j], end=\"\")\n",
    "    print()\n"
   ]
  },
  {
   "cell_type": "code",
   "execution_count": 11,
   "id": "a1968238",
   "metadata": {
    "scrolled": true
   },
   "outputs": [
    {
     "name": "stdout",
     "output_type": "stream",
     "text": [
      "   1   2   3   4   5\n",
      "  16  17  18  19   6\n",
      "  15  24  25  20   7\n",
      "  14  23  22  21   8\n",
      "  13  12  11  10   9\n"
     ]
    }
   ],
   "source": [
    "n = 5\n",
    "a = [[0,0,0,0,0],\n",
    "     [0,0,0,0,0],\n",
    "     [0,0,0,0,0],\n",
    "     [0,0,0,0,0],\n",
    "     [0,0,0,0,0]]\n",
    "num=n\n",
    "count=1\n",
    "r = 0\n",
    "c = -1\n",
    "s = 1\n",
    "while True:\n",
    "    for i in range(num):\n",
    "        c+=s\n",
    "        a[r][c] = count\n",
    "        count += 1\n",
    "\n",
    "    num -= 1\n",
    "    if num == 0 :\n",
    "        break\n",
    "\n",
    "    for i in range(num):\n",
    "        r+=s\n",
    "        a[r][c] = count\n",
    "        count += 1\n",
    "    s = -s\n",
    "  \n",
    "for i in range(n):\n",
    "    for j in range(n):\n",
    "        print( \"%4d\"% a[i][j], end=\"\")\n",
    "    print()\n"
   ]
  },
  {
   "cell_type": "markdown",
   "id": "5ee30359",
   "metadata": {},
   "source": [
    "### 리스트 응용"
   ]
  },
  {
   "cell_type": "code",
   "execution_count": 12,
   "id": "c8522262",
   "metadata": {},
   "outputs": [
    {
     "name": "stdout",
     "output_type": "stream",
     "text": [
      "[10, 20, 30, 500]\n"
     ]
    }
   ],
   "source": [
    "a = [10, 20, 30]\n",
    "a.append(500)\n",
    "print(a)"
   ]
  },
  {
   "cell_type": "code",
   "execution_count": 15,
   "id": "e67d1edc",
   "metadata": {},
   "outputs": [
    {
     "name": "stdout",
     "output_type": "stream",
     "text": [
      "[10, 20, 30, 40, 500]\n"
     ]
    }
   ],
   "source": [
    "a = [10, 20, 30, 40]\n",
    "a[len(a):] = [500]\n",
    "print(a)"
   ]
  },
  {
   "cell_type": "code",
   "execution_count": 16,
   "id": "27312aa1",
   "metadata": {},
   "outputs": [
    {
     "name": "stdout",
     "output_type": "stream",
     "text": [
      "[10, 20, 30, [500, 600]]\n"
     ]
    }
   ],
   "source": [
    "a = [10, 20, 30]\n",
    "a.append([500,600])\n",
    "print(a)"
   ]
  },
  {
   "cell_type": "code",
   "execution_count": 18,
   "id": "beafc06f",
   "metadata": {},
   "outputs": [
    {
     "name": "stdout",
     "output_type": "stream",
     "text": [
      "[10, 20, 30, [500, 600]]\n"
     ]
    }
   ],
   "source": [
    "a = [10, 20 ,30]\n",
    "a[len(a):] = [[500,600]]\n",
    "print(a)"
   ]
  },
  {
   "cell_type": "code",
   "execution_count": 19,
   "id": "0a9e89b0",
   "metadata": {},
   "outputs": [
    {
     "name": "stdout",
     "output_type": "stream",
     "text": [
      "[10, 20, 30, 500, 600]\n"
     ]
    }
   ],
   "source": [
    "a = [10, 20, 30]\n",
    "a.extend([500,600])\n",
    "print(a)"
   ]
  },
  {
   "cell_type": "code",
   "execution_count": 20,
   "id": "8a3e90b9",
   "metadata": {},
   "outputs": [
    {
     "name": "stdout",
     "output_type": "stream",
     "text": [
      "[10, 20, 30, 500, 600]\n"
     ]
    }
   ],
   "source": [
    "a = [10, 20 ,30]\n",
    "a[len(a):] = [500,600]\n",
    "print(a)"
   ]
  },
  {
   "cell_type": "code",
   "execution_count": 22,
   "id": "74265638",
   "metadata": {},
   "outputs": [
    {
     "name": "stdout",
     "output_type": "stream",
     "text": [
      "[10, 20, 30, 500, 510, 520, 530, 540, 550, 560, 570, 580, 590, 600]\n"
     ]
    }
   ],
   "source": [
    "a = [10, 20 ,30]\n",
    "a[len(a):] = range(500,601,10)\n",
    "print(a)"
   ]
  },
  {
   "cell_type": "code",
   "execution_count": 23,
   "id": "c89018c4",
   "metadata": {},
   "outputs": [
    {
     "name": "stdout",
     "output_type": "stream",
     "text": [
      "[10, 20, 500, 30]\n"
     ]
    }
   ],
   "source": [
    "a = [10, 20 ,30]\n",
    "a.insert(2, 500)\n",
    "print(a)"
   ]
  },
  {
   "cell_type": "code",
   "execution_count": 24,
   "id": "9c69aa10",
   "metadata": {},
   "outputs": [
    {
     "name": "stdout",
     "output_type": "stream",
     "text": [
      "[500, 10, 20, 30]\n"
     ]
    }
   ],
   "source": [
    "a = [10, 20 ,30]\n",
    "a.insert(0, 500)\n",
    "print(a)"
   ]
  },
  {
   "cell_type": "code",
   "execution_count": 25,
   "id": "d7ff0eb2",
   "metadata": {},
   "outputs": [
    {
     "name": "stdout",
     "output_type": "stream",
     "text": [
      "[10, 20, 30, 500]\n"
     ]
    }
   ],
   "source": [
    "a = [10, 20 ,30]\n",
    "a.insert(len(a), 500)\n",
    "print(a)"
   ]
  },
  {
   "cell_type": "code",
   "execution_count": 27,
   "id": "cf5a37b2",
   "metadata": {},
   "outputs": [
    {
     "name": "stdout",
     "output_type": "stream",
     "text": [
      "[10, [500, 600], 20, 30]\n"
     ]
    }
   ],
   "source": [
    "a = [10, 20 ,30]\n",
    "a.insert(1, [500,600])\n",
    "print(a)"
   ]
  },
  {
   "cell_type": "code",
   "execution_count": 32,
   "id": "5110787d",
   "metadata": {},
   "outputs": [
    {
     "name": "stdout",
     "output_type": "stream",
     "text": [
      "[10, 500, 600, 20, 30]\n"
     ]
    }
   ],
   "source": [
    "a = [10, 20, 30]\n",
    "a[1:1] = [500, 600]\n",
    "print(a)"
   ]
  },
  {
   "cell_type": "code",
   "execution_count": 33,
   "id": "c89e21fc",
   "metadata": {},
   "outputs": [
    {
     "name": "stdout",
     "output_type": "stream",
     "text": [
      "[10, 30]\n"
     ]
    }
   ],
   "source": [
    "a = [10, 20, 30]\n",
    "a.remove(20)\n",
    "print(a)"
   ]
  },
  {
   "cell_type": "code",
   "execution_count": 35,
   "id": "ac51a8e3",
   "metadata": {},
   "outputs": [
    {
     "name": "stdout",
     "output_type": "stream",
     "text": [
      "[10, 30, 20]\n",
      "[10, 30]\n"
     ]
    }
   ],
   "source": [
    "a = [10, 20, 30, 20]\n",
    "a.remove(20)\n",
    "print(a)\n",
    "a.remove(20)\n",
    "print(a)"
   ]
  },
  {
   "cell_type": "code",
   "execution_count": 36,
   "id": "007823be",
   "metadata": {},
   "outputs": [
    {
     "name": "stdout",
     "output_type": "stream",
     "text": [
      "[10, 20]\n"
     ]
    }
   ],
   "source": [
    "a = [10, 20, 30]\n",
    "a.pop()\n",
    "print(a)"
   ]
  },
  {
   "cell_type": "code",
   "execution_count": 37,
   "id": "6b5ab683",
   "metadata": {},
   "outputs": [
    {
     "name": "stdout",
     "output_type": "stream",
     "text": [
      "[10, 30]\n"
     ]
    }
   ],
   "source": [
    "a = [10, 20, 30]\n",
    "a.pop(1)\n",
    "print(a)"
   ]
  },
  {
   "cell_type": "code",
   "execution_count": 38,
   "id": "b2a4e920",
   "metadata": {},
   "outputs": [
    {
     "name": "stdout",
     "output_type": "stream",
     "text": [
      "[10, 20]\n"
     ]
    }
   ],
   "source": [
    "a = [10, 20, 30]\n",
    "del a[len(a)-1]\n",
    "print(a)"
   ]
  },
  {
   "cell_type": "code",
   "execution_count": 39,
   "id": "222770ad",
   "metadata": {
    "scrolled": true
   },
   "outputs": [
    {
     "name": "stdout",
     "output_type": "stream",
     "text": [
      "[10, 30]\n"
     ]
    }
   ],
   "source": [
    "a = [10, 20, 30]\n",
    "del a[1]\n",
    "print(a)"
   ]
  },
  {
   "cell_type": "code",
   "execution_count": 40,
   "id": "6536bb6a",
   "metadata": {},
   "outputs": [
    {
     "name": "stdout",
     "output_type": "stream",
     "text": [
      "[]\n"
     ]
    }
   ],
   "source": [
    "a = [10, 20, 30]\n",
    "a.clear()\n",
    "print(a)"
   ]
  },
  {
   "cell_type": "code",
   "execution_count": 43,
   "id": "6ddbeb37",
   "metadata": {},
   "outputs": [
    {
     "data": {
      "text/plain": [
       "0"
      ]
     },
     "execution_count": 43,
     "metadata": {},
     "output_type": "execute_result"
    }
   ],
   "source": [
    "a = [10, 20, 30]\n",
    "a.index(10)"
   ]
  },
  {
   "cell_type": "code",
   "execution_count": 44,
   "id": "549787d1",
   "metadata": {},
   "outputs": [
    {
     "data": {
      "text/plain": [
       "2"
      ]
     },
     "execution_count": 44,
     "metadata": {},
     "output_type": "execute_result"
    }
   ],
   "source": [
    "a = [10, 20, 30, 20, 40]\n",
    "a.count(20)"
   ]
  },
  {
   "cell_type": "code",
   "execution_count": 45,
   "id": "051dbf63",
   "metadata": {},
   "outputs": [
    {
     "name": "stdout",
     "output_type": "stream",
     "text": [
      "[10, 15, 20, 20, 30, 40]\n"
     ]
    }
   ],
   "source": [
    "a = [10,20,30,15,20,40]\n",
    "a.sort()\n",
    "print(a)"
   ]
  },
  {
   "cell_type": "code",
   "execution_count": 46,
   "id": "514cef8d",
   "metadata": {},
   "outputs": [
    {
     "name": "stdout",
     "output_type": "stream",
     "text": [
      "[40, 30, 20, 20, 15, 10]\n"
     ]
    }
   ],
   "source": [
    "a = [10,20,30,15,20,40]\n",
    "a.sort(reverse=True)\n",
    "print(a)"
   ]
  },
  {
   "cell_type": "code",
   "execution_count": 47,
   "id": "37736704",
   "metadata": {},
   "outputs": [
    {
     "name": "stdout",
     "output_type": "stream",
     "text": [
      "[40, 20, 15, 30, 20, 10]\n"
     ]
    }
   ],
   "source": [
    "a = [10,20,30,15,20,40]\n",
    "a.reverse()\n",
    "print(a)"
   ]
  },
  {
   "cell_type": "markdown",
   "id": "ee98d849",
   "metadata": {},
   "source": [
    "#### 리스트의 할당과 복사"
   ]
  },
  {
   "cell_type": "code",
   "execution_count": 49,
   "id": "f03c81fd",
   "metadata": {},
   "outputs": [
    {
     "name": "stdout",
     "output_type": "stream",
     "text": [
      "[0, 0, 0, 0, 0]\n",
      "[0, 0, 0, 0, 0]\n"
     ]
    }
   ],
   "source": [
    "a = [0, 0, 0, 0, 0]\n",
    "b = a\n",
    "print(a)\n",
    "print(b)"
   ]
  },
  {
   "cell_type": "code",
   "execution_count": 51,
   "id": "f141bd7a",
   "metadata": {},
   "outputs": [
    {
     "name": "stdout",
     "output_type": "stream",
     "text": [
      "[0, 0, 99, 0, 0]\n",
      "[0, 0, 99, 0, 0]\n"
     ]
    }
   ],
   "source": [
    "b[2] = 99\n",
    "print(b)\n",
    "print(a)"
   ]
  },
  {
   "cell_type": "code",
   "execution_count": 52,
   "id": "106da0c8",
   "metadata": {},
   "outputs": [
    {
     "data": {
      "text/plain": [
       "True"
      ]
     },
     "execution_count": 52,
     "metadata": {},
     "output_type": "execute_result"
    }
   ],
   "source": [
    "a is b"
   ]
  },
  {
   "cell_type": "code",
   "execution_count": 54,
   "id": "643b20b1",
   "metadata": {
    "scrolled": true
   },
   "outputs": [
    {
     "name": "stdout",
     "output_type": "stream",
     "text": [
      "0x1be90934500\n",
      "0x1be90934500\n"
     ]
    }
   ],
   "source": [
    "print(hex(id(a)))\n",
    "print(hex(id(b)))"
   ]
  },
  {
   "cell_type": "code",
   "execution_count": 55,
   "id": "80ba5a54",
   "metadata": {},
   "outputs": [
    {
     "name": "stdout",
     "output_type": "stream",
     "text": [
      "[0, 0, 0, 0, 0]\n",
      "[0, 0, 0, 0, 0]\n"
     ]
    }
   ],
   "source": [
    "a = [0, 0, 0, 0, 0]\n",
    "b = a.copy()\n",
    "print(a)\n",
    "print(b)"
   ]
  },
  {
   "cell_type": "code",
   "execution_count": 56,
   "id": "f87e5f69",
   "metadata": {},
   "outputs": [
    {
     "name": "stdout",
     "output_type": "stream",
     "text": [
      "[0, 0, 99, 0, 0]\n",
      "[0, 0, 0, 0, 0]\n"
     ]
    }
   ],
   "source": [
    "b[2] = 99\n",
    "print(b)\n",
    "print(a)"
   ]
  },
  {
   "cell_type": "code",
   "execution_count": 57,
   "id": "9ed5abfe",
   "metadata": {},
   "outputs": [
    {
     "data": {
      "text/plain": [
       "False"
      ]
     },
     "execution_count": 57,
     "metadata": {},
     "output_type": "execute_result"
    }
   ],
   "source": [
    "a is b"
   ]
  },
  {
   "cell_type": "code",
   "execution_count": 58,
   "id": "7fe444fa",
   "metadata": {},
   "outputs": [
    {
     "name": "stdout",
     "output_type": "stream",
     "text": [
      "0x1be9090fa40\n",
      "0x1be9090fcc0\n"
     ]
    }
   ],
   "source": [
    "print(hex(id(a)))\n",
    "print(hex(id(b)))"
   ]
  },
  {
   "cell_type": "code",
   "execution_count": 59,
   "id": "4d6b956f",
   "metadata": {},
   "outputs": [
    {
     "data": {
      "text/plain": [
       "2"
      ]
     },
     "execution_count": 59,
     "metadata": {},
     "output_type": "execute_result"
    }
   ],
   "source": [
    "fruits = ['orange', 'apple', 'pear', 'banana', 'kiwi', 'apple', 'banana']\n",
    "fruits.count('apple')"
   ]
  },
  {
   "cell_type": "code",
   "execution_count": 60,
   "id": "37d71d48",
   "metadata": {},
   "outputs": [
    {
     "data": {
      "text/plain": [
       "0"
      ]
     },
     "execution_count": 60,
     "metadata": {},
     "output_type": "execute_result"
    }
   ],
   "source": [
    "fruits.count('tangerine')"
   ]
  },
  {
   "cell_type": "code",
   "execution_count": 61,
   "id": "9a0013d1",
   "metadata": {},
   "outputs": [
    {
     "data": {
      "text/plain": [
       "3"
      ]
     },
     "execution_count": 61,
     "metadata": {},
     "output_type": "execute_result"
    }
   ],
   "source": [
    "fruits.index('banana')"
   ]
  },
  {
   "cell_type": "code",
   "execution_count": 62,
   "id": "26c22000",
   "metadata": {},
   "outputs": [
    {
     "data": {
      "text/plain": [
       "6"
      ]
     },
     "execution_count": 62,
     "metadata": {},
     "output_type": "execute_result"
    }
   ],
   "source": [
    "fruits.index('banana', 4)"
   ]
  },
  {
   "cell_type": "code",
   "execution_count": 63,
   "id": "dd590c07",
   "metadata": {},
   "outputs": [
    {
     "data": {
      "text/plain": [
       "['banana', 'apple', 'kiwi', 'banana', 'pear', 'apple', 'orange']"
      ]
     },
     "execution_count": 63,
     "metadata": {},
     "output_type": "execute_result"
    }
   ],
   "source": [
    "fruits.reverse()\n",
    "fruits"
   ]
  },
  {
   "cell_type": "code",
   "execution_count": 64,
   "id": "cf00d547",
   "metadata": {},
   "outputs": [
    {
     "data": {
      "text/plain": [
       "['banana', 'apple', 'kiwi', 'banana', 'pear', 'apple', 'orange', 'grape']"
      ]
     },
     "execution_count": 64,
     "metadata": {},
     "output_type": "execute_result"
    }
   ],
   "source": [
    "fruits.append('grape')\n",
    "fruits"
   ]
  },
  {
   "cell_type": "code",
   "execution_count": 65,
   "id": "ac435c32",
   "metadata": {},
   "outputs": [
    {
     "data": {
      "text/plain": [
       "['apple', 'apple', 'banana', 'banana', 'grape', 'kiwi', 'orange', 'pear']"
      ]
     },
     "execution_count": 65,
     "metadata": {},
     "output_type": "execute_result"
    }
   ],
   "source": [
    "fruits.sort()\n",
    "fruits"
   ]
  },
  {
   "cell_type": "code",
   "execution_count": 66,
   "id": "c7e1774d",
   "metadata": {},
   "outputs": [
    {
     "data": {
      "text/plain": [
       "['apple', 'apple', 'banana', 'banana', 'grape', 'kiwi', 'orange']"
      ]
     },
     "execution_count": 66,
     "metadata": {},
     "output_type": "execute_result"
    }
   ],
   "source": [
    "fruits.pop()\n",
    "fruits"
   ]
  },
  {
   "cell_type": "markdown",
   "id": "ba120d85",
   "metadata": {},
   "source": [
    "#### 리스트를 스택으로 이용하기"
   ]
  },
  {
   "cell_type": "code",
   "execution_count": 68,
   "id": "2fd38da9",
   "metadata": {},
   "outputs": [
    {
     "name": "stdout",
     "output_type": "stream",
     "text": [
      "3\n",
      "2\n",
      "1\n"
     ]
    }
   ],
   "source": [
    "stack = []\n",
    "stack.append(1)  # push(1)\n",
    "stack.append(2)  # push(2)\n",
    "stack.append(3)  # push(3)\n",
    "\n",
    "print(stack.pop())\n",
    "print(stack.pop())\n",
    "print(stack.pop())"
   ]
  },
  {
   "cell_type": "code",
   "execution_count": 72,
   "id": "19fc8d6d",
   "metadata": {},
   "outputs": [
    {
     "name": "stdout",
     "output_type": "stream",
     "text": [
      "1\n",
      "2\n",
      "3\n"
     ]
    }
   ],
   "source": [
    "queue = []\n",
    "queue.insert(0,1)  # push(1)\n",
    "queue.insert(0,2)  # push(2)\n",
    "queue.insert(0,3)  # push(3)\n",
    "\n",
    "print(queue.pop())\n",
    "print(queue.pop())\n",
    "print(queue.pop())"
   ]
  },
  {
   "cell_type": "code",
   "execution_count": 73,
   "id": "0fc85893",
   "metadata": {},
   "outputs": [
    {
     "data": {
      "text/plain": [
       "'Eric'"
      ]
     },
     "execution_count": 73,
     "metadata": {},
     "output_type": "execute_result"
    }
   ],
   "source": [
    "from collections import deque\n",
    "queue = deque([\"Eric\", \"John\", \"Michael\"])\n",
    "queue.append(\"Terry\")           \n",
    "queue.append(\"Graham\")          \n",
    "queue.popleft() "
   ]
  },
  {
   "cell_type": "code",
   "execution_count": 74,
   "id": "3674f013",
   "metadata": {},
   "outputs": [
    {
     "data": {
      "text/plain": [
       "'John'"
      ]
     },
     "execution_count": 74,
     "metadata": {},
     "output_type": "execute_result"
    }
   ],
   "source": [
    "queue.popleft() "
   ]
  },
  {
   "cell_type": "code",
   "execution_count": 75,
   "id": "c36b85b4",
   "metadata": {},
   "outputs": [
    {
     "data": {
      "text/plain": [
       "'Michael'"
      ]
     },
     "execution_count": 75,
     "metadata": {},
     "output_type": "execute_result"
    }
   ],
   "source": [
    "queue.popleft() "
   ]
  },
  {
   "cell_type": "markdown",
   "id": "d2fee0cc",
   "metadata": {},
   "source": [
    "#### 제곱수의 리스트를 만들자"
   ]
  },
  {
   "cell_type": "code",
   "execution_count": 77,
   "id": "7471054f",
   "metadata": {},
   "outputs": [
    {
     "name": "stdout",
     "output_type": "stream",
     "text": [
      "[1, 4, 9, 16, 25]\n"
     ]
    }
   ],
   "source": [
    "squares = [1*1,2*2,3*3,4*4,5*5]\n",
    "print(squares)"
   ]
  },
  {
   "cell_type": "code",
   "execution_count": 78,
   "id": "a95d1eb2",
   "metadata": {},
   "outputs": [
    {
     "name": "stdout",
     "output_type": "stream",
     "text": [
      "[1, 4, 9, 16, 25]\n"
     ]
    }
   ],
   "source": [
    "squares = [1**2,2**2,3**2,4**2,5**2]\n",
    "print(squares)"
   ]
  },
  {
   "cell_type": "code",
   "execution_count": 81,
   "id": "b331bfd4",
   "metadata": {},
   "outputs": [
    {
     "name": "stdout",
     "output_type": "stream",
     "text": [
      "[1, 4, 9, 16, 25, 36, 49, 64, 81, 100]\n"
     ]
    }
   ],
   "source": [
    "squares = [1,2,3,4,5,6,7,8,9,10]\n",
    "for i in range(len(squares)):\n",
    "    squares[i] = squares[i]**2\n",
    "print(squares)"
   ]
  },
  {
   "cell_type": "code",
   "execution_count": 83,
   "id": "8068fc24",
   "metadata": {},
   "outputs": [
    {
     "name": "stdout",
     "output_type": "stream",
     "text": [
      "[1, 4, 9, 16, 25, 36, 49, 64, 81, 100]\n"
     ]
    }
   ],
   "source": [
    "squares = [1,2,3,4,5,6,7,8,9,10]\n",
    "for i, data in enumerate(squares):\n",
    "    squares[i] = data**2\n",
    "print(squares)"
   ]
  },
  {
   "cell_type": "code",
   "execution_count": 84,
   "id": "e74d9de5",
   "metadata": {},
   "outputs": [
    {
     "data": {
      "text/plain": [
       "[1, 4, 9, 16, 25, 36, 49, 64, 81, 100]"
      ]
     },
     "execution_count": 84,
     "metadata": {},
     "output_type": "execute_result"
    }
   ],
   "source": [
    "squares = []\n",
    "for x in range(10):\n",
    "    squares.append((x+1)**2)\n",
    "\n",
    "squares"
   ]
  },
  {
   "cell_type": "code",
   "execution_count": 85,
   "id": "f8acbb81",
   "metadata": {},
   "outputs": [
    {
     "data": {
      "text/plain": [
       "[1, 4, 9, 16, 25, 36, 49, 64, 81, 100]"
      ]
     },
     "execution_count": 85,
     "metadata": {},
     "output_type": "execute_result"
    }
   ],
   "source": [
    "squares = [(x+1)**2 for x in range(10)]\n",
    "squares"
   ]
  },
  {
   "cell_type": "code",
   "execution_count": 86,
   "id": "e136ed21",
   "metadata": {},
   "outputs": [
    {
     "data": {
      "text/plain": [
       "[3, 6, 9, 12, 15, 18, 21, 24, 27, 30]"
      ]
     },
     "execution_count": 86,
     "metadata": {},
     "output_type": "execute_result"
    }
   ],
   "source": [
    "squares = [(x+1)*3 for x in range(10)]\n",
    "squares"
   ]
  },
  {
   "cell_type": "code",
   "execution_count": null,
   "id": "d58e46b1",
   "metadata": {},
   "outputs": [],
   "source": []
  }
 ],
 "metadata": {
  "kernelspec": {
   "display_name": "Python 3",
   "language": "python",
   "name": "python3"
  },
  "language_info": {
   "codemirror_mode": {
    "name": "ipython",
    "version": 3
   },
   "file_extension": ".py",
   "mimetype": "text/x-python",
   "name": "python",
   "nbconvert_exporter": "python",
   "pygments_lexer": "ipython3",
   "version": "3.8.8"
  }
 },
 "nbformat": 4,
 "nbformat_minor": 5
}
