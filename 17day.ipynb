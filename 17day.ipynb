{
 "cells": [
  {
   "cell_type": "code",
   "execution_count": 3,
   "metadata": {},
   "outputs": [
    {
     "name": "stdout",
     "output_type": "stream",
     "text": [
      "[[ 4  5]\n",
      " [ 8 10]\n",
      " [12 15]]\n",
      "(3, 2)\n"
     ]
    }
   ],
   "source": [
    "import numpy as np\n",
    "\n",
    "v = np.array([1,2,3])\n",
    "w = np.array([4,5])  \n",
    "# v*w\n",
    "\n",
    "x = np.reshape(v, (3, 1)) * w\n",
    "print(x)   # (3, 1)*(2,) => (3,1)*(3,2) => (3,2)*(3,2) => (3,2)\n",
    "print(x.shape)"
   ]
  },
  {
   "cell_type": "markdown",
   "metadata": {},
   "source": [
    "### 행렬의 곱"
   ]
  },
  {
   "cell_type": "code",
   "execution_count": 4,
   "metadata": {},
   "outputs": [
    {
     "name": "stdout",
     "output_type": "stream",
     "text": [
      "[[19 22]\n",
      " [43 50]]\n"
     ]
    }
   ],
   "source": [
    "import numpy as np\n",
    " \n",
    "lst1 = [\n",
    "    [1,2],\n",
    "    [3,4]\n",
    "]\n",
    " \n",
    "lst2 = [\n",
    "    [5,6],\n",
    "    [7,8]\n",
    "]\n",
    "a = np.array(lst1)\n",
    "b = np.array(lst2)\n",
    " \n",
    "c = np.dot(a, b)\n",
    "print(c)"
   ]
  },
  {
   "cell_type": "code",
   "execution_count": 7,
   "metadata": {},
   "outputs": [
    {
     "name": "stdout",
     "output_type": "stream",
     "text": [
      "32\n",
      "[ 4 10 18]\n"
     ]
    }
   ],
   "source": [
    "import numpy as np\n",
    " \n",
    "# a = np.array([1,2,3])\n",
    "# b = np.array([4,5])\n",
    "\n",
    "a = np.array([1,2,3])\n",
    "b = np.array([4,5,6])\n",
    "\n",
    "c = np.dot(a, b)  # (3,)(3,)\n",
    "print(c)\n",
    "\n",
    "d = a*b     \n",
    "print(d)"
   ]
  },
  {
   "cell_type": "code",
   "execution_count": 11,
   "metadata": {},
   "outputs": [
    {
     "name": "stdout",
     "output_type": "stream",
     "text": [
      "(1, 3)\n",
      "(3,)\n",
      "[32]\n",
      "[[ 4 10 18]]\n"
     ]
    }
   ],
   "source": [
    "import numpy as np\n",
    " \n",
    "a = np.array([[1,2,3]])\n",
    "b = np.array([4,5,6])\n",
    "print(a.shape)  # (1,3)\n",
    "print(b.shape)  # (3,)\n",
    "\n",
    "c = np.dot(a, b)  # (1,3)(3,)\n",
    "print(c)  # (1,)\n",
    "\n",
    "d = a*b        # (1,3) * (1,3) = (1,3)\n",
    "print(d)"
   ]
  },
  {
   "cell_type": "code",
   "execution_count": 12,
   "metadata": {},
   "outputs": [
    {
     "name": "stdout",
     "output_type": "stream",
     "text": [
      "(1,)\n",
      "(1, 3)\n",
      "[12 15 18]\n"
     ]
    }
   ],
   "source": [
    "import numpy as np\n",
    " \n",
    "a = np.array([3])\n",
    "b = np.array([[4,5,6]])\n",
    "print(a.shape)  # (1,)\n",
    "print(b.shape)  # (1,3)\n",
    "\n",
    "c = np.dot(a, b)  # (1,)(1,3)\n",
    "print(c)  # (3,)"
   ]
  },
  {
   "cell_type": "code",
   "execution_count": 14,
   "metadata": {},
   "outputs": [
    {
     "name": "stdout",
     "output_type": "stream",
     "text": [
      "(2, 1)\n",
      "(1, 3)\n",
      "[[ 4  5  6]\n",
      " [ 8 10 12]]\n"
     ]
    }
   ],
   "source": [
    "import numpy as np\n",
    " \n",
    "a = np.array([[1],[2]])\n",
    "b = np.array([[4,5,6]])\n",
    "print(a.shape)  # (2,1)\n",
    "print(b.shape)  # (1,3)\n",
    "\n",
    "c = np.dot(a, b)  # (2,1)(1,3)\n",
    "print(c)  "
   ]
  },
  {
   "cell_type": "code",
   "execution_count": 15,
   "metadata": {},
   "outputs": [
    {
     "name": "stdout",
     "output_type": "stream",
     "text": [
      "(2, 2)\n",
      "(2, 3)\n",
      "[[18 21 24]\n",
      " [40 47 54]]\n"
     ]
    }
   ],
   "source": [
    "import numpy as np\n",
    " \n",
    "a = np.array([[1,2],[3,4]])\n",
    "b = np.array([[4,5,6],[7,8,9]])\n",
    "print(a.shape)  # (2,2)\n",
    "print(b.shape)  # (2,3)\n",
    "\n",
    "c = np.dot(a, b)  # (2,2)(2,3)\n",
    "print(c) "
   ]
  },
  {
   "cell_type": "markdown",
   "metadata": {},
   "source": [
    "### 행렬의 전치"
   ]
  },
  {
   "cell_type": "code",
   "execution_count": 16,
   "metadata": {},
   "outputs": [
    {
     "name": "stdout",
     "output_type": "stream",
     "text": [
      "[[1 2]\n",
      " [3 4]]\n",
      "[[1 3]\n",
      " [2 4]]\n"
     ]
    }
   ],
   "source": [
    "import numpy as np\n",
    "\n",
    "x = np.array([[1,2], [3,4]])\n",
    "print(x)    \n",
    "           \n",
    "print(x.T)  "
   ]
  },
  {
   "cell_type": "code",
   "execution_count": 17,
   "metadata": {},
   "outputs": [
    {
     "name": "stdout",
     "output_type": "stream",
     "text": [
      "[1 2 3]\n",
      "[1 2 3]\n"
     ]
    }
   ],
   "source": [
    "v = np.array([1,2,3])\n",
    "print(v)    \n",
    "print(v.T) "
   ]
  },
  {
   "cell_type": "code",
   "execution_count": 22,
   "metadata": {},
   "outputs": [
    {
     "name": "stdout",
     "output_type": "stream",
     "text": [
      "10\n",
      "[4 6]\n",
      "[3 7]\n",
      "24\n"
     ]
    }
   ],
   "source": [
    "import numpy as np\n",
    " \n",
    "a = np.array([[1,2],[3,4]])\n",
    " \n",
    "s = np.sum(a)\n",
    "print(s)   \n",
    " \n",
    "s = np.sum(a, axis=0)\n",
    "print(s)   \n",
    " \n",
    "s = np.sum(a, axis=1)\n",
    "print(s)   \n",
    " \n",
    "s = np.prod(a)\n",
    "print(s) "
   ]
  },
  {
   "cell_type": "code",
   "execution_count": 30,
   "metadata": {},
   "outputs": [
    {
     "name": "stdout",
     "output_type": "stream",
     "text": [
      "<class 'dict'>\n",
      "<class 'pandas.core.frame.DataFrame'> \n",
      "\n",
      "   c0  c1\n",
      "0   1   6\n",
      "1   2   7\n",
      "2   3   8\n",
      "3   4   9\n",
      "4   5  10 \n",
      "\n",
      "    c0  c1\n",
      "r0   1   6\n",
      "r1   2   7\n",
      "r2   3   8\n",
      "r3   4   9\n",
      "r4   5  10 \n",
      "\n",
      "   0  1  2  3   4\n",
      "0  1  2  3  4   5\n",
      "1  6  7  8  9  10 \n",
      "\n",
      "    c0  c1  c2  c3  c4\n",
      "r0   1   2   3   4   5\n",
      "r1   6   7   8   9  10 \n",
      "\n",
      "(5, 2)\n",
      "(2, 5)\n"
     ]
    }
   ],
   "source": [
    "import pandas as pd\n",
    "\n",
    "dict_data = {'c0':[1,2,3,4,5], 'c1':[6,7,8,9,10]} \n",
    "print(type(dict_data))\n",
    "df1 = pd.DataFrame(dict_data)  \n",
    "print(type(df1), \"\\n\") \n",
    "print(df1, \"\\n\")\n",
    "\n",
    "df2 = pd.DataFrame(dict_data, index=['r0', 'r1', 'r2', 'r3', 'r4'])  \n",
    "print(df2, \"\\n\")\n",
    "\n",
    "list_of_list_data = [[1,2,3,4,5], [6,7,8,9,10]]\n",
    "df3 = pd.DataFrame(list_of_list_data) \n",
    "print(df3, \"\\n\")\n",
    "\n",
    "df4 = pd.DataFrame(list_of_list_data, \n",
    "                   index=['r0', 'r1'], \n",
    "                   columns=['c0', 'c1', 'c2', 'c3', 'c4'])  \n",
    "print(df4, \"\\n\")\n",
    "\n",
    "print(df2.shape)\n",
    "print(df4.shape)"
   ]
  },
  {
   "cell_type": "code",
   "execution_count": 35,
   "metadata": {
    "scrolled": true
   },
   "outputs": [
    {
     "name": "stdout",
     "output_type": "stream",
     "text": [
      "                통계구분                    통계지표      시점         원자료   단위\n",
      "0   국민소득 ? 경기 ? 기업경영    경제성장률(실질, 계절조정 전기대비)   20211         1.7    %\n",
      "1   국민소득 ? 경기 ? 기업경영  민간소비증감률(실질, 계절조정 전기대비)   20211         1.2    %\n",
      "2   국민소득 ? 경기 ? 기업경영  설비투자증감률(실질, 계절조정 전기대비)   20211         6.1    %\n",
      "3   국민소득 ? 경기 ? 기업경영  건설투자증감률(실질, 계절조정 전기대비)   20211         1.3    %\n",
      "4   국민소득 ? 경기 ? 기업경영           GDP(명목, 계절조정)   20211   501,248.1  십억원\n",
      "..               ...                     ...     ...         ...  ...\n",
      "95         경제관련 사회통계          고령인구비율(65세 이상)    2021        16.5    %\n",
      "96         경제관련 사회통계                   합계출산율    2020       0.840    명\n",
      "97         경제관련 사회통계                 자동차등록대수  202105  24,587,343    대\n",
      "98         경제관련 사회통계                   주택보급률    2019       104.8    %\n",
      "99         경제관련 사회통계                    지니계수    2019       0.339  NaN\n",
      "\n",
      "[100 rows x 5 columns]\n"
     ]
    }
   ],
   "source": [
    "import pandas as pd\n",
    "\n",
    "csv_file = 'bok_statistics_CD.csv'\n",
    "\n",
    "# df1 = pd.read_csv(csv_file)\n",
    "# print(df1)\n",
    "# print('\\n')\n",
    " \n",
    "# df2 = pd.read_csv(csv_file, header=None)\n",
    "# print(df2)\n",
    "# print('\\n')\n",
    "\n",
    "# df3 = pd.read_csv(csv_file, index_col=0)\n",
    "# print(df3)\n",
    "# print('\\n')\n",
    "\n",
    "# df4 = pd.read_csv(csv_file, index_col=0, header=None)\n",
    "# print(df4)\n",
    "# print('\\n')\n",
    "\n",
    "excel_file = 'report_Key100Stat.xls'\n",
    "\n",
    "df5 = pd.read_excel(excel_file)\n",
    "print(df5)"
   ]
  },
  {
   "cell_type": "code",
   "execution_count": 41,
   "metadata": {},
   "outputs": [
    {
     "name": "stdout",
     "output_type": "stream",
     "text": [
      "      0     1     2\n",
      "0  2014  2.49 -0.23\n",
      "1  2015  1.76 -0.73\n",
      "2  2016  1.49 -0.27\n",
      "3  2017  1.44 -0.05\n",
      "4  2018  1.68  0.24\n",
      "\n",
      "\n",
      "      0     1     2\n",
      "0  2014  2.49 -0.23\n",
      "1  2015  1.76 -0.73\n",
      "2  2016  1.49 -0.27\n",
      "\n",
      "\n",
      "            0    1    2\n",
      "15  2021.7.19  0.7  0.0\n",
      "16  2021.7.20  0.7  0.0\n",
      "17  2021.7.21  0.7  0.0\n",
      "18  2021.7.22  0.7  0.0\n",
      "19  2021.7.23  0.7  0.0\n",
      "\n",
      "\n",
      "            0    1    2\n",
      "17  2021.7.21  0.7  0.0\n",
      "18  2021.7.22  0.7  0.0\n",
      "19  2021.7.23  0.7  0.0\n"
     ]
    }
   ],
   "source": [
    "import pandas as pd\n",
    "\n",
    "df = pd.read_csv('bok_statistics_CD.csv', header=None)  \n",
    "\n",
    "# print(df)\n",
    "print(df.head())\n",
    "print('\\n')\n",
    "print(df.head(3))\n",
    "print('\\n')\n",
    "print(df.tail())\n",
    "print('\\n')\n",
    "print(df.tail(3))"
   ]
  },
  {
   "cell_type": "code",
   "execution_count": 42,
   "metadata": {},
   "outputs": [
    {
     "name": "stdout",
     "output_type": "stream",
     "text": [
      "      0     1     2\n",
      "0  2014  2.49 -0.23\n",
      "1  2015  1.76 -0.73\n",
      "2  2016  1.49 -0.27\n",
      "3  2017  1.44 -0.05\n",
      "4  2018  1.68  0.24\n",
      "\n",
      "\n",
      "<class 'pandas.core.frame.DataFrame'>\n",
      "RangeIndex: 20 entries, 0 to 19\n",
      "Data columns (total 3 columns):\n",
      " #   Column  Non-Null Count  Dtype  \n",
      "---  ------  --------------  -----  \n",
      " 0   0       20 non-null     object \n",
      " 1   1       20 non-null     float64\n",
      " 2   2       20 non-null     float64\n",
      "dtypes: float64(2), object(1)\n",
      "memory usage: 608.0+ bytes\n",
      "None\n"
     ]
    }
   ],
   "source": [
    "import pandas as pd\n",
    "\n",
    "df = pd.read_csv('bok_statistics_CD.csv', header=None)\n",
    "\n",
    "print(df.head())\n",
    "print('\\n')\n",
    "print(df.info())"
   ]
  },
  {
   "cell_type": "code",
   "execution_count": 43,
   "metadata": {},
   "outputs": [
    {
     "name": "stdout",
     "output_type": "stream",
     "text": [
      "      0     1     2\n",
      "0  2014  2.49 -0.23\n",
      "1  2015  1.76 -0.73\n",
      "2  2016  1.49 -0.27\n",
      "3  2017  1.44 -0.05\n",
      "4  2018  1.68  0.24\n",
      "\n",
      "\n",
      "               1          2\n",
      "count  20.000000  20.000000\n",
      "mean    1.028500  -0.089500\n",
      "std     0.530097   0.246992\n",
      "min     0.660000  -0.770000\n",
      "25%     0.700000  -0.052500\n",
      "50%     0.715000   0.000000\n",
      "75%     1.452500   0.010000\n",
      "max     2.490000   0.240000\n"
     ]
    }
   ],
   "source": [
    "import pandas as pd\n",
    "\n",
    "df = pd.read_csv('bok_statistics_CD.csv', header=None) \n",
    "\n",
    "print(df.head())\n",
    "print('\\n')\n",
    "print(df.describe())"
   ]
  },
  {
   "cell_type": "code",
   "execution_count": 48,
   "metadata": {},
   "outputs": [
    {
     "name": "stdout",
     "output_type": "stream",
     "text": [
      "    c0  c1\n",
      "r0   1   4\n",
      "r1   2   5\n",
      "r2   3   6 \n",
      "\n",
      "r0    1\n",
      "r1    2\n",
      "r2    3\n",
      "Name: c0, dtype: int64 \n",
      "\n",
      "r0    4\n",
      "r1    5\n",
      "r2    6\n",
      "Name: c1, dtype: int64 \n",
      "\n",
      "    c0  c1  c2\n",
      "r0   1   4   7\n",
      "r1   2   5   8\n",
      "r2   3   6   9 \n",
      "\n",
      "    c0  c1  c2  c3\n",
      "r0   1   4   7   0\n",
      "r1   2   5   8   0\n",
      "r2   3   6   9   0 \n",
      "\n"
     ]
    }
   ],
   "source": [
    "import pandas as pd\n",
    "\n",
    "dict_data = {'c0':[1,2,3], 'c1':[4, 5, 6]} \n",
    "df = pd.DataFrame(dict_data, index=['r0', 'r1', 'r2'])  \n",
    "print(df, \"\\n\") \n",
    "\n",
    "col0 = df['c0']\n",
    "col1 = df.c1\n",
    "\n",
    "print(col0, \"\\n\")\n",
    "print(col1, \"\\n\")\n",
    "\n",
    "df['c2'] = 7, 8, 9\n",
    "print(df, \"\\n\") \n",
    "\n",
    "df['c3'] = 0\n",
    "print(df, \"\\n\")"
   ]
  },
  {
   "cell_type": "code",
   "execution_count": 53,
   "metadata": {
    "scrolled": true
   },
   "outputs": [
    {
     "name": "stdout",
     "output_type": "stream",
     "text": [
      "    c0  c1  c2  c3  c4\n",
      "r0   1   4   7   0   0\n",
      "r1   2   5   8   0   0\n",
      "r2   3   6   9   0   0 \n",
      "\n",
      "    c0  c1  c2  c3  c4\n",
      "r0   1   4   7  10   0\n",
      "r1   2   5   8  11   0\n",
      "r2   3   6   9  12   0 \n",
      "\n",
      "    c0  c1  c2  c3  c4\n",
      "r0   1   4   7   0   0\n",
      "r1   2   5   8   0   0\n",
      "r2   3   6   9   0   0 \n",
      "\n",
      "    c0  c1  c2  c3\n",
      "r0   1   4   7   0\n",
      "r1   2   5   8   0\n",
      "r2   3   6   9   0 \n",
      "\n",
      "    c0  c2\n",
      "r0   1   7\n",
      "r1   2   8\n",
      "r2   3   9\n"
     ]
    }
   ],
   "source": [
    "df['c4'] = df['c3']\n",
    "print(df, \"\\n\") \n",
    "\n",
    "df['c3'] = 10, 11, 12\n",
    "print(df, \"\\n\") \n",
    "\n",
    "df['c3'] = 0\n",
    "print(df, \"\\n\") \n",
    "\n",
    "df.drop('c4', axis=1, inplace=True)\n",
    "print(df, \"\\n\") \n",
    "\n",
    "df.drop(['c1','c3'], axis=1, inplace=True)\n",
    "print(df) "
   ]
  },
  {
   "cell_type": "code",
   "execution_count": 66,
   "metadata": {},
   "outputs": [
    {
     "name": "stdout",
     "output_type": "stream",
     "text": [
      "    c0  c1\n",
      "r0   1   4\n",
      "r1   2   5\n",
      "r2   3   6 \n",
      "\n",
      "c0    1\n",
      "c1    4\n",
      "Name: r0, dtype: int64 \n",
      "\n",
      "c0    2\n",
      "c1    5\n",
      "Name: r1, dtype: int64 \n",
      "\n",
      "c0    3\n",
      "c1    6\n",
      "Name: r2, dtype: int64 \n",
      "\n",
      "    c0  c1\n",
      "r0   1   4\n",
      "r1   2   5\n",
      "r2   3   6\n",
      "r3  10  20 \n",
      "\n"
     ]
    }
   ],
   "source": [
    "import pandas as pd\n",
    "\n",
    "dict_data = {'c0':[1,2,3], 'c1':[4, 5, 6]} \n",
    "df = pd.DataFrame(dict_data, index=['r0', 'r1', 'r2'])  \n",
    "print(df, \"\\n\") \n",
    "\n",
    "row0 = df.iloc[0]\n",
    "row1 = df.iloc[1]\n",
    "row2 = df.loc['r2']\n",
    "\n",
    "print(row0, \"\\n\")\n",
    "print(row1, \"\\n\")\n",
    "print(row2, \"\\n\")\n",
    "\n",
    "df.loc['r3'] = 10, 20\n",
    "print(df, \"\\n\") "
   ]
  },
  {
   "cell_type": "code",
   "execution_count": 67,
   "metadata": {},
   "outputs": [
    {
     "name": "stdout",
     "output_type": "stream",
     "text": [
      "    c0  c1\n",
      "r0   1   4\n",
      "r1   2   5\n",
      "r2   3   6\n",
      "r3  10  20\n",
      "r4   0   0 \n",
      "\n",
      "    c0  c1\n",
      "r0   1   4\n",
      "r1   2   5\n",
      "r2   3   6\n",
      "r3   0   0\n",
      "r4   0   0 \n",
      "\n",
      "    c0  c1\n",
      "r0   1   4\n",
      "r1   2   5\n",
      "r2   3   6\n",
      "r3   0   0 \n",
      "\n",
      "    c0  c1\n",
      "r0   1   4\n",
      "r2   3   6\n",
      "    c0  c1\n",
      "r0   1   4\n"
     ]
    }
   ],
   "source": [
    "df.loc['r4'] = 0\n",
    "print(df, \"\\n\") \n",
    "\n",
    "df.loc['r3'] = df.loc['r4']\n",
    "print(df, \"\\n\") \n",
    "\n",
    "df.drop('r4', axis=0, inplace=True)\n",
    "print(df, \"\\n\") \n",
    "\n",
    "df.drop(['r1','r3'], axis=0, inplace=True)\n",
    "print(df) \n",
    "\n",
    "df.drop(['r2'], axis=0, inplace=True)\n",
    "print(df) "
   ]
  },
  {
   "cell_type": "code",
   "execution_count": 71,
   "metadata": {},
   "outputs": [
    {
     "name": "stdout",
     "output_type": "stream",
     "text": [
      "    c0  c1\n",
      "r0   1   4\n",
      "r1   2   5\n",
      "r2   3   6 \n",
      "\n",
      "    c0  c1\n",
      "r0   1   4\n",
      "r2   3   6\n"
     ]
    }
   ],
   "source": [
    "import pandas as pd\n",
    "\n",
    "dict_data = {'c0':[1,2,3], 'c1':[4, 5, 6]} \n",
    "df = pd.DataFrame(dict_data, index=['r0', 'r1', 'r2'])  \n",
    "print(df, \"\\n\") \n",
    "\n",
    "df.drop(['r1'], axis=0, inplace=True)\n",
    "print(df) "
   ]
  },
  {
   "cell_type": "code",
   "execution_count": 78,
   "metadata": {
    "scrolled": true
   },
   "outputs": [
    {
     "name": "stdout",
     "output_type": "stream",
     "text": [
      "    c0  c1\n",
      "r0   1   4\n",
      "r1   2   5\n",
      "r2   3   6 \n",
      "\n",
      "4 \n",
      "\n",
      "5 \n",
      "\n",
      "6 \n",
      "\n",
      "    c0  c1\n",
      "r1   2   5\n",
      "r2   3   6 \n",
      "\n",
      "    c0\n",
      "r1   2 \n",
      "\n"
     ]
    }
   ],
   "source": [
    "import pandas as pd\n",
    "\n",
    "dict_data = {'c0':[1,2,3], 'c1':[4, 5, 6]} \n",
    "df = pd.DataFrame(dict_data, index=['r0', 'r1', 'r2'])  \n",
    "print(df, \"\\n\") \n",
    "\n",
    "el_01 = df.iloc[0,1]\n",
    "print(el_01, \"\\n\")\n",
    "\n",
    "el_11 = df.iloc[1,1]\n",
    "print(el_11, \"\\n\")\n",
    "\n",
    "el_21 = df.loc['r2','c1']\n",
    "print(el_21, \"\\n\")\n",
    "\n",
    "el_12_01 = df.loc['r1':'r2','c0':'c1']\n",
    "print(el_12_01, \"\\n\")\n",
    "\n",
    "temp = df.iloc[1:2,0:1]\n",
    "print(temp, \"\\n\")"
   ]
  },
  {
   "cell_type": "code",
   "execution_count": 81,
   "metadata": {},
   "outputs": [
    {
     "name": "stdout",
     "output_type": "stream",
     "text": [
      "    c0  c1\n",
      "r1   2   5\n",
      "r2   3   6 \n",
      "\n",
      "    c0  c1\n",
      "r0   1  40\n",
      "r1   2   5\n",
      "r2   3   6 \n",
      "\n",
      "    c0  c1\n",
      "r0   1  40\n",
      "r1   0   0\n",
      "r2   0   0\n"
     ]
    }
   ],
   "source": [
    "el_12_01_iloc = df.iloc[1:3, 0:2]\n",
    "print(el_12_01, \"\\n\")\n",
    "\n",
    "df.iloc[0,1] = 40\n",
    "print(df, \"\\n\") \n",
    "\n",
    "df.iloc[1:3, 0:2] = 0\n",
    "print(df) "
   ]
  },
  {
   "cell_type": "code",
   "execution_count": 84,
   "metadata": {
    "scrolled": true
   },
   "outputs": [
    {
     "name": "stdout",
     "output_type": "stream",
     "text": [
      "    c0  c1\n",
      "r0   1   4\n",
      "r1   2   5\n",
      "r2   3   6 \n",
      "\n"
     ]
    }
   ],
   "source": [
    "import pandas as pd\n",
    "\n",
    "dict_data = {'c0':[1,2,3], 'c1':[4, 5, 6]} \n",
    "df = pd.DataFrame(dict_data, index=['r0', 'r1', 'r2'])  \n",
    "print(df, \"\\n\") \n",
    "\n",
    "df.to_csv(\"df.csv\")\n",
    "\n",
    "df.to_excel(\"df.xlsx\")"
   ]
  },
  {
   "cell_type": "code",
   "execution_count": 85,
   "metadata": {},
   "outputs": [
    {
     "name": "stdout",
     "output_type": "stream",
     "text": [
      "      0     1     2\n",
      "0  2014  2.49 -0.23\n",
      "1  2015  1.76 -0.73\n",
      "2  2016  1.49 -0.27\n",
      "3  2017  1.44 -0.05\n",
      "4  2018  1.68  0.24\n",
      "\n",
      "\n",
      "      CD_rate  change\n",
      "year                 \n",
      "2014     2.49   -0.23\n",
      "2015     1.76   -0.73\n",
      "2016     1.49   -0.27\n",
      "2017     1.44   -0.05\n",
      "2018     1.68    0.24\n",
      "\n",
      "\n"
     ]
    },
    {
     "data": {
      "text/plain": [
       "<AxesSubplot:xlabel='year'>"
      ]
     },
     "execution_count": 85,
     "metadata": {},
     "output_type": "execute_result"
    },
    {
     "data": {
      "image/png": "[encoded data removed]",
      "text/plain": [
       "<Figure size 432x288 with 1 Axes>"
      ]
     },
     "metadata": {
      "needs_background": "light"
     },
     "output_type": "display_data"
    }
   ],
   "source": [
    "import pandas as pd\n",
    "\n",
    "df = pd.read_csv('bok_statistics_CD.csv', header=None)  \n",
    "print(df.head())\n",
    "print('\\n')\n",
    "\n",
    "df.columns = ['year', 'CD_rate', 'change']  \n",
    "df.set_index('year', inplace=True)   \n",
    "print(df.head())\n",
    "df.to_csv('bok_statistics_CD_2.csv')\n",
    "print('\\n')\n",
    "\n",
    "df.plot()\n",
    "\n",
    "df['CD_rate'].plot()\n",
    "df['change'].plot()"
   ]
  },
  {
   "cell_type": "code",
   "execution_count": 90,
   "metadata": {
    "scrolled": true
   },
   "outputs": [
    {
     "name": "stdout",
     "output_type": "stream",
     "text": [
      "      CD_rate  change\n",
      "year                 \n",
      "2014     2.49   -0.23\n",
      "2015     1.76   -0.73\n",
      "2016     1.49   -0.27\n",
      "2017     1.44   -0.05\n",
      "2018     1.68    0.24\n",
      "\n",
      "\n"
     ]
    },
    {
     "data": {
      "text/plain": [
       "<AxesSubplot:xlabel='year'>"
      ]
     },
     "execution_count": 90,
     "metadata": {},
     "output_type": "execute_result"
    },
    {
     "data": {
      "image/png": "[encoded data removed]",
      "text/plain": [
       "<Figure size 432x288 with 1 Axes>"
      ]
     },
     "metadata": {
      "needs_background": "light"
     },
     "output_type": "display_data"
    }
   ],
   "source": [
    "import pandas as pd\n",
    "\n",
    "df = pd.read_csv('bok_statistics_CD_2.csv', header=0, index_col=0)  \n",
    "print(df.head())\n",
    "print('\\n')\n",
    "\n",
    "df.plot(kind='bar')\n",
    "\n",
    "# df['CD_rate'].plot(kind='bar')\n",
    "# df['change'].plot(kind='bar')"
   ]
  },
  {
   "cell_type": "code",
   "execution_count": 91,
   "metadata": {},
   "outputs": [
    {
     "name": "stdout",
     "output_type": "stream",
     "text": [
      "      CD_rate  change\n",
      "year                 \n",
      "2014     2.49   -0.23\n",
      "2015     1.76   -0.73\n",
      "2016     1.49   -0.27\n",
      "2017     1.44   -0.05\n",
      "2018     1.68    0.24\n",
      "\n",
      "\n"
     ]
    },
    {
     "data": {
      "text/plain": [
       "<AxesSubplot:ylabel='Frequency'>"
      ]
     },
     "execution_count": 91,
     "metadata": {},
     "output_type": "execute_result"
    },
    {
     "data": {
      "image/png": "[encoded data removed]",
      "text/plain": [
       "<Figure size 432x288 with 1 Axes>"
      ]
     },
     "metadata": {
      "needs_background": "light"
     },
     "output_type": "display_data"
    }
   ],
   "source": [
    "import pandas as pd\n",
    "\n",
    "df = pd.read_csv('bok_statistics_CD_2.csv', header=0, index_col=0)  \n",
    "print(df.head())\n",
    "print('\\n')\n",
    "\n",
    "df['CD_rate'].plot(kind='hist')\n",
    "df['change'].plot(kind='hist')"
   ]
  },
  {
   "cell_type": "code",
   "execution_count": 92,
   "metadata": {},
   "outputs": [
    {
     "name": "stdout",
     "output_type": "stream",
     "text": [
      "      CD_rate  change\n",
      "year                 \n",
      "2014     2.49   -0.23\n",
      "2015     1.76   -0.73\n",
      "2016     1.49   -0.27\n",
      "2017     1.44   -0.05\n",
      "2018     1.68    0.24\n",
      "\n",
      "\n"
     ]
    },
    {
     "data": {
      "text/plain": [
       "<AxesSubplot:xlabel='CD_rate', ylabel='change'>"
      ]
     },
     "execution_count": 92,
     "metadata": {},
     "output_type": "execute_result"
    },
    {
     "data": {
      "image/png": "[encoded data removed]",
      "text/plain": [
       "<Figure size 432x288 with 1 Axes>"
      ]
     },
     "metadata": {
      "needs_background": "light"
     },
     "output_type": "display_data"
    }
   ],
   "source": [
    "import pandas as pd\n",
    "\n",
    "df = pd.read_csv('bok_statistics_CD_2.csv', header=0, index_col=0)  \n",
    "print(df.head())\n",
    "print('\\n')\n",
    "\n",
    "df.plot(x='CD_rate', y='change', kind='scatter')"
   ]
  },
  {
   "cell_type": "code",
   "execution_count": 93,
   "metadata": {},
   "outputs": [
    {
     "name": "stdout",
     "output_type": "stream",
     "text": [
      "      CD_rate  change\n",
      "year                 \n",
      "2014     2.49   -0.23\n",
      "2015     1.76   -0.73\n",
      "2016     1.49   -0.27\n",
      "2017     1.44   -0.05\n",
      "2018     1.68    0.24\n",
      "\n",
      "\n"
     ]
    },
    {
     "data": {
      "text/plain": [
       "<AxesSubplot:>"
      ]
     },
     "execution_count": 93,
     "metadata": {},
     "output_type": "execute_result"
    },
    {
     "data": {
      "image/png": "[encoded data removed]",
      "text/plain": [
       "<Figure size 432x288 with 1 Axes>"
      ]
     },
     "metadata": {
      "needs_background": "light"
     },
     "output_type": "display_data"
    }
   ],
   "source": [
    "import pandas as pd\n",
    "\n",
    "df = pd.read_csv('bok_statistics_CD_2.csv', header=0, index_col=0)  \n",
    "print(df.head())\n",
    "print('\\n')\n",
    "\n",
    "df.plot(kind='box')"
   ]
  },
  {
   "cell_type": "code",
   "execution_count": 94,
   "metadata": {
    "scrolled": true
   },
   "outputs": [
    {
     "name": "stdout",
     "output_type": "stream",
     "text": [
      "      CD_rate  change\n",
      "year                 \n",
      "2014     2.49   -0.23\n",
      "2015     1.76   -0.73\n",
      "2016     1.49   -0.27\n",
      "2017     1.44   -0.05\n",
      "2018     1.68    0.24\n",
      "\n",
      "\n"
     ]
    },
    {
     "data": {
      "image/png": "[encoded data removed]",
      "text/plain": [
       "<Figure size 432x288 with 1 Axes>"
      ]
     },
     "metadata": {
      "needs_background": "light"
     },
     "output_type": "display_data"
    }
   ],
   "source": [
    "import pandas as pd\n",
    "import matplotlib.pyplot as plt\n",
    "\n",
    "df = pd.read_csv('bok_statistics_CD_2.csv', header=0, index_col=0)  \n",
    "print(df.head())\n",
    "print('\\n')\n",
    "\n",
    "boxplot = df.plot(kind='box')\n",
    "plt.savefig('boxplot.png')"
   ]
  },
  {
   "cell_type": "markdown",
   "metadata": {},
   "source": [
    "### matplotlib를 이용한 시각화"
   ]
  },
  {
   "cell_type": "code",
   "execution_count": 112,
   "metadata": {},
   "outputs": [
    {
     "data": {
      "image/png": "[encoded data removed]",
      "text/plain": [
       "<Figure size 432x288 with 1 Axes>"
      ]
     },
     "metadata": {
      "needs_background": "light"
     },
     "output_type": "display_data"
    }
   ],
   "source": [
    "import numpy as np   \n",
    "import matplotlib.pyplot as plt  \n",
    "\n",
    "x = np.array([1,2,3])\n",
    "y = np.array([1,2,3])\n",
    "\n",
    "\n",
    "plt.plot(x,y, 'r-' )\n",
    "plt.plot(x,y, 'bo' )\n",
    "\n",
    "plt.grid(True)\n",
    "plt.show()\n"
   ]
  },
  {
   "cell_type": "code",
   "execution_count": 117,
   "metadata": {
    "scrolled": true
   },
   "outputs": [
    {
     "data": {
      "image/png": "[encoded data removed]",
      "text/plain": [
       "<Figure size 432x288 with 1 Axes>"
      ]
     },
     "metadata": {
      "needs_background": "light"
     },
     "output_type": "display_data"
    }
   ],
   "source": [
    "import numpy as np   \n",
    "import matplotlib.pyplot as plt  \n",
    "\n",
    "x = np.array([1,2,3])\n",
    "y = np.array([1,2,3])\n",
    "w = 2\n",
    "b = 0\n",
    "\n",
    "y_hat = np.zeros(3)\n",
    "for i in range(len(x)):\n",
    "    y_hat[i] = w*x[i] + b;\n",
    "\n",
    "plt.plot(x,y, 'o' )\n",
    "plt.plot(x,y, 'r-' )\n",
    "\n",
    "plt.plot(x,y_hat, 'o' )\n",
    "plt.plot(x,y_hat, 'b-' )\n",
    "\n",
    "plt.grid(True)\n",
    "plt.show()"
   ]
  },
  {
   "cell_type": "code",
   "execution_count": 123,
   "metadata": {},
   "outputs": [
    {
     "name": "stdout",
     "output_type": "stream",
     "text": [
      "[1 2 3 4 5]\n",
      "[1 3 5]\n",
      "[-1.         -0.55555556 -0.11111111  0.33333333  0.77777778  1.22222222\n",
      "  1.66666667  2.11111111  2.55555556  3.        ]\n"
     ]
    }
   ],
   "source": [
    "a = np.array([1,2,3,4,5])\n",
    "print(a)\n",
    "\n",
    "a = np.arange(1,6,2)   # range(1, 6)\n",
    "print(a)\n",
    "\n",
    "a = np.linspace(-1,3,10)\n",
    "print(a)"
   ]
  },
  {
   "cell_type": "code",
   "execution_count": 127,
   "metadata": {},
   "outputs": [
    {
     "data": {
      "image/png": "[encoded data removed]",
      "text/plain": [
       "<Figure size 432x288 with 1 Axes>"
      ]
     },
     "metadata": {
      "needs_background": "light"
     },
     "output_type": "display_data"
    }
   ],
   "source": [
    "import numpy as np   \n",
    "import matplotlib.pyplot as plt  \n",
    "\n",
    "w = np.linspace(-1,3,100)\n",
    "b = 0\n",
    "\n",
    "j = np.zeros(100)\n",
    "\n",
    "for i in range(len(w)):\n",
    "    y_hat = w[i]*2 + b;\n",
    "    j[i] = 0.5 * (y_hat - 2)**2\n",
    "\n",
    "plt.plot(w,j, '-' )\n",
    "plt.plot(w,j, 'r-' )\n",
    "\n",
    "plt.grid(True)\n",
    "plt.show()"
   ]
  },
  {
   "cell_type": "code",
   "execution_count": 139,
   "metadata": {},
   "outputs": [
    {
     "data": {
      "image/png": "[encoded data removed]",
      "text/plain": [
       "<Figure size 432x288 with 1 Axes>"
      ]
     },
     "metadata": {
      "needs_background": "light"
     },
     "output_type": "display_data"
    }
   ],
   "source": [
    "import numpy as np   \n",
    "import matplotlib.pyplot as plt  \n",
    "\n",
    "def f(x) : \n",
    "    f = 0.5*(2-x*2)**2\n",
    "    return f\n",
    "\n",
    "def Df(x) : \n",
    "    Df = 2*(2-x*2)\n",
    "    return Df\n",
    "\n",
    "def xp1(x,alpha) : \n",
    "    xp1 = x + alpha * Df(x)\n",
    "    return xp1\n",
    "\n",
    "def plot_steps( guess, alpha, nsteps) :\n",
    "    fig, ax = plt.subplots()\n",
    "    x = np.linspace(-1,3,100)\n",
    "    ax.plot(x, f(x))\n",
    "    x = guess\n",
    "    ax.plot(x,f(x), 'o', label='start x=%.2f' %x )\n",
    "    for i in range(nsteps):\n",
    "        xold = x\n",
    "        x = xp1(x,alpha)\n",
    "        ax.plot(x,f(x), 'o')\n",
    "        ax.plot([xold,x],[f(xold),f(x)], '-')\n",
    "    plt.legend()\n",
    "    plt.show()\n",
    "    \n",
    "plot_steps( 3, 0.01, 100 )\n"
   ]
  }
 ],
 "metadata": {
  "kernelspec": {
   "display_name": "Python 3",
   "language": "python",
   "name": "python3"
  },
  "language_info": {
   "codemirror_mode": {
    "name": "ipython",
    "version": 3
   },
   "file_extension": ".py",
   "mimetype": "text/x-python",
   "name": "python",
   "nbconvert_exporter": "python",
   "pygments_lexer": "ipython3",
   "version": "3.8.5"
  }
 },
 "nbformat": 4,
 "nbformat_minor": 4
}
