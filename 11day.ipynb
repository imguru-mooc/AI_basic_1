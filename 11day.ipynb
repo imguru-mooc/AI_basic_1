{
 "cells": [
  {
   "cell_type": "markdown",
   "id": "cbf491ee",
   "metadata": {},
   "source": [
    "### 함수의 의미"
   ]
  },
  {
   "cell_type": "code",
   "execution_count": 2,
   "id": "6314a495",
   "metadata": {},
   "outputs": [
    {
     "name": "stdout",
     "output_type": "stream",
     "text": [
      "7\n"
     ]
    }
   ],
   "source": [
    "def add(x,y):\n",
    "    return x+y\n",
    "\n",
    "# add(3,4)\n",
    "a = add(3,4)\n",
    "print(a)"
   ]
  },
  {
   "cell_type": "code",
   "execution_count": 3,
   "id": "9ba45b49",
   "metadata": {},
   "outputs": [
    {
     "name": "stdout",
     "output_type": "stream",
     "text": [
      "<class 'function'>\n"
     ]
    }
   ],
   "source": [
    "print(type(add))"
   ]
  },
  {
   "cell_type": "code",
   "execution_count": 4,
   "id": "537a60e0",
   "metadata": {},
   "outputs": [
    {
     "name": "stdout",
     "output_type": "stream",
     "text": [
      "<function add at 0x000001B97C98C040>\n"
     ]
    }
   ],
   "source": [
    "print(add)"
   ]
  },
  {
   "cell_type": "code",
   "execution_count": 5,
   "id": "4e9d839e",
   "metadata": {},
   "outputs": [
    {
     "data": {
      "text/plain": [
       "2"
      ]
     },
     "execution_count": 5,
     "metadata": {},
     "output_type": "execute_result"
    }
   ],
   "source": [
    "import sys\n",
    "sys.getrefcount(add)"
   ]
  },
  {
   "cell_type": "code",
   "execution_count": 9,
   "id": "20831776",
   "metadata": {},
   "outputs": [
    {
     "name": "stdout",
     "output_type": "stream",
     "text": [
      "<class 'int'>\n"
     ]
    },
    {
     "data": {
      "text/plain": [
       "2363"
      ]
     },
     "execution_count": 9,
     "metadata": {},
     "output_type": "execute_result"
    }
   ],
   "source": [
    "print(type(1))\n",
    "sys.getrefcount(1)"
   ]
  },
  {
   "cell_type": "code",
   "execution_count": 6,
   "id": "a2bde22f",
   "metadata": {},
   "outputs": [
    {
     "name": "stdout",
     "output_type": "stream",
     "text": [
      "7\n"
     ]
    }
   ],
   "source": [
    "add1 = add\n",
    "a = add1(3,4)\n",
    "print(a)"
   ]
  },
  {
   "cell_type": "code",
   "execution_count": 7,
   "id": "582dbee1",
   "metadata": {},
   "outputs": [
    {
     "name": "stdout",
     "output_type": "stream",
     "text": [
      "<class 'function'>\n"
     ]
    }
   ],
   "source": [
    "print(type(add1))"
   ]
  },
  {
   "cell_type": "code",
   "execution_count": 10,
   "id": "404e2fe8",
   "metadata": {},
   "outputs": [
    {
     "name": "stdout",
     "output_type": "stream",
     "text": [
      "<function add at 0x000001B97C98C040>\n"
     ]
    }
   ],
   "source": [
    "print(add1)"
   ]
  },
  {
   "cell_type": "code",
   "execution_count": 13,
   "id": "b0eef294",
   "metadata": {},
   "outputs": [
    {
     "name": "stdout",
     "output_type": "stream",
     "text": [
      "3\n",
      "3\n"
     ]
    }
   ],
   "source": [
    "print(sys.getrefcount(add1))\n",
    "print(sys.getrefcount(add))"
   ]
  },
  {
   "cell_type": "code",
   "execution_count": 14,
   "id": "39407ab7",
   "metadata": {},
   "outputs": [
    {
     "data": {
      "text/plain": [
       "2"
      ]
     },
     "execution_count": 14,
     "metadata": {},
     "output_type": "execute_result"
    }
   ],
   "source": [
    "del add1\n",
    "sys.getrefcount(add)"
   ]
  },
  {
   "cell_type": "markdown",
   "id": "f27d18ed",
   "metadata": {},
   "source": [
    "### 함수 디폴트 파라메타 주의사항"
   ]
  },
  {
   "cell_type": "code",
   "execution_count": 15,
   "id": "df16b1c3",
   "metadata": {},
   "outputs": [
    {
     "data": {
      "text/plain": [
       "10"
      ]
     },
     "execution_count": 15,
     "metadata": {},
     "output_type": "execute_result"
    }
   ],
   "source": [
    "def foo(x=10):\n",
    "    return x\n",
    "\n",
    "foo()"
   ]
  },
  {
   "cell_type": "code",
   "execution_count": 17,
   "id": "7c31ec0d",
   "metadata": {},
   "outputs": [
    {
     "data": {
      "text/plain": [
       "10"
      ]
     },
     "execution_count": 17,
     "metadata": {},
     "output_type": "execute_result"
    }
   ],
   "source": [
    "a = 10\n",
    "def foo(x=a):  \n",
    "    return x\n",
    "a=5\n",
    "foo()"
   ]
  },
  {
   "cell_type": "code",
   "execution_count": 18,
   "id": "1da0d2b6",
   "metadata": {},
   "outputs": [
    {
     "data": {
      "text/plain": [
       "[1, 2, 3, 1]"
      ]
     },
     "execution_count": 18,
     "metadata": {},
     "output_type": "execute_result"
    }
   ],
   "source": [
    "def foo(x, items=[]):\n",
    "    items.append(x)\n",
    "    return items\n",
    "\n",
    "foo(1, [1,2,3])"
   ]
  },
  {
   "cell_type": "code",
   "execution_count": 21,
   "id": "19810fc4",
   "metadata": {},
   "outputs": [
    {
     "data": {
      "text/plain": [
       "[1, 2, 3]"
      ]
     },
     "execution_count": 21,
     "metadata": {},
     "output_type": "execute_result"
    }
   ],
   "source": [
    "def foo(x, items=[]):\n",
    "    items.append(x)\n",
    "    return items\n",
    "\n",
    "foo(1)\n",
    "foo(2)\n",
    "foo(3)"
   ]
  },
  {
   "cell_type": "code",
   "execution_count": 26,
   "id": "2615d605",
   "metadata": {},
   "outputs": [
    {
     "name": "stdout",
     "output_type": "stream",
     "text": [
      "[1]\n",
      "[2]\n",
      "[3]\n",
      "[1, 2, 3, 4]\n"
     ]
    }
   ],
   "source": [
    "def foo(x, items=None):\n",
    "    if items is None:\n",
    "        items = []\n",
    "    items.append(x)\n",
    "    return items\n",
    "\n",
    "print(foo(1))\n",
    "print(foo(2))\n",
    "print(foo(3))\n",
    "print(foo(4, [1,2,3]))"
   ]
  },
  {
   "cell_type": "markdown",
   "id": "131bd7c6",
   "metadata": {},
   "source": [
    "### 가변 인자"
   ]
  },
  {
   "cell_type": "code",
   "execution_count": 29,
   "id": "ed0c7a85",
   "metadata": {},
   "outputs": [
    {
     "name": "stdout",
     "output_type": "stream",
     "text": [
      "1 2 3\n"
     ]
    }
   ],
   "source": [
    "print(\"%d %d %d\" % (1, 2, 3) )"
   ]
  },
  {
   "cell_type": "code",
   "execution_count": 30,
   "id": "054181ec",
   "metadata": {},
   "outputs": [
    {
     "name": "stdout",
     "output_type": "stream",
     "text": [
      "(42, 'hello world', 3.45)\n",
      "42 hello world 3.450000"
     ]
    }
   ],
   "source": [
    "def fprintf(file, fmt, *args):\n",
    "    print(args)\n",
    "    file.write(fmt % args )\n",
    "\n",
    "fprintf(sys.stdout, \"%d %s %f\", 42, \"hello world\", 3.45)"
   ]
  },
  {
   "cell_type": "code",
   "execution_count": 40,
   "id": "43bb3896",
   "metadata": {},
   "outputs": [
    {
     "name": "stdout",
     "output_type": "stream",
     "text": [
      "(42, 'hello world', 3.45)\n",
      "(42, 'hello world', 3.45)\n",
      "42 hello world 3.450000"
     ]
    }
   ],
   "source": [
    "import sys\n",
    "\n",
    "def printf(fmt, *args):\n",
    "    print(args)\n",
    "    fprintf(sys.stdout, fmt, *args)\n",
    "\n",
    "printf(\"%d %s %f\", 42, \"hello world\", 3.45)"
   ]
  },
  {
   "cell_type": "code",
   "execution_count": 43,
   "id": "41473454",
   "metadata": {},
   "outputs": [
    {
     "name": "stdout",
     "output_type": "stream",
     "text": [
      "(1, 2, 3)\n"
     ]
    }
   ],
   "source": [
    "# def bar(a, b, c):\n",
    "#     print(a,b,c)\n",
    "\n",
    "def bar(*args):\n",
    "    print(args)\n",
    "\n",
    "def foo():\n",
    "    a = (1,2,3)\n",
    "    bar(*a)  # bar(1,2,3)\n",
    "    \n",
    "foo()"
   ]
  },
  {
   "attachments": {},
   "cell_type": "markdown",
   "id": "6a0ed5f1",
   "metadata": {},
   "source": [
    "### 키워드 인수"
   ]
  },
  {
   "cell_type": "code",
   "execution_count": 45,
   "id": "9b4434fc",
   "metadata": {},
   "outputs": [
    {
     "name": "stdout",
     "output_type": "stream",
     "text": [
      "1 2 3 4\n",
      "3 hello 22 [1, 2]\n"
     ]
    }
   ],
   "source": [
    "def foo(x, w, y, z):\n",
    "    print(x,w,y,z)\n",
    "\n",
    "foo(1,2,3,4)\n",
    "foo(x=3, y=22, w='hello', z=[1,2])"
   ]
  },
  {
   "cell_type": "code",
   "execution_count": 46,
   "id": "e9fcf0fd",
   "metadata": {},
   "outputs": [
    {
     "name": "stdout",
     "output_type": "stream",
     "text": [
      "hello 3 22 [1, 2]\n"
     ]
    }
   ],
   "source": [
    "foo('hello', 3, z=[1,2], y=22)"
   ]
  },
  {
   "cell_type": "code",
   "execution_count": 47,
   "id": "7c79e60f",
   "metadata": {},
   "outputs": [
    {
     "ename": "TypeError",
     "evalue": "foo() got multiple values for argument 'w'",
     "output_type": "error",
     "traceback": [
      "\u001b[1;31m---------------------------------------------------------------------------\u001b[0m",
      "\u001b[1;31mTypeError\u001b[0m                                 Traceback (most recent call last)",
      "\u001b[1;32m<ipython-input-47-50f749555211>\u001b[0m in \u001b[0;36m<module>\u001b[1;34m\u001b[0m\n\u001b[1;32m----> 1\u001b[1;33m \u001b[0mfoo\u001b[0m\u001b[1;33m(\u001b[0m\u001b[1;36m3\u001b[0m\u001b[1;33m,\u001b[0m \u001b[1;36m22\u001b[0m\u001b[1;33m,\u001b[0m \u001b[0mw\u001b[0m\u001b[1;33m=\u001b[0m\u001b[1;34m'hello'\u001b[0m\u001b[1;33m,\u001b[0m \u001b[0mz\u001b[0m\u001b[1;33m=\u001b[0m\u001b[1;33m[\u001b[0m\u001b[1;36m1\u001b[0m\u001b[1;33m,\u001b[0m\u001b[1;36m2\u001b[0m\u001b[1;33m]\u001b[0m\u001b[1;33m)\u001b[0m\u001b[1;33m\u001b[0m\u001b[1;33m\u001b[0m\u001b[0m\n\u001b[0m",
      "\u001b[1;31mTypeError\u001b[0m: foo() got multiple values for argument 'w'"
     ]
    }
   ],
   "source": [
    "foo(3, 22, w='hello', z=[1,2])"
   ]
  },
  {
   "cell_type": "markdown",
   "id": "af90c191",
   "metadata": {},
   "source": [
    "### 키워드 가변인자"
   ]
  },
  {
   "cell_type": "code",
   "execution_count": 53,
   "id": "d080b696",
   "metadata": {},
   "outputs": [
    {
     "name": "stdout",
     "output_type": "stream",
     "text": [
      "{'fgcolor': 'red', 'bgcolor': 'black', 'width': 400}\n",
      "red\n",
      "black\n",
      "400\n"
     ]
    }
   ],
   "source": [
    "def make_table(data, **parms):\n",
    "    print(parms)\n",
    "    fgcolor = parms.pop(\"fgcolor\", \"black\")\n",
    "    bgcolor = parms.pop(\"bgcolor\", \"white\")\n",
    "    width = parms.pop(\"width\", None)\n",
    "    print(fgcolor)\n",
    "    print(bgcolor)\n",
    "    print(width)\n",
    "    if parms:\n",
    "        raise TypeError(\"UnSupported configuration options %s\"% list(parms))\n",
    "\n",
    "items=[1,2,3]\n",
    "# make_table(items, fgcolor=\"red\", bgcolor=\"black\",\n",
    "#           border=1, borderstyle=\"grooved\",width=400)\n",
    "\n",
    "make_table(items, fgcolor=\"red\", bgcolor=\"black\",width=400)\n",
    "# make_table(items,width=400)"
   ]
  },
  {
   "cell_type": "markdown",
   "id": "20c3d1c8",
   "metadata": {},
   "source": [
    "### 키워드 아규먼트만 받는 함수"
   ]
  },
  {
   "cell_type": "code",
   "execution_count": 63,
   "id": "15e2c1f1",
   "metadata": {},
   "outputs": [
    {
     "name": "stdout",
     "output_type": "stream",
     "text": [
      "recv() takes 1 positional argument but 2 were given\n"
     ]
    }
   ],
   "source": [
    "def recv(maxsize, *, block=True):\n",
    "    print(maxsize, block)\n",
    "\n",
    "# recv(8192, 1,2,3, block=False)        # Works\n",
    "\n",
    "# recv(8192,  block=False)\n",
    "\n",
    "# recv(8192, False) \n",
    "\n",
    "try:\n",
    "    recv(8192, False)          # Fails\n",
    "except TypeError as e:\n",
    "    print(e)"
   ]
  },
  {
   "cell_type": "code",
   "execution_count": 71,
   "id": "74a847c6",
   "metadata": {},
   "outputs": [
    {
     "name": "stdout",
     "output_type": "stream",
     "text": [
      "-5\n",
      "0\n"
     ]
    }
   ],
   "source": [
    "def minimum(*values, clip=None):\n",
    "    m = min(values)\n",
    "    if clip is not None:\n",
    "        m = clip if clip > m else m\n",
    "    return m\n",
    "\n",
    "print(minimum(1, 5, 2, -5, 10))\n",
    "print(minimum(1, 5, 2, -5, 10, clip=0))"
   ]
  },
  {
   "cell_type": "code",
   "execution_count": 72,
   "id": "35584be8",
   "metadata": {},
   "outputs": [
    {
     "name": "stdout",
     "output_type": "stream",
     "text": [
      "[5 5 5 5 5 6 7 8 8]\n"
     ]
    }
   ],
   "source": [
    "import numpy as np\n",
    "a = np.array([1,2,3,4,5,6,7,8,9])\n",
    "b = np.clip(a, 5, 8)\n",
    "print(b)"
   ]
  },
  {
   "cell_type": "markdown",
   "id": "2cab7ffa",
   "metadata": {},
   "source": [
    "### 매개변수 전달과 반환값"
   ]
  },
  {
   "cell_type": "code",
   "execution_count": 73,
   "id": "257f57c8",
   "metadata": {},
   "outputs": [
    {
     "name": "stdout",
     "output_type": "stream",
     "text": [
      "[1, 4, 9, 16, 25]\n"
     ]
    }
   ],
   "source": [
    "a = [1, 2, 3, 4, 5]\n",
    "def square(items):\n",
    "    for i, x in enumerate(items):\n",
    "        items[i] = x * x\n",
    "\n",
    "square(a)\n",
    "print(a)"
   ]
  },
  {
   "cell_type": "code",
   "execution_count": 75,
   "id": "bae59097",
   "metadata": {},
   "outputs": [
    {
     "name": "stdout",
     "output_type": "stream",
     "text": [
      "3\n",
      "1\n"
     ]
    }
   ],
   "source": [
    "def divide(a,b):\n",
    "    return a//b, a%b\n",
    "\n",
    "x, y = divide(10,3)\n",
    "print(x)\n",
    "print(y)"
   ]
  },
  {
   "cell_type": "markdown",
   "id": "0cdc45aa",
   "metadata": {},
   "source": [
    "### 유효 범위의 규칙"
   ]
  },
  {
   "cell_type": "code",
   "execution_count": 77,
   "id": "a0b8c00d",
   "metadata": {},
   "outputs": [
    {
     "name": "stdout",
     "output_type": "stream",
     "text": [
      "42\n",
      "42\n"
     ]
    }
   ],
   "source": [
    "a = 42\n",
    "def foo():\n",
    "    print(a)\n",
    "#     a = 13\n",
    "    \n",
    "foo()\n",
    "print(a)"
   ]
  },
  {
   "cell_type": "code",
   "execution_count": 79,
   "id": "51760b97",
   "metadata": {},
   "outputs": [
    {
     "name": "stdout",
     "output_type": "stream",
     "text": [
      "13\n",
      "42\n"
     ]
    }
   ],
   "source": [
    "a = 42\n",
    "def foo():\n",
    "    a = 13\n",
    "    print(a)\n",
    "    \n",
    "foo()\n",
    "print(a)"
   ]
  },
  {
   "cell_type": "code",
   "execution_count": 80,
   "id": "bfc7d07a",
   "metadata": {},
   "outputs": [
    {
     "name": "stdout",
     "output_type": "stream",
     "text": [
      "13\n",
      "13\n"
     ]
    }
   ],
   "source": [
    "a = 42\n",
    "def foo():\n",
    "    global a\n",
    "    a = 13\n",
    "    print(a)\n",
    "    \n",
    "foo()\n",
    "print(a)"
   ]
  },
  {
   "cell_type": "code",
   "execution_count": 81,
   "id": "64dc9600",
   "metadata": {},
   "outputs": [
    {
     "name": "stdout",
     "output_type": "stream",
     "text": [
      "a=13, b=37\n"
     ]
    }
   ],
   "source": [
    "a = 42\n",
    "b = 37\n",
    "def foo():\n",
    "    global a\n",
    "    a = 13\n",
    "    b = 0\n",
    "    \n",
    "foo()\n",
    "print(\"a=%d, b=%d\"%(a,b))"
   ]
  },
  {
   "cell_type": "code",
   "execution_count": 82,
   "id": "2cbb31e7",
   "metadata": {},
   "outputs": [
    {
     "name": "stdout",
     "output_type": "stream",
     "text": [
      "a=13, b=0\n"
     ]
    }
   ],
   "source": [
    "a = 42\n",
    "b = 37\n",
    "def foo():\n",
    "    global a,b\n",
    "    a = 13\n",
    "    b = 0\n",
    "    \n",
    "foo()\n",
    "print(\"a=%d, b=%d\"%(a,b))"
   ]
  },
  {
   "cell_type": "code",
   "execution_count": 84,
   "id": "673de44a",
   "metadata": {},
   "outputs": [
    {
     "name": "stdout",
     "output_type": "stream",
     "text": [
      "T-minus 3\n",
      "T-minus 2\n",
      "T-minus 1\n"
     ]
    }
   ],
   "source": [
    "def countdown(start):\n",
    "    n = start\n",
    "    def display():\n",
    "        print('T-minus %d' % n)\n",
    "    while n > 0 :\n",
    "        display()\n",
    "        n -= 1\n",
    "\n",
    "countdown(3)"
   ]
  },
  {
   "cell_type": "code",
   "execution_count": 87,
   "id": "5be7a730",
   "metadata": {},
   "outputs": [
    {
     "name": "stdout",
     "output_type": "stream",
     "text": [
      "T-minus 3\n",
      "T-minus 2\n",
      "T-minus 1\n"
     ]
    }
   ],
   "source": [
    "def countdown(start):\n",
    "    n = start\n",
    "    def display():\n",
    "        print('T-minus %d' % n)\n",
    "    def decrement():\n",
    "        nonlocal n\n",
    "        n -= 1\n",
    "    while n > 0 :\n",
    "        display()\n",
    "        decrement();\n",
    "\n",
    "countdown(3)\n"
   ]
  },
  {
   "cell_type": "markdown",
   "id": "dce2accf",
   "metadata": {},
   "source": [
    "### 람다"
   ]
  },
  {
   "cell_type": "code",
   "execution_count": 89,
   "id": "33692ce4",
   "metadata": {},
   "outputs": [
    {
     "name": "stdout",
     "output_type": "stream",
     "text": [
      "8\n"
     ]
    }
   ],
   "source": [
    "def add( x, y ):\n",
    "    return x+y\n",
    "\n",
    "print(add(3, 5))"
   ]
  },
  {
   "cell_type": "code",
   "execution_count": 90,
   "id": "ebe108cb",
   "metadata": {},
   "outputs": [
    {
     "name": "stdout",
     "output_type": "stream",
     "text": [
      "8\n"
     ]
    }
   ],
   "source": [
    "add = lambda x, y : x + y\n",
    "print(add(3, 5))"
   ]
  },
  {
   "cell_type": "code",
   "execution_count": 94,
   "id": "da63f85e",
   "metadata": {},
   "outputs": [
    {
     "name": "stdout",
     "output_type": "stream",
     "text": [
      "[1, 2, 3, 4, 5]\n"
     ]
    }
   ],
   "source": [
    "a = [3,4,2,5,1]\n",
    "a.sort()\n",
    "print(a)"
   ]
  },
  {
   "cell_type": "code",
   "execution_count": 98,
   "id": "cb4cee40",
   "metadata": {
    "scrolled": true
   },
   "outputs": [
    {
     "name": "stdout",
     "output_type": "stream",
     "text": [
      "<class 'list'>\n",
      "<class 'tuple'>\n",
      "[(13, -3), (4, 1), (1, 2), (9, 10)]\n"
     ]
    }
   ],
   "source": [
    "a = [(1, 2), (4, 1), (9, 10),(13, -3)]\n",
    "print(type(a))\n",
    "print(type(a[0]))\n",
    "\n",
    "a.sort(key=lambda x: x[1])\n",
    "print(a)\n"
   ]
  },
  {
   "cell_type": "code",
   "execution_count": 101,
   "id": "82abf013",
   "metadata": {},
   "outputs": [
    {
     "name": "stdout",
     "output_type": "stream",
     "text": [
      "30\n"
     ]
    }
   ],
   "source": [
    "x = 10\n",
    "def foo(y):\n",
    "    return x + y\n",
    "\n",
    "x = 20\n",
    "print(foo(10))"
   ]
  },
  {
   "cell_type": "code",
   "execution_count": 102,
   "id": "9f9e07b2",
   "metadata": {},
   "outputs": [
    {
     "name": "stdout",
     "output_type": "stream",
     "text": [
      "30\n",
      "30\n"
     ]
    }
   ],
   "source": [
    "x = 10\n",
    "a = lambda y : x + y\n",
    "x = 20\n",
    "b = lambda y : x + y\n",
    "\n",
    "print(a(10))\n",
    "print(b(10))\n"
   ]
  },
  {
   "cell_type": "code",
   "execution_count": 103,
   "id": "8bda72ed",
   "metadata": {},
   "outputs": [
    {
     "name": "stdout",
     "output_type": "stream",
     "text": [
      "25\n",
      "13\n"
     ]
    }
   ],
   "source": [
    "x = 15\n",
    "print(a(10))\n",
    "x = 3\n",
    "print(a(10))"
   ]
  },
  {
   "cell_type": "code",
   "execution_count": 107,
   "id": "f4aa8cf4",
   "metadata": {},
   "outputs": [
    {
     "name": "stdout",
     "output_type": "stream",
     "text": [
      "20\n",
      "30\n"
     ]
    }
   ],
   "source": [
    "x = 10\n",
    "a = lambda y, x=x : x + y\n",
    "x = 20\n",
    "b = lambda y, x=x : x + y\n",
    "\n",
    "print(a(10))\n",
    "print(b(10))"
   ]
  },
  {
   "cell_type": "code",
   "execution_count": 115,
   "id": "a68ca966",
   "metadata": {},
   "outputs": [
    {
     "name": "stdout",
     "output_type": "stream",
     "text": [
      "[10, 11, 12, 13, 14]\n"
     ]
    }
   ],
   "source": [
    "a = [n+10 for n in range(5)]\n",
    "print(a)"
   ]
  },
  {
   "cell_type": "code",
   "execution_count": 118,
   "id": "ed83c344",
   "metadata": {},
   "outputs": [
    {
     "name": "stdout",
     "output_type": "stream",
     "text": [
      "[<function <listcomp>.<lambda> at 0x000001B97CE3FF70>, <function <listcomp>.<lambda> at 0x000001B97C98C430>, <function <listcomp>.<lambda> at 0x000001B97C98C670>, <function <listcomp>.<lambda> at 0x000001B97C98C700>, <function <listcomp>.<lambda> at 0x000001B97CE895E0>]\n",
      "10\n"
     ]
    }
   ],
   "source": [
    "a = [lambda x:10 for n in range(5)]\n",
    "print(a)\n",
    "print(a[0](10))"
   ]
  },
  {
   "cell_type": "code",
   "execution_count": 112,
   "id": "8ec3e8e5",
   "metadata": {},
   "outputs": [
    {
     "name": "stdout",
     "output_type": "stream",
     "text": [
      "<class 'function'>\n",
      "4 4 4 4 4 "
     ]
    }
   ],
   "source": [
    "funcs = [lambda x: x+n for n in range(5)]\n",
    "print(type(funcs[0]))\n",
    "for f in funcs:\n",
    "    print(f(0), end=' ')"
   ]
  },
  {
   "cell_type": "code",
   "execution_count": 114,
   "id": "0086628f",
   "metadata": {},
   "outputs": [
    {
     "name": "stdout",
     "output_type": "stream",
     "text": [
      "<class 'function'>\n",
      "10 11 12 13 14 "
     ]
    }
   ],
   "source": [
    "funcs = [lambda x, n=n: x+n for n in range(5)]\n",
    "print(type(funcs[0]))\n",
    "for f in funcs:\n",
    "    print(f(10), end=' ')"
   ]
  },
  {
   "cell_type": "code",
   "execution_count": 120,
   "id": "37056242",
   "metadata": {},
   "outputs": [
    {
     "name": "stdout",
     "output_type": "stream",
     "text": [
      "foo()\n",
      "bar()\n"
     ]
    }
   ],
   "source": [
    "def foo():\n",
    "    print(\"foo()\")\n",
    "    \n",
    "def bar():\n",
    "    print(\"bar()\")\n",
    "funcs = [foo, bar]\n",
    "for func in funcs:\n",
    "    func()"
   ]
  },
  {
   "cell_type": "code",
   "execution_count": 121,
   "id": "f43e0f43",
   "metadata": {},
   "outputs": [
    {
     "name": "stdout",
     "output_type": "stream",
     "text": [
      "1\n",
      "2\n"
     ]
    }
   ],
   "source": [
    "funcs = [lambda : print(1), lambda : print(2)]\n",
    "for func in funcs:\n",
    "    func()"
   ]
  },
  {
   "cell_type": "code",
   "execution_count": 122,
   "id": "ed5ecccb",
   "metadata": {},
   "outputs": [
    {
     "name": "stdout",
     "output_type": "stream",
     "text": [
      "1\n",
      "2\n",
      "3\n",
      "4\n",
      "5\n"
     ]
    }
   ],
   "source": [
    "funcs = [lambda n=n: print(n) for n in range(1,6)]\n",
    "for func in funcs:\n",
    "    func()"
   ]
  },
  {
   "cell_type": "markdown",
   "id": "244001b0",
   "metadata": {},
   "source": [
    "### 함수의 인자에 메타데이터 넣기"
   ]
  },
  {
   "cell_type": "code",
   "execution_count": 129,
   "id": "6ec227d1",
   "metadata": {},
   "outputs": [
    {
     "name": "stdout",
     "output_type": "stream",
     "text": [
      "Help on function add in module __main__:\n",
      "\n",
      "add(x, y)\n",
      "\n"
     ]
    },
    {
     "data": {
      "text/plain": [
       "{}"
      ]
     },
     "execution_count": 129,
     "metadata": {},
     "output_type": "execute_result"
    }
   ],
   "source": [
    "def add(x, y):\n",
    "    return x + y\n",
    "\n",
    "add(10,20)\n",
    "help(add)\n",
    "\n",
    "add.__annotations__"
   ]
  },
  {
   "cell_type": "code",
   "execution_count": 125,
   "id": "9ef84d72",
   "metadata": {},
   "outputs": [
    {
     "name": "stdout",
     "output_type": "stream",
     "text": [
      "Help on function add in module __main__:\n",
      "\n",
      "add(x: int, y: int) -> int\n",
      "\n"
     ]
    }
   ],
   "source": [
    "def add(x:int, y:int) -> int:\n",
    "    return x + y\n",
    "\n",
    "help(add)"
   ]
  },
  {
   "cell_type": "code",
   "execution_count": 126,
   "id": "c88bb741",
   "metadata": {},
   "outputs": [
    {
     "data": {
      "text/plain": [
       "50"
      ]
     },
     "execution_count": 126,
     "metadata": {},
     "output_type": "execute_result"
    }
   ],
   "source": [
    "add(20,30)"
   ]
  },
  {
   "cell_type": "code",
   "execution_count": 127,
   "id": "0a0d9172",
   "metadata": {},
   "outputs": [
    {
     "data": {
      "text/plain": [
       "{'x': int, 'y': int, 'return': int}"
      ]
     },
     "execution_count": 127,
     "metadata": {},
     "output_type": "execute_result"
    }
   ],
   "source": [
    "add.__annotations__"
   ]
  },
  {
   "cell_type": "code",
   "execution_count": 128,
   "id": "2759081c",
   "metadata": {},
   "outputs": [
    {
     "name": "stdout",
     "output_type": "stream",
     "text": [
      "<class 'type'>\n"
     ]
    }
   ],
   "source": [
    "print(type(int))"
   ]
  },
  {
   "cell_type": "code",
   "execution_count": 130,
   "id": "d1e24869",
   "metadata": {
    "scrolled": true
   },
   "outputs": [
    {
     "name": "stdout",
     "output_type": "stream",
     "text": [
      "['__annotations__', '__call__', '__class__', '__closure__', '__code__', '__defaults__', '__delattr__', '__dict__', '__dir__', '__doc__', '__eq__', '__format__', '__ge__', '__get__', '__getattribute__', '__globals__', '__gt__', '__hash__', '__init__', '__init_subclass__', '__kwdefaults__', '__le__', '__lt__', '__module__', '__name__', '__ne__', '__new__', '__qualname__', '__reduce__', '__reduce_ex__', '__repr__', '__setattr__', '__sizeof__', '__str__', '__subclasshook__']\n"
     ]
    }
   ],
   "source": [
    "print(dir(add))"
   ]
  },
  {
   "cell_type": "markdown",
   "id": "ba287db8",
   "metadata": {},
   "source": [
    "### 클로저"
   ]
  },
  {
   "cell_type": "code",
   "execution_count": 142,
   "id": "cdc4690a",
   "metadata": {},
   "outputs": [
    {
     "name": "stdout",
     "output_type": "stream",
     "text": [
      "8 11 14 17 20\n"
     ]
    }
   ],
   "source": [
    "def calc():\n",
    "    a = 3\n",
    "    b = 5\n",
    "    def mul_add(x):\n",
    "        return a * x + b \n",
    "    return mul_add          \n",
    " \n",
    "c = calc()\n",
    "print(c(1), c(2), c(3), c(4), c(5))"
   ]
  },
  {
   "cell_type": "code",
   "execution_count": 143,
   "id": "99ed8fd2",
   "metadata": {},
   "outputs": [
    {
     "name": "stdout",
     "output_type": "stream",
     "text": [
      "['__annotations__', '__call__', '__class__', '__closure__', '__code__', '__defaults__', '__delattr__', '__dict__', '__dir__', '__doc__', '__eq__', '__format__', '__ge__', '__get__', '__getattribute__', '__globals__', '__gt__', '__hash__', '__init__', '__init_subclass__', '__kwdefaults__', '__le__', '__lt__', '__module__', '__name__', '__ne__', '__new__', '__qualname__', '__reduce__', '__reduce_ex__', '__repr__', '__setattr__', '__sizeof__', '__str__', '__subclasshook__']\n"
     ]
    }
   ],
   "source": [
    "print(dir(c))"
   ]
  },
  {
   "cell_type": "code",
   "execution_count": 146,
   "id": "1be06225",
   "metadata": {},
   "outputs": [
    {
     "data": {
      "text/plain": [
       "(<cell at 0x000001B97CE58790: int object at 0x00007FFB53FE2770>,\n",
       " <cell at 0x000001B97CE58A60: int object at 0x00007FFB53FE27B0>)"
      ]
     },
     "execution_count": 146,
     "metadata": {},
     "output_type": "execute_result"
    }
   ],
   "source": [
    "c.__closure__"
   ]
  },
  {
   "cell_type": "code",
   "execution_count": 150,
   "id": "2846bc63",
   "metadata": {},
   "outputs": [
    {
     "name": "stdout",
     "output_type": "stream",
     "text": [
      "2\n",
      "<class 'cell'>\n",
      "['__class__', '__delattr__', '__dir__', '__doc__', '__eq__', '__format__', '__ge__', '__getattribute__', '__gt__', '__hash__', '__init__', '__init_subclass__', '__le__', '__lt__', '__ne__', '__new__', '__reduce__', '__reduce_ex__', '__repr__', '__setattr__', '__sizeof__', '__str__', '__subclasshook__', 'cell_contents']\n"
     ]
    }
   ],
   "source": [
    "print(len(c.__closure__))\n",
    "print(type(c.__closure__[0]))\n",
    "print(dir(c.__closure__[0]))"
   ]
  },
  {
   "cell_type": "code",
   "execution_count": 152,
   "id": "984aa5c9",
   "metadata": {},
   "outputs": [
    {
     "name": "stdout",
     "output_type": "stream",
     "text": [
      "3\n",
      "5\n"
     ]
    }
   ],
   "source": [
    "print(c.__closure__[0].cell_contents)\n",
    "print(c.__closure__[1].cell_contents)"
   ]
  },
  {
   "cell_type": "code",
   "execution_count": 153,
   "id": "28c1ae07",
   "metadata": {},
   "outputs": [
    {
     "name": "stdout",
     "output_type": "stream",
     "text": [
      "8 11 14 17 20\n"
     ]
    }
   ],
   "source": [
    "def calc():\n",
    "    a = 3\n",
    "    b = 5\n",
    "    return lambda x: a * x + b    \n",
    " \n",
    "c = calc()\n",
    "print(c(1), c(2), c(3), c(4), c(5))"
   ]
  },
  {
   "cell_type": "code",
   "execution_count": 154,
   "id": "89651bac",
   "metadata": {},
   "outputs": [
    {
     "name": "stdout",
     "output_type": "stream",
     "text": [
      "3\n",
      "5\n"
     ]
    }
   ],
   "source": [
    "print(c.__closure__[0].cell_contents)\n",
    "print(c.__closure__[1].cell_contents)"
   ]
  },
  {
   "cell_type": "code",
   "execution_count": 166,
   "id": "ac3c8bb4",
   "metadata": {},
   "outputs": [
    {
     "name": "stdout",
     "output_type": "stream",
     "text": [
      "foo()\n",
      "['__annotations__', '__call__', '__class__', '__closure__', '__code__', '__defaults__', '__delattr__', '__dict__', '__dir__', '__doc__', '__eq__', '__format__', '__ge__', '__get__', '__getattribute__', '__globals__', '__gt__', '__hash__', '__init__', '__init_subclass__', '__kwdefaults__', '__le__', '__lt__', '__module__', '__name__', '__ne__', '__new__', '__qualname__', '__reduce__', '__reduce_ex__', '__repr__', '__setattr__', '__sizeof__', '__str__', '__subclasshook__', 'func']\n"
     ]
    }
   ],
   "source": [
    "def sample():\n",
    "    n = 0           \n",
    "    def func():\n",
    "        print('n =', n)\n",
    "\n",
    "    def get_num():\n",
    "        print(\"get_num()\")\n",
    "        return n\n",
    "\n",
    "    def set_num(value):\n",
    "        print(\"set_num()\")\n",
    "        nonlocal n\n",
    "        n = value\n",
    "\n",
    "    return func\n",
    "\n",
    "def foo():\n",
    "    print(\"foo()\")\n",
    "f = sample()\n",
    "f.func = foo\n",
    "f.func()\n",
    "print(dir(f))"
   ]
  },
  {
   "cell_type": "code",
   "execution_count": 162,
   "id": "cf419092",
   "metadata": {},
   "outputs": [],
   "source": [
    "def sample():\n",
    "    n = 0           \n",
    "    def func():\n",
    "        print('n =', n)\n",
    "\n",
    "    def get_num():\n",
    "        print(\"get_num()\")\n",
    "        return n\n",
    "\n",
    "    def set_num(value):\n",
    "        print(\"set_num()\")\n",
    "        nonlocal n\n",
    "        n = value\n",
    "\n",
    "    func.get_n = get_num\n",
    "    func.set_n = set_num\n",
    "    return func"
   ]
  },
  {
   "cell_type": "code",
   "execution_count": 163,
   "id": "903905ca",
   "metadata": {},
   "outputs": [
    {
     "name": "stdout",
     "output_type": "stream",
     "text": [
      "get_num()\n",
      "set_num()\n",
      "get_num()\n"
     ]
    },
    {
     "data": {
      "text/plain": [
       "10"
      ]
     },
     "execution_count": 163,
     "metadata": {},
     "output_type": "execute_result"
    }
   ],
   "source": [
    "f = sample()\n",
    "f.get_n()\n",
    "f.set_n(10)\n",
    "f.get_n()"
   ]
  },
  {
   "cell_type": "code",
   "execution_count": 164,
   "id": "03bb5ad7",
   "metadata": {},
   "outputs": [
    {
     "name": "stdout",
     "output_type": "stream",
     "text": [
      "['__annotations__', '__call__', '__class__', '__closure__', '__code__', '__defaults__', '__delattr__', '__dict__', '__dir__', '__doc__', '__eq__', '__format__', '__ge__', '__get__', '__getattribute__', '__globals__', '__gt__', '__hash__', '__init__', '__init_subclass__', '__kwdefaults__', '__le__', '__lt__', '__module__', '__name__', '__ne__', '__new__', '__qualname__', '__reduce__', '__reduce_ex__', '__repr__', '__setattr__', '__sizeof__', '__str__', '__subclasshook__', 'get_n', 'set_n']\n"
     ]
    }
   ],
   "source": [
    "print(dir(f))"
   ]
  },
  {
   "cell_type": "markdown",
   "id": "b1607f18",
   "metadata": {},
   "source": [
    "### 데코레이터"
   ]
  },
  {
   "cell_type": "code",
   "execution_count": 170,
   "id": "fd64c537",
   "metadata": {},
   "outputs": [
    {
     "name": "stdout",
     "output_type": "stream",
     "text": [
      "ccc()\n",
      "bbb()\n"
     ]
    }
   ],
   "source": [
    "def bbb(func):\n",
    "    func()\n",
    "    print(\"bbb()\")\n",
    "   \n",
    "#-----------------------------------------\n",
    "\n",
    "def aaa():\n",
    "    print(\"aaa()\")\n",
    "\n",
    "def ccc():\n",
    "    print(\"ccc()\")\n",
    "    \n",
    "bbb(ccc)"
   ]
  },
  {
   "cell_type": "code",
   "execution_count": 178,
   "id": "7bac6317",
   "metadata": {},
   "outputs": [
    {
     "name": "stdout",
     "output_type": "stream",
     "text": [
      "함수를 시작합니다.\n",
      "big_number()\n",
      "함수를 종료합니다.\n",
      "<function big_number at 0x000001B97CEBD550>\n",
      "<function big_number at 0x000001B97CEBD550>\n"
     ]
    }
   ],
   "source": [
    "def big_number(n):\n",
    "    print(\"big_number()\")\n",
    "    return n ** n ** n\n",
    "\n",
    "def make_func_alarm(func):\n",
    "    def new_func(*args, **kwargs):\n",
    "        print(\"함수를 시작합니다.\")\n",
    "        result = func(*args, **kwargs)\n",
    "        print('함수를 종료합니다.')\n",
    "        return result\n",
    "    return new_func\n",
    "\n",
    "new_func = make_func_alarm(big_number)\n",
    "new_func(2)\n",
    "\n",
    "print(big_number)\n",
    "print(new_func.__closure__[0].cell_contents)"
   ]
  },
  {
   "cell_type": "code",
   "execution_count": 181,
   "id": "df828a2a",
   "metadata": {},
   "outputs": [
    {
     "name": "stdout",
     "output_type": "stream",
     "text": [
      "함수를 시작합니다.\n",
      "함수를 종료합니다.\n"
     ]
    },
    {
     "data": {
      "text/plain": [
       "16"
      ]
     },
     "execution_count": 181,
     "metadata": {},
     "output_type": "execute_result"
    }
   ],
   "source": [
    "def make_func_alarm(func):\n",
    "    def new_func(*args, **kwargs):\n",
    "        print(\"함수를 시작합니다.\")\n",
    "        result = func(*args, **kwargs)\n",
    "        print('함수를 종료합니다.')\n",
    "        return result\n",
    "    return new_func\n",
    "\n",
    "@make_func_alarm\n",
    "def big_number(n):\n",
    "      return n ** n ** n\n",
    "    \n",
    "big_number(2)\n"
   ]
  },
  {
   "cell_type": "code",
   "execution_count": null,
   "id": "c3082ed2",
   "metadata": {},
   "outputs": [],
   "source": []
  }
 ],
 "metadata": {
  "kernelspec": {
   "display_name": "Python 3",
   "language": "python",
   "name": "python3"
  },
  "language_info": {
   "codemirror_mode": {
    "name": "ipython",
    "version": 3
   },
   "file_extension": ".py",
   "mimetype": "text/x-python",
   "name": "python",
   "nbconvert_exporter": "python",
   "pygments_lexer": "ipython3",
   "version": "3.8.8"
  }
 },
 "nbformat": 4,
 "nbformat_minor": 5
}
