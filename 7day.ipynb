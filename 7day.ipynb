{
 "cells": [
  {
   "cell_type": "markdown",
   "id": "32fbfc0c",
   "metadata": {},
   "source": [
    "### 연습문제 2번"
   ]
  },
  {
   "cell_type": "code",
   "execution_count": 7,
   "id": "a9b75297",
   "metadata": {},
   "outputs": [
    {
     "name": "stdout",
     "output_type": "stream",
     "text": [
      "level\n",
      "level\n",
      "회문(Palindrome)입니다.\n"
     ]
    }
   ],
   "source": [
    "t = input()\n",
    "\n",
    "# answer = t[::-1]\n",
    "\n",
    "answer = \"\"\n",
    "for i in range( len(t)-1, -1, -1 ):\n",
    "    answer += t[i]\n",
    "\n",
    "print(answer)\n",
    "if t == answer: \n",
    "    print(\"회문(Palindrome)입니다.\")\n",
    "else:\n",
    "    print(\"회문(Palindrome)이 아닙니다.\")"
   ]
  },
  {
   "cell_type": "markdown",
   "id": "69b0b684",
   "metadata": {},
   "source": [
    "### 연습문제 3번"
   ]
  },
  {
   "cell_type": "code",
   "execution_count": 11,
   "id": "f5dcc0b2",
   "metadata": {},
   "outputs": [
    {
     "name": "stdout",
     "output_type": "stream",
     "text": [
      "A형 3명, B형 2명,AB형 2명,O형 3명\n"
     ]
    }
   ],
   "source": [
    "result = {\"A\" : 0, \"B\" : 0, \"AB\" : 0, \"O\" : 0}\n",
    "students = ['A', 'A', 'A', 'O', 'B', 'B', 'O', 'AB', 'AB', 'O']\n",
    "\n",
    "for i in students:\n",
    "#    print(i)\n",
    "    result[i] += 1\n",
    "    \n",
    "print(\"A형 %d명, B형 %d명,AB형 %d명,O형 %d명\"%(result['A'],result['B'],result['AB'],result['O']))"
   ]
  },
  {
   "cell_type": "markdown",
   "id": "7524a7ea",
   "metadata": {},
   "source": [
    "### 연습문제 4번"
   ]
  },
  {
   "cell_type": "code",
   "execution_count": 15,
   "id": "3c4e7da7",
   "metadata": {},
   "outputs": [
    {
     "name": "stdout",
     "output_type": "stream",
     "text": [
      " 0 1 * 2 1\n",
      " 1 2 3 * 1\n",
      " 2 * 5 3 2\n",
      " 3 * * * 1\n",
      " * 4 * 3 1\n"
     ]
    }
   ],
   "source": [
    "matrix = [['.','.','*','.','.'],\n",
    "          ['.','.','.','*','.'],\n",
    "          ['.','*','.','.','.'],\n",
    "          ['.','*','*','*','.'],\n",
    "          ['*','.','*','.','.']]\n",
    "\n",
    "for i in range(5):\n",
    "    for j in range(5):\n",
    "        if matrix[i][j] == '*':\n",
    "            continue\n",
    "        r_start = 0 if i-1 < 0 else i-1\n",
    "        r_end = 4 if i+1 >= 5 else i+1\n",
    "        c_start = 0 if j-1 < 0 else j-1\n",
    "        c_end = 4 if j+1 >= 5 else j+1\n",
    "        count=0\n",
    "        for row in range(r_start, r_end+1):\n",
    "            for col in range(c_start, c_end+1):\n",
    "                if matrix[row][col] == '*':\n",
    "                    count+=1\n",
    "        matrix[i][j] = str(count)\n",
    "\n",
    "for i in range(5):\n",
    "    for j in range(5):\n",
    "        print( \"%2c\"%matrix[i][j],end=\"\")\n",
    "    print()"
   ]
  },
  {
   "cell_type": "markdown",
   "id": "4aa175ec",
   "metadata": {},
   "source": [
    "## 7장 파일 입출력"
   ]
  },
  {
   "cell_type": "code",
   "execution_count": 19,
   "id": "5c9fddbd",
   "metadata": {},
   "outputs": [
    {
     "name": "stdout",
     "output_type": "stream",
     "text": [
      "<_io.TextIOWrapper name='hello.txt' mode='w' encoding='cp949'>\n"
     ]
    }
   ],
   "source": [
    "file = open(\"hello.txt\", \"w\")\n",
    "print(file)\n",
    "file.write(\"Hello world!!\")\n",
    "file.close()"
   ]
  },
  {
   "cell_type": "code",
   "execution_count": 20,
   "id": "6fdbeb81",
   "metadata": {
    "scrolled": true
   },
   "outputs": [
    {
     "name": "stdout",
     "output_type": "stream",
     "text": [
      "<_io.TextIOWrapper name='hello.txt' mode='r' encoding='cp949'>\n"
     ]
    },
    {
     "ename": "TypeError",
     "evalue": "object of type '_io.TextIOWrapper' has no len()",
     "output_type": "error",
     "traceback": [
      "\u001b[1;31m---------------------------------------------------------------------------\u001b[0m",
      "\u001b[1;31mTypeError\u001b[0m                                 Traceback (most recent call last)",
      "\u001b[1;32m<ipython-input-20-58062bc8cea7>\u001b[0m in \u001b[0;36m<module>\u001b[1;34m\u001b[0m\n\u001b[0;32m      1\u001b[0m \u001b[0mfile\u001b[0m \u001b[1;33m=\u001b[0m \u001b[0mopen\u001b[0m\u001b[1;33m(\u001b[0m\u001b[1;34m\"hello.txt\"\u001b[0m\u001b[1;33m,\u001b[0m \u001b[1;34m\"r\"\u001b[0m\u001b[1;33m)\u001b[0m\u001b[1;33m\u001b[0m\u001b[1;33m\u001b[0m\u001b[0m\n\u001b[0;32m      2\u001b[0m \u001b[0mprint\u001b[0m\u001b[1;33m(\u001b[0m\u001b[0mfile\u001b[0m\u001b[1;33m)\u001b[0m\u001b[1;33m\u001b[0m\u001b[1;33m\u001b[0m\u001b[0m\n\u001b[1;32m----> 3\u001b[1;33m \u001b[0mprint\u001b[0m\u001b[1;33m(\u001b[0m\u001b[0mlen\u001b[0m\u001b[1;33m(\u001b[0m\u001b[0mfile\u001b[0m\u001b[1;33m)\u001b[0m\u001b[1;33m)\u001b[0m\u001b[1;33m\u001b[0m\u001b[1;33m\u001b[0m\u001b[0m\n\u001b[0m\u001b[0;32m      4\u001b[0m \u001b[0ms\u001b[0m \u001b[1;33m=\u001b[0m \u001b[0mfile\u001b[0m\u001b[1;33m.\u001b[0m\u001b[0mread\u001b[0m\u001b[1;33m(\u001b[0m\u001b[1;33m)\u001b[0m\u001b[1;33m\u001b[0m\u001b[1;33m\u001b[0m\u001b[0m\n\u001b[0;32m      5\u001b[0m \u001b[0mprint\u001b[0m\u001b[1;33m(\u001b[0m\u001b[0ms\u001b[0m\u001b[1;33m)\u001b[0m\u001b[1;33m\u001b[0m\u001b[1;33m\u001b[0m\u001b[0m\n",
      "\u001b[1;31mTypeError\u001b[0m: object of type '_io.TextIOWrapper' has no len()"
     ]
    }
   ],
   "source": [
    "file = open(\"hello.txt\", \"r\")\n",
    "print(file)\n",
    "# print(len(file))\n",
    "s = file.read()\n",
    "print(s)\n",
    "file.close()"
   ]
  },
  {
   "cell_type": "code",
   "execution_count": 21,
   "id": "9b9e98a0",
   "metadata": {},
   "outputs": [
    {
     "name": "stdout",
     "output_type": "stream",
     "text": [
      "Hello world!!\n"
     ]
    }
   ],
   "source": [
    "with open('hello.txt', 'r') as file:\n",
    "    s = file.read()\n",
    "    print(s)"
   ]
  },
  {
   "cell_type": "code",
   "execution_count": 1,
   "id": "57f0d1bd",
   "metadata": {},
   "outputs": [],
   "source": [
    "with open('hello.txt', 'w') as file:\n",
    "    for i in range(3):\n",
    "        file.write('Hello, world! {0}\\n'.format(i))"
   ]
  },
  {
   "cell_type": "code",
   "execution_count": 2,
   "id": "94790df9",
   "metadata": {},
   "outputs": [],
   "source": [
    "lines = ['안녕하세요.\\n', '파이썬\\n', '입니다.\\n']\n",
    "\n",
    "with open('hello.txt', 'w') as file:\n",
    "    for i in lines:\n",
    "        file.write(i)"
   ]
  },
  {
   "cell_type": "code",
   "execution_count": 3,
   "id": "ca49478b",
   "metadata": {},
   "outputs": [],
   "source": [
    "with open('hello.txt', 'w') as file:\n",
    "    file.writelines(lines)"
   ]
  },
  {
   "cell_type": "code",
   "execution_count": 5,
   "id": "9c0ba87b",
   "metadata": {},
   "outputs": [
    {
     "name": "stdout",
     "output_type": "stream",
     "text": [
      "['안녕하세요.\\n', '파이썬\\n', '입니다.\\n']\n",
      "<class 'list'>\n"
     ]
    }
   ],
   "source": [
    "with open('hello.txt', 'r') as file:\n",
    "    lines = file.readlines()\n",
    "    print(lines)\n",
    "    print(type(lines))"
   ]
  },
  {
   "cell_type": "code",
   "execution_count": 11,
   "id": "5304fd4e",
   "metadata": {},
   "outputs": [
    {
     "name": "stdout",
     "output_type": "stream",
     "text": [
      "안녕하세요. 파이썬 입니다.  "
     ]
    }
   ],
   "source": [
    "with open('hello.txt', 'r') as file:\n",
    "    line = None\n",
    "    while line != '':\n",
    "        line = file.readline()\n",
    "        print(line.strip('\\n'), end=\" \")\n",
    "#         print(line, end=\" \")"
   ]
  },
  {
   "cell_type": "code",
   "execution_count": 13,
   "id": "14da78b4",
   "metadata": {},
   "outputs": [
    {
     "name": "stdout",
     "output_type": "stream",
     "text": [
      "안녕하세요. 파이썬 입니다. "
     ]
    }
   ],
   "source": [
    "with open('hello.txt', 'r') as file:\n",
    "    for line in file:\n",
    "        print(line.strip('\\n'), end=\" \")"
   ]
  },
  {
   "cell_type": "code",
   "execution_count": 14,
   "id": "ca9d9a8c",
   "metadata": {
    "scrolled": true
   },
   "outputs": [
    {
     "name": "stdout",
     "output_type": "stream",
     "text": [
      "안녕하세요.\n",
      "파이썬\n",
      "입니다.\n"
     ]
    }
   ],
   "source": [
    "with open('hello.txt', 'r') as file:\n",
    "    line = next(file)\n",
    "    print(line.strip('\\n'))\n",
    "    line = next(file)\n",
    "    print(line.strip('\\n'))\n",
    "    line = next(file)\n",
    "    print(line.strip('\\n'))"
   ]
  },
  {
   "cell_type": "markdown",
   "id": "14dcbdef",
   "metadata": {},
   "source": [
    "## 파이썬 피클 사용법"
   ]
  },
  {
   "cell_type": "code",
   "execution_count": 15,
   "id": "a06071f3",
   "metadata": {},
   "outputs": [],
   "source": [
    "import pickle\n",
    "\n",
    "l1 = [1, 2, 3, 4, 5]\n",
    "\n",
    "with open('dump.pickle', 'wb') as file:\n",
    "    pickle.dump(l1, file)"
   ]
  },
  {
   "cell_type": "code",
   "execution_count": 18,
   "id": "94b4fc90",
   "metadata": {},
   "outputs": [
    {
     "name": "stdout",
     "output_type": "stream",
     "text": [
      "None\n",
      "[1, 2, 3, 4, 5]\n",
      "<class 'list'>\n"
     ]
    }
   ],
   "source": [
    "l1 = None\n",
    "print(l1)\n",
    "with open('dump.pickle', 'rb') as file:\n",
    "    l1=pickle.load(file)\n",
    "    print(l1)\n",
    "    print(type(l1))"
   ]
  },
  {
   "cell_type": "code",
   "execution_count": 2,
   "id": "e149de2a",
   "metadata": {},
   "outputs": [],
   "source": [
    "import pickle\n",
    "\n",
    "data = {\n",
    "    'a': [1, 2.0, 3, 4+6j],\n",
    "    'b': (\"character string\", b\"byte string\"),\n",
    "    'c': {None, True, False}\n",
    "}\n",
    "\n",
    "with open('data.pickle', 'wb') as f:\n",
    "    pickle.dump(data, f)"
   ]
  },
  {
   "cell_type": "code",
   "execution_count": 4,
   "id": "c86625cc",
   "metadata": {},
   "outputs": [
    {
     "name": "stdout",
     "output_type": "stream",
     "text": [
      "None\n",
      "{'a': [1, 2.0, 3, (4+6j)], 'b': ('character string', b'byte string'), 'c': {None, True, False}}\n"
     ]
    }
   ],
   "source": [
    "data = None\n",
    "print(data)\n",
    "with open('data.pickle', 'rb') as f:\n",
    "    data = pickle.load(f)\n",
    "    print(data)"
   ]
  },
  {
   "cell_type": "markdown",
   "id": "23b9b59c",
   "metadata": {},
   "source": [
    "### 연습문제 1번"
   ]
  },
  {
   "cell_type": "code",
   "execution_count": 7,
   "id": "0070daca",
   "metadata": {
    "scrolled": false
   },
   "outputs": [
    {
     "name": "stdout",
     "output_type": "stream",
     "text": [
      "Python\n",
      "interpreted\n",
      "general-purpose\n",
      "programming\n",
      "Python's\n",
      "philosophy\n",
      "emphasizes\n",
      "approach\n",
      "help\n",
      "programmers\n",
      "projects.\n"
     ]
    }
   ],
   "source": [
    "with open('word.txt') as file:\n",
    "    words = file.read()\n",
    "\n",
    "temp = words.split()\n",
    "\n",
    "for word in temp:\n",
    "    if 'p' in word or 'P' in word :\n",
    "        print(word)"
   ]
  },
  {
   "cell_type": "code",
   "execution_count": 13,
   "id": "e86f30ce",
   "metadata": {},
   "outputs": [
    {
     "name": "stdout",
     "output_type": "stream",
     "text": [
      "Python is an interpreted high-level general-purpose programming language. Python's \n",
      "design philosophy emphasizes code readability with its notable \n",
      "use of significant indentation. Its language constructs as well as its \n",
      "object-oriented approach aim to help programmers write clear, logical code for \n",
      "small and large-scale projects.\n",
      "\n",
      "['P', 'y', 't', 'h', 'o', 'n', ' ', 'I', 's', ' ', 'A', 'n', ' ', 'I', 'n', 't', 'e', 'r', 'p', 'r', 'e', 't', 'e', 'd', ' ', 'H', 'i', 'g', 'h', '-', 'l', 'e', 'v', 'e', 'l', ' ', 'G', 'e', 'n', 'e', 'r', 'a', 'l', '-', 'p', 'u', 'r', 'p', 'o', 's', 'e', ' ', 'P', 'r', 'o', 'g', 'r', 'a', 'm', 'm', 'i', 'n', 'g', ' ', 'L', 'a', 'n', 'g', 'u', 'a', 'g', 'e', '.', ' ', 'P', 'y', 't', 'h', 'o', 'n', \"'\", 's', ' ', '\\n', 'D', 'e', 's', 'i', 'g', 'n', ' ', 'P', 'h', 'i', 'l', 'o', 's', 'o', 'p', 'h', 'y', ' ', 'E', 'm', 'p', 'h', 'a', 's', 'i', 'z', 'e', 's', ' ', 'C', 'o', 'd', 'e', ' ', 'R', 'e', 'a', 'd', 'a', 'b', 'i', 'l', 'i', 't', 'y', ' ', 'W', 'i', 't', 'h', ' ', 'I', 't', 's', ' ', 'N', 'o', 't', 'a', 'b', 'l', 'e', ' ', '\\n', 'U', 's', 'e', ' ', 'O', 'f', ' ', 'S', 'i', 'g', 'n', 'i', 'f', 'i', 'c', 'a', 'n', 't', ' ', 'I', 'n', 'd', 'e', 'n', 't', 'a', 't', 'i', 'o', 'n', '.', ' ', 'I', 't', 's', ' ', 'L', 'a', 'n', 'g', 'u', 'a', 'g', 'e', ' ', 'C', 'o', 'n', 's', 't', 'r', 'u', 'c', 't', 's', ' ', 'A', 's', ' ', 'W', 'e', 'l', 'l', ' ', 'A', 's', ' ', 'I', 't', 's', ' ', '\\n', 'O', 'b', 'j', 'e', 'c', 't', '-', 'o', 'r', 'i', 'e', 'n', 't', 'e', 'd', ' ', 'A', 'p', 'p', 'r', 'o', 'a', 'c', 'h', ' ', 'A', 'i', 'm', ' ', 'T', 'o', ' ', 'H', 'e', 'l', 'p', ' ', 'P', 'r', 'o', 'g', 'r', 'a', 'm', 'm', 'e', 'r', 's', ' ', 'W', 'r', 'i', 't', 'e', ' ', 'C', 'l', 'e', 'a', 'r', ',', ' ', 'L', 'o', 'g', 'i', 'c', 'a', 'l', ' ', 'C', 'o', 'd', 'e', ' ', 'F', 'o', 'r', ' ', '\\n', 'S', 'm', 'a', 'l', 'l', ' ', 'A', 'n', 'd', ' ', 'L', 'a', 'r', 'g', 'e', '-', 's', 'c', 'a', 'l', 'e', ' ', 'P', 'r', 'o', 'j', 'e', 'c', 't', 's', '.', '\\n']\n",
      "Python Is An Interpreted High-level General-purpose Programming Language. Python's \n",
      "Design Philosophy Emphasizes Code Readability With Its Notable \n",
      "Use Of Significant Indentation. Its Language Constructs As Well As Its \n",
      "Object-oriented Approach Aim To Help Programmers Write Clear, Logical Code For \n",
      "Small And Large-scale Projects.\n",
      "\n"
     ]
    }
   ],
   "source": [
    "with open('word.txt') as file:\n",
    "    words = file.read()\n",
    "\n",
    "print(words)\n",
    "temp = []\n",
    "flag = 0\n",
    "\n",
    "for i in range(len(words)):   #     hello world\n",
    "    if words[i]=='\\n' or words[i]==' ' or words[i]=='\\t':\n",
    "        flag = 0\n",
    "    else:\n",
    "        if flag == 0 :\n",
    "            temp.append( words[i].upper() )\n",
    "            flag = 1\n",
    "            continue\n",
    "    temp.append( words[i] )\n",
    "\n",
    "print(temp)\n",
    "print( \"\".join(temp))"
   ]
  },
  {
   "cell_type": "markdown",
   "id": "4cba3ac3",
   "metadata": {},
   "source": [
    "### 연습문제 2번"
   ]
  },
  {
   "cell_type": "code",
   "execution_count": 19,
   "id": "5c1f8944",
   "metadata": {
    "scrolled": true
   },
   "outputs": [
    {
     "name": "stdout",
     "output_type": "stream",
     "text": [
      "Python is an interpreted high-level general-purpose programming language. Python's \n",
      "design philosophy emphasizes code readability with its notable \n",
      "use of significant indentation. Its language constructs as well as its \n",
      "object-oriented approach aim to help programmers write clear, logical code for \n",
      "small and large-scale projects.\n",
      "\n",
      "라인수 : 5, 워드수 : 43\n"
     ]
    }
   ],
   "source": [
    "with open('word.txt') as file:\n",
    "    words = file.read()\n",
    "\n",
    "print(words)\n",
    "flag = 0\n",
    "word_count=0\n",
    "line_count=0\n",
    "\n",
    "for i in range(len(words)):   #     hello world\n",
    "    if words[i] == '\\n':\n",
    "        line_count += 1\n",
    "    if words[i]=='\\n' or words[i]==' ' or words[i]=='\\t':\n",
    "        flag = 0\n",
    "    else:\n",
    "        if flag == 0 :\n",
    "            flag = 1\n",
    "            word_count+=1\n",
    "            \n",
    "# temp = words.split()\n",
    "# print(len(temp))\n",
    "\n",
    "print( \"라인수 : %d, 워드수 : %d\"%(line_count, word_count))"
   ]
  },
  {
   "cell_type": "markdown",
   "id": "6e733209",
   "metadata": {},
   "source": [
    "## 함수"
   ]
  },
  {
   "cell_type": "code",
   "execution_count": 21,
   "id": "83805363",
   "metadata": {},
   "outputs": [
    {
     "name": "stdout",
     "output_type": "stream",
     "text": [
      "20000\n"
     ]
    }
   ],
   "source": [
    "def calc(width, height):\n",
    "    area = width * height\n",
    "    return area\n",
    "\n",
    "width=100\n",
    "height = 200\n",
    "area = calc(width, height)\n",
    "print(area)"
   ]
  }
 ],
 "metadata": {
  "kernelspec": {
   "display_name": "Python 3",
   "language": "python",
   "name": "python3"
  },
  "language_info": {
   "codemirror_mode": {
    "name": "ipython",
    "version": 3
   },
   "file_extension": ".py",
   "mimetype": "text/x-python",
   "name": "python",
   "nbconvert_exporter": "python",
   "pygments_lexer": "ipython3",
   "version": "3.8.8"
  }
 },
 "nbformat": 4,
 "nbformat_minor": 5
}
