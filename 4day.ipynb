{
 "cells": [
  {
   "cell_type": "code",
   "execution_count": 2,
   "id": "20203647",
   "metadata": {},
   "outputs": [
    {
     "name": "stdout",
     "output_type": "stream",
     "text": [
      "Hello\n",
      "Hello\n",
      "Hello\n",
      "Hello\n",
      "Hello\n"
     ]
    }
   ],
   "source": [
    "print('Hello')\n",
    "print('Hello')\n",
    "print('Hello')\n",
    "print('Hello')\n",
    "print('Hello')"
   ]
  },
  {
   "cell_type": "markdown",
   "id": "c810c5d9",
   "metadata": {},
   "source": [
    "C 언어 버전의 for loop"
   ]
  },
  {
   "cell_type": "code",
   "execution_count": null,
   "id": "995d5740",
   "metadata": {},
   "outputs": [],
   "source": [
    "int l1[] = {1,2,3,4,5,6};\n",
    "int i;\n",
    "for(i=0; i<6; i++)\n",
    "    printf(\"Hello %d\", l1[i]);"
   ]
  },
  {
   "cell_type": "markdown",
   "id": "1771d3c2",
   "metadata": {},
   "source": [
    "Python 버전의 for loop"
   ]
  },
  {
   "cell_type": "code",
   "execution_count": 7,
   "id": "8a5ceac8",
   "metadata": {
    "scrolled": true
   },
   "outputs": [
    {
     "name": "stdout",
     "output_type": "stream",
     "text": [
      "Hello 1\n",
      "Hello 2\n",
      "Hello 3\n",
      "Hello 4\n",
      "Hello 5\n"
     ]
    }
   ],
   "source": [
    "l1 = [1,2,3,4,5]\n",
    "for i in l1:\n",
    "    print(\"Hello %d\"%i)"
   ]
  },
  {
   "cell_type": "code",
   "execution_count": 13,
   "id": "c0be24d9",
   "metadata": {},
   "outputs": [
    {
     "name": "stdout",
     "output_type": "stream",
     "text": [
      "Hello 1\n",
      "Hello 2\n",
      "Hello 3\n",
      "Hello 4\n",
      "Hello 5\n"
     ]
    }
   ],
   "source": [
    "for i in range(5):   # 0,1,2,3,4\n",
    "    print(\"Hello %d\"%(i+1))"
   ]
  },
  {
   "cell_type": "code",
   "execution_count": 16,
   "id": "19078def",
   "metadata": {},
   "outputs": [
    {
     "name": "stdout",
     "output_type": "stream",
     "text": [
      "Hello a\n",
      "Hello b\n",
      "Hello c\n",
      "Hello d\n",
      "Hello e\n"
     ]
    }
   ],
   "source": [
    "for i in \"abcde\":\n",
    "    print(\"Hello %c\"%(i))"
   ]
  },
  {
   "cell_type": "code",
   "execution_count": 17,
   "id": "623c8571",
   "metadata": {},
   "outputs": [
    {
     "name": "stdout",
     "output_type": "stream",
     "text": [
      "Hello 1\n",
      "Hello 2\n",
      "Hello 3\n",
      "Hello 4\n",
      "Hello 5\n"
     ]
    }
   ],
   "source": [
    "for i in (0,1,2,3,4):\n",
    "    print(\"Hello %d\"%(i+1))"
   ]
  },
  {
   "cell_type": "code",
   "execution_count": 18,
   "id": "78a41663",
   "metadata": {},
   "outputs": [
    {
     "name": "stdout",
     "output_type": "stream",
     "text": [
      "Americano\n",
      "latte\n",
      "frafuchino\n"
     ]
    }
   ],
   "source": [
    "for i in ['Americano','latte','frafuchino']:\n",
    "    print(i)"
   ]
  },
  {
   "cell_type": "code",
   "execution_count": 21,
   "id": "bbd96282",
   "metadata": {},
   "outputs": [
    {
     "name": "stdout",
     "output_type": "stream",
     "text": [
      "1 3 5 7 9 "
     ]
    }
   ],
   "source": [
    "for i in range(1,10,2):\n",
    "    print(i, end=' ')"
   ]
  },
  {
   "cell_type": "code",
   "execution_count": 22,
   "id": "c209833a",
   "metadata": {},
   "outputs": [
    {
     "name": "stdout",
     "output_type": "stream",
     "text": [
      "0 2 4 6 8 "
     ]
    }
   ],
   "source": [
    "for i in range(0,10,2):\n",
    "    print(i, end=' ')"
   ]
  },
  {
   "cell_type": "code",
   "execution_count": 23,
   "id": "ca29eece",
   "metadata": {},
   "outputs": [
    {
     "name": "stdout",
     "output_type": "stream",
     "text": [
      "10 9 8 7 6 5 4 3 2 1 "
     ]
    }
   ],
   "source": [
    "for i in range(10,0,-1):\n",
    "    print(i, end=' ')"
   ]
  },
  {
   "cell_type": "code",
   "execution_count": 25,
   "id": "26dd094e",
   "metadata": {},
   "outputs": [
    {
     "name": "stdout",
     "output_type": "stream",
     "text": [
      "10 9 8 7 6 5 4 3 2 1 "
     ]
    }
   ],
   "source": [
    "for i in range(10):\n",
    "    print(10-i, end=' ')"
   ]
  },
  {
   "cell_type": "code",
   "execution_count": 26,
   "id": "0dd37743",
   "metadata": {},
   "outputs": [
    {
     "name": "stdout",
     "output_type": "stream",
     "text": [
      "1 2 3 4 5 6 7 8 9 10 "
     ]
    }
   ],
   "source": [
    "for i in range(1,11):\n",
    "    print(i, end=' ')"
   ]
  },
  {
   "cell_type": "code",
   "execution_count": 27,
   "id": "43f1994b",
   "metadata": {},
   "outputs": [
    {
     "name": "stdout",
     "output_type": "stream",
     "text": [
      "1 2 3 4 5 6 7 8 9 10 "
     ]
    }
   ],
   "source": [
    "for i in range(10):\n",
    "    print(i+1, end=' ')"
   ]
  },
  {
   "cell_type": "code",
   "execution_count": 29,
   "id": "a0e19dbb",
   "metadata": {},
   "outputs": [
    {
     "name": "stdout",
     "output_type": "stream",
     "text": [
      "1 3 5 7 9 "
     ]
    }
   ],
   "source": [
    "for i in range(5):\n",
    "    print(i*2+1, end=' ')"
   ]
  },
  {
   "cell_type": "code",
   "execution_count": 30,
   "id": "b5199f59",
   "metadata": {
    "scrolled": false
   },
   "outputs": [
    {
     "name": "stdout",
     "output_type": "stream",
     "text": [
      "0 2 4 6 8 "
     ]
    }
   ],
   "source": [
    "for i in range(5):\n",
    "    print(i*2, end=' ')"
   ]
  },
  {
   "cell_type": "markdown",
   "id": "4eb2e2ba",
   "metadata": {},
   "source": [
    "while을 이용한 반복문"
   ]
  },
  {
   "cell_type": "code",
   "execution_count": 31,
   "id": "f226eb1e",
   "metadata": {},
   "outputs": [
    {
     "name": "stdout",
     "output_type": "stream",
     "text": [
      "0 1 2 3 4 5 6 7 8 9 "
     ]
    }
   ],
   "source": [
    "i=0\n",
    "while i<10:\n",
    "    print(i, end=' ')\n",
    "    i=i+1"
   ]
  },
  {
   "cell_type": "code",
   "execution_count": 36,
   "id": "0ede31f5",
   "metadata": {},
   "outputs": [
    {
     "name": "stdout",
     "output_type": "stream",
     "text": [
      "3 6 9 12 15 "
     ]
    }
   ],
   "source": [
    "i=0\n",
    "while i<5:\n",
    "    print((i+1)*3, end=' ')\n",
    "    i=i+1"
   ]
  },
  {
   "cell_type": "markdown",
   "id": "ca2117f4",
   "metadata": {},
   "source": [
    "break 문"
   ]
  },
  {
   "cell_type": "code",
   "execution_count": 37,
   "id": "390abf78",
   "metadata": {},
   "outputs": [
    {
     "name": "stdout",
     "output_type": "stream",
     "text": [
      "0\n",
      "1\n",
      "2\n",
      "3\n",
      "4\n",
      "EOP\n"
     ]
    }
   ],
   "source": [
    "for i in range(10):\n",
    "    if i==5:\n",
    "        break\n",
    "    print(i)\n",
    "print(\"EOP\")"
   ]
  },
  {
   "cell_type": "code",
   "execution_count": 43,
   "id": "ff699062",
   "metadata": {},
   "outputs": [],
   "source": [
    "a = [34,23,54,66,22,45,67]\n",
    "for i in a:\n",
    "    if i==65:\n",
    "        print(\"65점 찾음\")\n",
    "        break   # break문은 가장 가까운 loop(while, for)문을 빠져 나온다."
   ]
  },
  {
   "cell_type": "markdown",
   "id": "5635c79b",
   "metadata": {},
   "source": [
    "continue 문"
   ]
  },
  {
   "cell_type": "code",
   "execution_count": 44,
   "id": "6d127a3e",
   "metadata": {},
   "outputs": [
    {
     "name": "stdout",
     "output_type": "stream",
     "text": [
      "0\n",
      "1\n",
      "2\n",
      "3\n",
      "4\n",
      "6\n",
      "7\n",
      "8\n",
      "9\n",
      "EOP\n"
     ]
    }
   ],
   "source": [
    "for i in range(10):\n",
    "    if i==5:\n",
    "        continue\n",
    "    print(i)\n",
    "print(\"EOP\")"
   ]
  },
  {
   "cell_type": "code",
   "execution_count": 45,
   "id": "018ae197",
   "metadata": {},
   "outputs": [
    {
     "name": "stdout",
     "output_type": "stream",
     "text": [
      "0 2 4 6 8 EOP\n"
     ]
    }
   ],
   "source": [
    "for i in range(10):\n",
    "    if i%2==1:\n",
    "        continue\n",
    "    print(i, end=' ')\n",
    "print(\"EOP\")"
   ]
  },
  {
   "cell_type": "code",
   "execution_count": 46,
   "id": "622b63aa",
   "metadata": {},
   "outputs": [
    {
     "name": "stdout",
     "output_type": "stream",
     "text": [
      "1 3 5 7 9 EOP\n"
     ]
    }
   ],
   "source": [
    "for i in range(10):\n",
    "    if i%2==0:\n",
    "        continue\n",
    "    print(i, end=' ')\n",
    "print(\"EOP\")"
   ]
  },
  {
   "cell_type": "markdown",
   "id": "3e0107e0",
   "metadata": {},
   "source": [
    "연습문제 1"
   ]
  },
  {
   "cell_type": "code",
   "execution_count": 56,
   "id": "98a06c05",
   "metadata": {},
   "outputs": [
    {
     "name": "stdout",
     "output_type": "stream",
     "text": [
      "숫자 입력 : 5\n",
      "5\n",
      "*\n",
      "**\n",
      "***\n",
      "****\n",
      "*****\n"
     ]
    }
   ],
   "source": [
    "\"\"\"\n",
    "*\n",
    "**\n",
    "***\n",
    "****\n",
    "*****\n",
    "\"\"\"\n",
    "\n",
    "n = int(input(\"숫자 입력 : \"))\n",
    "print(n)\n",
    "\n",
    "for i in range(n):\n",
    "    for j in range(i+1):\n",
    "        print(\"*\", end=\"\")\n",
    "    print()"
   ]
  },
  {
   "cell_type": "code",
   "execution_count": 61,
   "id": "42269416",
   "metadata": {},
   "outputs": [
    {
     "name": "stdout",
     "output_type": "stream",
     "text": [
      "숫자 입력 : 5\n",
      "5\n",
      "*****\n",
      " ****\n",
      "  ***\n",
      "   **\n",
      "    *\n"
     ]
    }
   ],
   "source": [
    "\"\"\"\n",
    "*****\n",
    " ****\n",
    "  ***\n",
    "   **\n",
    "    *\n",
    "\"\"\"\n",
    "\n",
    "n = int(input(\"숫자 입력 : \"))\n",
    "print(n)\n",
    "\n",
    "for i in range(n):\n",
    "    for j in range(i):\n",
    "        print(\" \", end=\"\")\n",
    "    for j in range(n-i):\n",
    "        print(\"*\", end=\"\")\n",
    "    print()"
   ]
  },
  {
   "cell_type": "markdown",
   "id": "451d3149",
   "metadata": {},
   "source": [
    "연습문제 3번"
   ]
  },
  {
   "cell_type": "code",
   "execution_count": 65,
   "id": "b5cd554f",
   "metadata": {},
   "outputs": [
    {
     "name": "stdout",
     "output_type": "stream",
     "text": [
      "숫자 입력 : 11\n",
      "11\n",
      "          *\n",
      "         ***\n",
      "        *****\n",
      "       *******\n",
      "      *********\n",
      "     ***********\n",
      "    *************\n",
      "   ***************\n",
      "  *****************\n",
      " *******************\n",
      "*********************\n"
     ]
    }
   ],
   "source": [
    "\"\"\"\n",
    "    *\n",
    "   ***\n",
    "  *****\n",
    " *******\n",
    "*********\n",
    "\"\"\"\n",
    "\n",
    "n = int(input(\"숫자 입력 : \"))\n",
    "print(n)\n",
    "\n",
    "for i in range(n):\n",
    "    for j in range(n-i-1):\n",
    "        print(\" \", end=\"\")\n",
    "    for j in range(i*2+1):\n",
    "        print(\"*\", end=\"\")\n",
    "    print()"
   ]
  },
  {
   "cell_type": "markdown",
   "id": "39ddcf87",
   "metadata": {},
   "source": [
    "연습문제 4"
   ]
  },
  {
   "cell_type": "code",
   "execution_count": 73,
   "id": "bf7f767e",
   "metadata": {},
   "outputs": [
    {
     "name": "stdout",
     "output_type": "stream",
     "text": [
      "숫자 입력 : 13\n",
      "13\n",
      "      *\n",
      "     ***\n",
      "    *****\n",
      "   *******\n",
      "  *********\n",
      " ***********\n",
      "*************\n",
      " ***********\n",
      "  *********\n",
      "   *******\n",
      "    *****\n",
      "     ***\n",
      "      *\n"
     ]
    }
   ],
   "source": [
    "\"\"\"\n",
    "    *\n",
    "   ***\n",
    "  *****\n",
    "   ***\n",
    "    *\n",
    "\"\"\"\n",
    "\n",
    "n = int(input(\"숫자 입력 : \"))\n",
    "print(n)\n",
    "\n",
    "for i in range(n//2+1):\n",
    "    for j in range(n//2-i):\n",
    "        print(\" \", end=\"\")\n",
    "    for j in range(i*2+1):\n",
    "        print(\"*\", end=\"\")\n",
    "    print()\n",
    "    \n",
    "for i in range(n//2):\n",
    "    for j in range(i+1):\n",
    "        print(\" \", end=\"\")\n",
    "    for j in range(n-(i+1)*2):\n",
    "        print(\"*\", end=\"\")\n",
    "    print()"
   ]
  },
  {
   "cell_type": "code",
   "execution_count": 79,
   "id": "043881ef",
   "metadata": {},
   "outputs": [
    {
     "name": "stdout",
     "output_type": "stream",
     "text": [
      "숫자 입력 : 5\n",
      "5\n",
      "  *\n",
      "0\n",
      " ***\n",
      "1\n",
      "*****\n",
      "2\n",
      " ***\n",
      "1\n",
      "  *\n",
      "0\n"
     ]
    }
   ],
   "source": [
    "\"\"\"\n",
    "    *\n",
    "   ***\n",
    "  *****\n",
    "   ***\n",
    "    *\n",
    "\"\"\"\n",
    "\n",
    "n = int(input(\"숫자 입력 : \"))\n",
    "print(n)\n",
    "\n",
    "inc = 0\n",
    "s = 1\n",
    "\n",
    "for i in range(n):\n",
    "    for j in range(n//2-inc):\n",
    "        print(\" \", end=\"\")\n",
    "    for j in range(inc*2+1):\n",
    "        print(\"*\", end=\"\")\n",
    "    print()\n",
    "    if( i == n//2 ):\n",
    "        s = -s\n",
    "#     print(inc)\n",
    "    inc += s  \n",
    "   "
   ]
  },
  {
   "cell_type": "markdown",
   "id": "44cb91f7",
   "metadata": {},
   "source": [
    "연습문제 5번"
   ]
  },
  {
   "cell_type": "code",
   "execution_count": 95,
   "id": "0146a024",
   "metadata": {},
   "outputs": [
    {
     "name": "stdout",
     "output_type": "stream",
     "text": [
      "년 월 일 입력(2021 7 8) : 2021 1 1\n",
      "2021년 1월 1일은 금요일 입니다.\n"
     ]
    }
   ],
   "source": [
    "week = [\"월요일\", \"화요일\", \"수요일\", \"목요일\", \"금요일\", \"토요일\", \"일요일\"]\n",
    "year, month, day = map(int, input(\"년 월 일 입력(2021 7 8) : \").split())\n",
    "total_day = 0\n",
    "\n",
    "day1 = [31,28,31,30,31,30,31,31,30,31,30,31]\n",
    "day2 = [31,29,31,30,31,30,31,31,30,31,30,31]\n",
    "\n",
    "for y in range(year-1):\n",
    "    total_day += 365\n",
    "    if (((y+1)%4==0) and ((y+1)%100!=0)) or ((y+1)%400==0):\n",
    "        total_day += 1\n",
    "\n",
    "for m in range(month-1):     \n",
    "    if ((year%4==0) and (year%100!=0)) or (year%400==0):\n",
    "        total_day += day2[m]\n",
    "    else:\n",
    "        total_day += day1[m]\n",
    "    \n",
    "total_day += day-1\n",
    "    \n",
    "print( \"%d년 %d월 %d일은 %s 입니다.\"%(year, month, day, week[total_day%7]) )"
   ]
  },
  {
   "cell_type": "markdown",
   "id": "6ca25006",
   "metadata": {},
   "source": [
    "반복문의 else"
   ]
  },
  {
   "cell_type": "code",
   "execution_count": 98,
   "id": "7eed1f00",
   "metadata": {},
   "outputs": [
    {
     "name": "stdout",
     "output_type": "stream",
     "text": [
      "0 1 2 3 4 5 6 7 8 9 EOP\n"
     ]
    }
   ],
   "source": [
    "for i in range(10):\n",
    "    print(i, end=\" \")\n",
    "else:\n",
    "    print(\"EOP\")"
   ]
  },
  {
   "cell_type": "code",
   "execution_count": 99,
   "id": "15f425ad",
   "metadata": {},
   "outputs": [
    {
     "name": "stdout",
     "output_type": "stream",
     "text": [
      "0 1 2 3 4 5 6 7 8 9 EOP\n"
     ]
    }
   ],
   "source": [
    "for i in range(10):\n",
    "    print(i, end=\" \")\n",
    "\n",
    "print(\"EOP\")"
   ]
  },
  {
   "cell_type": "code",
   "execution_count": 100,
   "id": "dccce4d4",
   "metadata": {},
   "outputs": [
    {
     "name": "stdout",
     "output_type": "stream",
     "text": [
      "0 1 2 3 4 "
     ]
    }
   ],
   "source": [
    "for i in range(10):\n",
    "    if i==5:\n",
    "        break\n",
    "    print(i, end=\" \")\n",
    "else:\n",
    "    print(\"EOP\")"
   ]
  },
  {
   "cell_type": "code",
   "execution_count": 103,
   "id": "bdd3beec",
   "metadata": {},
   "outputs": [
    {
     "name": "stdout",
     "output_type": "stream",
     "text": [
      "0 1 2 3 4 5\n",
      "for loop가 중간에 탈출됨\n"
     ]
    }
   ],
   "source": [
    "for i in range(10):\n",
    "    if i==5:\n",
    "        break\n",
    "    print(i, end=\" \")\n",
    "\n",
    "if i==9 :\n",
    "    print(\"for loop가 끝까지 실행됨\")\n",
    "else:\n",
    "    print(\"for loop가 중간에 탈출됨\")"
   ]
  },
  {
   "cell_type": "code",
   "execution_count": 105,
   "id": "8c04a264",
   "metadata": {},
   "outputs": [
    {
     "name": "stdout",
     "output_type": "stream",
     "text": [
      "0 1 2 3 4 5 6 7 8 9 for loop가 끝까지 실행됨\n"
     ]
    }
   ],
   "source": [
    "for i in range(10):\n",
    "#     if i==5:\n",
    "#         print(\"for loop가 중간에 탈출됨\")\n",
    "#         break\n",
    "        \n",
    "    print(i, end=\" \")\n",
    "else:\n",
    "    print(\"for loop가 끝까지 실행됨\")\n",
    "\n",
    "   "
   ]
  },
  {
   "cell_type": "markdown",
   "id": "c848b923",
   "metadata": {},
   "source": [
    "리스트를 이용한 2차원 배열 형태 만들기"
   ]
  },
  {
   "cell_type": "code",
   "execution_count": 106,
   "id": "1513a5b8",
   "metadata": {},
   "outputs": [
    {
     "name": "stdout",
     "output_type": "stream",
     "text": [
      "   1   2   3   4   5\n",
      "   6   7   8   9  10\n",
      "  11  12  13  14  15\n",
      "  16  17  18  19  20\n",
      "  21  22  23  24  25\n"
     ]
    }
   ],
   "source": [
    "n = 5\n",
    "a = [[0,0,0,0,0],\n",
    "     [0,0,0,0,0],\n",
    "     [0,0,0,0,0],\n",
    "     [0,0,0,0,0],\n",
    "     [0,0,0,0,0]]\n",
    "\n",
    "count=1\n",
    "for i in range(n):\n",
    "    for j in range(n):\n",
    "        a[i][j] = count\n",
    "        count += 1\n",
    "        \n",
    "for i in range(n):\n",
    "    for j in range(n):\n",
    "        print( \"%4d\"% a[i][j], end=\"\")\n",
    "    print()"
   ]
  },
  {
   "cell_type": "code",
   "execution_count": 107,
   "id": "c3e21a92",
   "metadata": {},
   "outputs": [
    {
     "name": "stdout",
     "output_type": "stream",
     "text": [
      "  25  20  15  10   5\n",
      "  24  19  14   9   4\n",
      "  23  18  13   8   3\n",
      "  22  17  12   7   2\n",
      "  21  16  11   6   1\n"
     ]
    }
   ],
   "source": [
    "n = 5\n",
    "a = [[0,0,0,0,0],\n",
    "     [0,0,0,0,0],\n",
    "     [0,0,0,0,0],\n",
    "     [0,0,0,0,0],\n",
    "     [0,0,0,0,0]]\n",
    "\n",
    "count=1\n",
    "for i in range(n):\n",
    "    for j in range(n):\n",
    "        a[n-j-1][n-i-1] = count\n",
    "        count += 1\n",
    "        \n",
    "for i in range(n):\n",
    "    for j in range(n):\n",
    "        print( \"%4d\"% a[i][j], end=\"\")\n",
    "    print()\n"
   ]
  },
  {
   "cell_type": "code",
   "execution_count": 108,
   "id": "86215302",
   "metadata": {},
   "outputs": [
    {
     "name": "stdout",
     "output_type": "stream",
     "text": [
      "   1   0   0   0   0\n",
      "   2   6   0   0   0\n",
      "   3   7   9   0   0\n",
      "   4   8   0   0   0\n",
      "   5   0   0   0   0\n"
     ]
    }
   ],
   "source": [
    "n = 5\n",
    "a = [[0,0,0,0,0],\n",
    "     [0,0,0,0,0],\n",
    "     [0,0,0,0,0],\n",
    "     [0,0,0,0,0],\n",
    "     [0,0,0,0,0]]\n",
    "\n",
    "count=1\n",
    "for i in range(n//2+1):\n",
    "    for j in range(n-i*2):\n",
    "        a[i+j][i] = count\n",
    "        count += 1\n",
    "        \n",
    "for i in range(n):\n",
    "    for j in range(n):\n",
    "        print( \"%4d\"% a[i][j], end=\"\")\n",
    "    print()"
   ]
  },
  {
   "cell_type": "code",
   "execution_count": 109,
   "id": "6d562128",
   "metadata": {},
   "outputs": [
    {
     "name": "stdout",
     "output_type": "stream",
     "text": [
      "   1   0   0   0  13\n",
      "   2   6   0  10  14\n",
      "   3   7   9  11  15\n",
      "   4   8   0  12  16\n",
      "   5   0   0   0  17\n"
     ]
    }
   ],
   "source": [
    "n = 5\n",
    "a = [[0,0,0,0,0],\n",
    "     [0,0,0,0,0],\n",
    "     [0,0,0,0,0],\n",
    "     [0,0,0,0,0],\n",
    "     [0,0,0,0,0]]\n",
    "\n",
    "count=1\n",
    "inc = 0\n",
    "s = 1\n",
    "for i in range(n):\n",
    "    for j in range(n-inc*2):\n",
    "        a[inc+j][i] = count\n",
    "        count += 1\n",
    "    if i==n//2:\n",
    "        s = -s\n",
    "    inc += s\n",
    "        \n",
    "for i in range(n):\n",
    "    for j in range(n):\n",
    "        print( \"%4d\"% a[i][j], end=\"\")\n",
    "    print()"
   ]
  },
  {
   "cell_type": "code",
   "execution_count": null,
   "id": "ccaab54b",
   "metadata": {},
   "outputs": [],
   "source": []
  }
 ],
 "metadata": {
  "kernelspec": {
   "display_name": "Python 3",
   "language": "python",
   "name": "python3"
  },
  "language_info": {
   "codemirror_mode": {
    "name": "ipython",
    "version": 3
   },
   "file_extension": ".py",
   "mimetype": "text/x-python",
   "name": "python",
   "nbconvert_exporter": "python",
   "pygments_lexer": "ipython3",
   "version": "3.8.8"
  }
 },
 "nbformat": 4,
 "nbformat_minor": 5
}
