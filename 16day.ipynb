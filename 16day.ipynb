{
 "cells": [
  {
   "cell_type": "code",
   "execution_count": 2,
   "metadata": {},
   "outputs": [
    {
     "name": "stdout",
     "output_type": "stream",
     "text": [
      "Collecting selenium\n",
      "  Using cached selenium-3.141.0-py2.py3-none-any.whl (904 kB)\n",
      "Requirement already satisfied: urllib3 in c:\\users\\jikim\\appdata\\roaming\\python\\python38\\site-packages (from selenium) (1.22)\n",
      "Installing collected packages: selenium\n",
      "Successfully installed selenium-3.141.0\n"
     ]
    }
   ],
   "source": [
    "!pip install selenium"
   ]
  },
  {
   "cell_type": "code",
   "execution_count": 8,
   "metadata": {},
   "outputs": [
    {
     "name": "stdout",
     "output_type": "stream",
     "text": [
      "HTML 요소:  <selenium.webdriver.remote.webelement.WebElement (session=\"906b30988a6d097570e607c64bd838be\", element=\"82c34793-bb52-4807-bd05-807db7610240\")>\n",
      "태그 이름:  a\n",
      "문자열:  로그인\n",
      "href 속성:  https://auth.danawa.com/login?url=http%3A%2F%2Fwww.danawa.com%2F\n"
     ]
    }
   ],
   "source": [
    "from selenium import webdriver \n",
    "\n",
    "driver = webdriver.Chrome(\"chromedriver\") \n",
    "driver.implicitly_wait(3)\n",
    "driver.get(\"https://www.danawa.com/\") \n",
    "\n",
    "login = driver.find_element_by_css_selector('li.my_page_service > a')\n",
    "print(\"HTML 요소: \", login)\n",
    "print(\"태그 이름: \", login.tag_name)\n",
    "print(\"문자열: \", login.text)\n",
    "print(\"href 속성: \", login.get_attribute('href'))\n",
    "\n",
    "login.click()\n",
    "driver.implicitly_wait(3)\n",
    "\n",
    "my_id = \"love1770\"\n",
    "my_pw = \"m9252009$$\"\n",
    "\n",
    "driver.find_element_by_id('danawa-member-login-input-id').send_keys(my_id)\n",
    "driver.implicitly_wait(2)\n",
    "driver.find_element_by_name('password').send_keys(my_pw)\n",
    "driver.implicitly_wait(2)\n",
    "driver.find_element_by_css_selector('button.btn_login').click()\n"
   ]
  },
  {
   "cell_type": "code",
   "execution_count": 13,
   "metadata": {},
   "outputs": [
    {
     "name": "stdout",
     "output_type": "stream",
     "text": [
      "HTML 요소:  <selenium.webdriver.remote.webelement.WebElement (session=\"bd4821fd1ea1aff9d359528b9bf677af\", element=\"688c886a-9c82-4bb6-8c4c-dd9c8783dba6\")>\n",
      "태그 이름:  a\n",
      "문자열:  로그인\n",
      "href 속성:  https://auth.danawa.com/login?url=http%3A%2F%2Fwww.danawa.com%2F\n",
      "APPLE 2020 맥북에어 MGN93KH/A (8GB, SSD 256GB)\n",
      "\n",
      "1,164,890원\n",
      "\t\t\t\t\t\t\t\n",
      "http://prod.danawa.com/info/?pcode=12660506\n",
      "\n",
      "\n",
      "APPLE 2020 맥북에어 MGN63KH/A (8GB, SSD 256GB)\n",
      "\n",
      "1,158,720원\n",
      "\t\t\t\t\t\t\t\n",
      "http://prod.danawa.com/info/?pcode=12660491\n",
      "\n",
      "\n",
      "COLORFUL iGAME 지포스 RTX 3070 Ultra OC D6 8GB White\n",
      "\n",
      "1,599,780원\n",
      "\t\t\t\t\t\t\t\n",
      "http://prod.danawa.com/info/?pcode=12613199\n",
      "\n",
      "\n",
      "이엠텍 지포스 GTX 1660 SUPER STORM X Dual OC D6 6GB\n",
      "\n",
      "880,000원\n",
      "\t\t\t\t\t\t\t\n",
      "http://prod.danawa.com/info/?pcode=9790980\n",
      "\n",
      "\n",
      "삼성전자 970 EVO M.2 NVMe (500GB)\n",
      "\n",
      "107,000원\n",
      "\t\t\t\t\t\t\t\n",
      "http://prod.danawa.com/info/?pcode=6095784\n",
      "\n",
      "\n",
      "삼성전자 860 EVO (500GB)\n",
      "\n",
      "78,810원\n",
      "\t\t\t\t\t\t\t\n",
      "http://prod.danawa.com/info/?pcode=5834210\n",
      "\n",
      "\n"
     ]
    }
   ],
   "source": [
    "from selenium import webdriver \n",
    "\n",
    "driver = webdriver.Chrome(\"chromedriver\") \n",
    "driver.implicitly_wait(3)\n",
    "driver.get(\"https://www.danawa.com/\") \n",
    "\n",
    "login = driver.find_element_by_css_selector('li.my_page_service > a')\n",
    "print(\"HTML 요소: \", login)\n",
    "print(\"태그 이름: \", login.tag_name)\n",
    "print(\"문자열: \", login.text)\n",
    "print(\"href 속성: \", login.get_attribute('href'))\n",
    "\n",
    "login.click()\n",
    "driver.implicitly_wait(3)\n",
    "\n",
    "my_id = \"love1770\"\n",
    "my_pw = \"m9252009$$\"\n",
    "\n",
    "driver.find_element_by_id('danawa-member-login-input-id').send_keys(my_id)\n",
    "driver.implicitly_wait(2)\n",
    "driver.find_element_by_name('password').send_keys(my_pw)\n",
    "driver.implicitly_wait(2)\n",
    "driver.find_element_by_css_selector('button.btn_login').click()\n",
    "driver.implicitly_wait(2)\n",
    "wishlist = driver.find_element_by_css_selector('li.interest_goods_service > a').click()\n",
    "driver.implicitly_wait(2)\n",
    "html_src = driver.page_source\n",
    "driver.close()\n",
    "# print(html_src[:])\n",
    "\n",
    "from bs4 import BeautifulSoup\n",
    "import re\n",
    "soup = BeautifulSoup(html_src, 'html.parser')\n",
    "\n",
    "wish_table = soup.select('table[class=\"tbl wish_tbl\"]')[0]\n",
    "wish_items = wish_table.select('tbody tr')\n",
    "\n",
    "for item in wish_items:\n",
    "    title = item.find('div', {'class':'tit'}).text\n",
    "    price = item.find('span', {'class':'price'}).text\n",
    "    link = item.find('a', href=re.compile('prod.danawa.com/info/')).get('href')\n",
    "    print(title)\n",
    "    print(price)\n",
    "    print(link)\n",
    "    print(\"\\n\")\n",
    "\n"
   ]
  },
  {
   "cell_type": "code",
   "execution_count": 14,
   "metadata": {},
   "outputs": [
    {
     "name": "stdout",
     "output_type": "stream",
     "text": [
      "파일 다운로드 실행...\n"
     ]
    }
   ],
   "source": [
    "from selenium import webdriver \n",
    "import time\n",
    "\n",
    "def download_bok_statistics():\n",
    "\n",
    "    driver = webdriver.Chrome(\"chromedriver\") \n",
    "    driver.implicitly_wait(3)\n",
    "    driver.get(\"http://ecos.bok.or.kr/jsp/vis/keystat/#/key\") \n",
    "    \n",
    "    \n",
    "    excel_download = driver.find_element_by_css_selector('img[alt=\"download\"]')\n",
    "    driver.implicitly_wait(3)\n",
    "    \n",
    "    excel_download.click()\n",
    "    time.sleep(5)\n",
    "    \n",
    "    driver.close()\n",
    "    print(\"파일 다운로드 실행...\")\n",
    "\n",
    "    return None\n",
    "\n",
    "download_bok_statistics()"
   ]
  },
  {
   "cell_type": "code",
   "execution_count": 15,
   "metadata": {},
   "outputs": [
    {
     "name": "stdout",
     "output_type": "stream",
     "text": [
      "검색할 항목을 입력하세요: CD\n",
      "검색어 'CD'에 매칭되는 'CD수익률(91일) ('21.07.23)' 통계지표를 검색 중...\n",
      "키워드 'CD'에 대한 통계지표를 저장하였습니다.\n",
      "(['2014', '2015', '2016', '2017', '2018', '2019', '2020', '2020.12', '2021.1', '2021.2', '2021.3', '2021.4', '2021.5', '2021.6', '2021.7.16', '2021.7.19', '2021.7.20', '2021.7.21', '2021.7.22', '2021.7.23'], ['2.49', '1.76', '1.49', '1.44', '1.68', '1.69', '0.92', '0.66', '0.68', '0.73', '0.75', '0.74', '0.68', '0.66', '0.70', '0.70', '0.70', '0.70', '0.70', '0.70'], ['-0.23', '-0.73', '-0.27', '-0.05', '0.24', '0.01', '-0.77', '0.00', '0.02', '0.05', '0.02', '-0.01', '-0.06', '-0.02', '0.01', '0.00', '0.00', '0.00', '0.00', '0.00'])\n"
     ]
    }
   ],
   "source": [
    "from selenium import webdriver \n",
    "from bs4 import BeautifulSoup\n",
    "import time\n",
    "\n",
    "def download_bok_statistics_by_keyword():\n",
    "    \n",
    "    item_found = 0              \n",
    "    while not item_found:\n",
    "        \n",
    "        keyword = \"\"       \n",
    "        while len(keyword) == 0:\n",
    "            keyword = str(input(\"검색할 항목을 입력하세요: \"))\n",
    "        \n",
    "        driver = webdriver.Chrome(\"chromedriver\")\n",
    "        driver.implicitly_wait(3)\n",
    "        driver.get(\"http://ecos.bok.or.kr/jsp/vis/keystat/#/key\") \n",
    "        time.sleep(5)             \n",
    "                   \n",
    "        items1 = driver.find_elements_by_css_selector('a[class=\"ng-binding\"]')\n",
    "        items2 = driver.find_elements_by_css_selector('a[class=\"a-c1-list ng-binding\"]')\n",
    "        items3 = driver.find_elements_by_css_selector('a[class=\"a-c4-list ng-binding\"]')\n",
    "        driver.implicitly_wait(3)\n",
    "\n",
    "        items = items1[1:] + items2 + items3 \n",
    "\n",
    "        for idx, item in enumerate(items):\n",
    "            if keyword in item.text:\n",
    "                print(\"검색어 '%s'에 매칭되는 '%s' 통계지표를 검색 중...\" % (keyword, item.text))\n",
    "                item.click()\n",
    "                item_found = 1\n",
    "                time.sleep(5)\n",
    "                break\n",
    "            elif idx == (len(items) - 1):\n",
    "                print(\"검색어 '%s'에 대한 통계지표가 존재하지 않습니다...\" % keyword)\n",
    "                driver.close()\n",
    "                continue\n",
    "            else:\n",
    "                pass\n",
    "            \n",
    "    html_src = driver.page_source\n",
    "    soup = BeautifulSoup(html_src, 'html.parser')\n",
    "    driver.close()\n",
    "  \n",
    "    table_items = soup.find_all('td', {'class':'ng-binding'})\n",
    "    date = [t.text for i, t in enumerate(table_items) if i % 3 == 0]\n",
    "    value = [t.text for i, t in enumerate(table_items) if i % 3 == 1]    \n",
    "    change = [t.text for i, t in enumerate(table_items) if i % 3 == 2]    \n",
    "    \n",
    "    result_file = open('bok_statistics_%s.csv' % keyword, 'w')\n",
    "    for i in range(len(date)):\n",
    "        result_file.write(\"%s, %s, %s\" % (date[i], value[i], change[i]))\n",
    "        result_file.write('\\n')\n",
    "    \n",
    "    result_file.close()\n",
    "    print(\"키워드 '%s'에 대한 통계지표를 저장하였습니다.\" % keyword)\n",
    "    \n",
    "    return date, value, change\n",
    "\n",
    "result = download_bok_statistics_by_keyword()\n",
    "print(result)\n"
   ]
  },
  {
   "cell_type": "markdown",
   "metadata": {},
   "source": [
    "## 넘파이"
   ]
  },
  {
   "cell_type": "code",
   "execution_count": 25,
   "metadata": {},
   "outputs": [
    {
     "name": "stdout",
     "output_type": "stream",
     "text": [
      "[1, 2, 3, 4]\n",
      "<class 'list'>\n",
      "[1 2 3 4]\n",
      "<class 'numpy.ndarray'>\n",
      "1\n",
      "(4,)\n",
      "2\n",
      "(2, 3)\n",
      "6\n"
     ]
    }
   ],
   "source": [
    "import numpy as np\n",
    " \n",
    "list1 = [1, 2, 3, 4]\n",
    "print(list1)\n",
    "print(type(list1))\n",
    "a = np.array(list1)\n",
    "print(a)\n",
    "print(type(a))\n",
    "print(a.ndim)\n",
    "print(a.shape) \n",
    " \n",
    "b = np.array([[1,2,3],[4,5,6]])\n",
    "print(b.ndim)\n",
    "print(b.shape)\n",
    "\n",
    "print(b[1,2]) \n"
   ]
  },
  {
   "cell_type": "code",
   "execution_count": 36,
   "metadata": {},
   "outputs": [
    {
     "name": "stdout",
     "output_type": "stream",
     "text": [
      "[[ 0  1  2  3  4]\n",
      " [ 5  6  7  8  9]\n",
      " [10 11 12 13 14]\n",
      " [15 16 17 18 19]]\n",
      "[[ 0  1  2  3  4  5  6  7  8  9]\n",
      " [10 11 12 13 14 15 16 17 18 19]]\n"
     ]
    }
   ],
   "source": [
    "import numpy as np\n",
    " \n",
    "# a = np.zeros((2,2))\n",
    "# print(a)\n",
    " \n",
    "# a = np.ones((2,3))\n",
    "# print(a)\n",
    " \n",
    "# a = np.full((2,3), 5)\n",
    "# print(a)\n",
    " \n",
    "# a = np.eye(3)\n",
    "# print(a)\n",
    " \n",
    "list(range(20))\n",
    "np.array(range(20))\n",
    "a = np.array(range(20)).reshape((4,5))\n",
    "print(a)\n",
    "\n",
    "a = a.reshape((2,10))\n",
    "print(a)\n"
   ]
  },
  {
   "cell_type": "code",
   "execution_count": 40,
   "metadata": {},
   "outputs": [
    {
     "name": "stdout",
     "output_type": "stream",
     "text": [
      "(3, 3)\n",
      "[[1 2]\n",
      " [4 5]]\n",
      "(2, 2)\n",
      "[[5 6]\n",
      " [8 9]]\n",
      "(2, 2)\n"
     ]
    }
   ],
   "source": [
    "import numpy as np\n",
    " \n",
    "lst = [\n",
    "    [1, 2, 3],\n",
    "    [4, 5, 6],\n",
    "    [7, 8, 9]\n",
    "]\n",
    "\n",
    "arr = np.array(lst)\n",
    "print(arr.shape)\n",
    " \n",
    "a = arr[0:2, 0:2] #  (2,2)\n",
    "print(a)\n",
    "print(a.shape)\n",
    " \n",
    "a = arr[1:, 1:]\n",
    "print(a)\n",
    "print(a.shape)"
   ]
  },
  {
   "cell_type": "code",
   "execution_count": 41,
   "metadata": {},
   "outputs": [
    {
     "name": "stdout",
     "output_type": "stream",
     "text": [
      "[ 2 12]\n"
     ]
    }
   ],
   "source": [
    "import numpy as np\n",
    " \n",
    "lst = [\n",
    "    [1, 2, 3, 4],\n",
    "    [5, 6, 7, 8],\n",
    "    [9, 10, 11, 12]\n",
    "]\n",
    "a = np.array(lst)\n",
    " \n",
    "s = a[[0, 2], [1, 3]]\n",
    " \n",
    "print(s)"
   ]
  },
  {
   "cell_type": "markdown",
   "metadata": {},
   "source": [
    "### 넘파이 인덱싱"
   ]
  },
  {
   "cell_type": "code",
   "execution_count": 46,
   "metadata": {
    "scrolled": true
   },
   "outputs": [
    {
     "name": "stdout",
     "output_type": "stream",
     "text": [
      "(5,)\n",
      "2\n",
      "<class 'numpy.int32'>\n",
      "[1 4]\n"
     ]
    }
   ],
   "source": [
    "a = np.array([1,2,3,4,5])\n",
    "print(a.shape)\n",
    "print( a[1] )\n",
    "print( type(a[1]) )\n",
    "\n",
    "print( a[[0,3]] )"
   ]
  },
  {
   "cell_type": "markdown",
   "metadata": {},
   "source": [
    "### 넘파이 슬라이싱"
   ]
  },
  {
   "cell_type": "code",
   "execution_count": 45,
   "metadata": {},
   "outputs": [
    {
     "name": "stdout",
     "output_type": "stream",
     "text": [
      "(5,)\n",
      "[2]\n",
      "<class 'numpy.ndarray'>\n"
     ]
    }
   ],
   "source": [
    "a = np.array([1,2,3,4,5])\n",
    "print(a.shape)\n",
    "print( a[1:2] )\n",
    "print( type(a[1:2]) )"
   ]
  },
  {
   "cell_type": "markdown",
   "metadata": {},
   "source": [
    "### 넘파이 불린 인덱싱"
   ]
  },
  {
   "cell_type": "code",
   "execution_count": 47,
   "metadata": {},
   "outputs": [
    {
     "name": "stdout",
     "output_type": "stream",
     "text": [
      "[1 3 5]\n"
     ]
    }
   ],
   "source": [
    "a = np.array([1,2,3,4,5])\n",
    "print( a[[True, False, True, False, True]] )"
   ]
  },
  {
   "cell_type": "code",
   "execution_count": 48,
   "metadata": {},
   "outputs": [
    {
     "name": "stdout",
     "output_type": "stream",
     "text": [
      "[0 2 0 4 0]\n"
     ]
    }
   ],
   "source": [
    "a[[True, False, True, False, True]] = 0\n",
    "print(a)"
   ]
  },
  {
   "cell_type": "code",
   "execution_count": 49,
   "metadata": {},
   "outputs": [
    {
     "name": "stdout",
     "output_type": "stream",
     "text": [
      "[1 0 3 0 5]\n"
     ]
    }
   ],
   "source": [
    "a = np.array([1,-2,3,-4,5])\n",
    "\n",
    "for i in range(5):\n",
    "    if a[i] < 0 :\n",
    "        a[i] = 0\n",
    "\n",
    "print(a)"
   ]
  },
  {
   "cell_type": "code",
   "execution_count": 51,
   "metadata": {},
   "outputs": [
    {
     "name": "stdout",
     "output_type": "stream",
     "text": [
      "[False  True False  True False]\n",
      "[1 0 3 0 5]\n"
     ]
    }
   ],
   "source": [
    "a = np.array([1,-2,3,-4,5])\n",
    "mask = a < 0\n",
    "print(mask)\n",
    "a[mask] = 0\n",
    "print(a)"
   ]
  },
  {
   "cell_type": "code",
   "execution_count": 52,
   "metadata": {},
   "outputs": [
    {
     "name": "stdout",
     "output_type": "stream",
     "text": [
      "[[False  True False  True False]\n",
      " [ True False  True False  True]]\n",
      "[[1 0 3 0 5]\n",
      " [0 2 0 4 0]]\n"
     ]
    }
   ],
   "source": [
    "a = np.array([[1,-2,3,-4,5],\n",
    "              [-1,2,-3,4,-5]])\n",
    "mask = a < 0\n",
    "print(mask)\n",
    "a[mask] = 0\n",
    "print(a)"
   ]
  },
  {
   "cell_type": "code",
   "execution_count": 53,
   "metadata": {},
   "outputs": [
    {
     "name": "stdout",
     "output_type": "stream",
     "text": [
      "[2 4 6 8]\n"
     ]
    }
   ],
   "source": [
    "import numpy as np\n",
    " \n",
    "lst = [\n",
    "    [1, 2, 3],\n",
    "    [4, 5, 6],\n",
    "    [7, 8, 9]\n",
    "]\n",
    "a = np.array(lst)\n",
    " \n",
    "bool_indexing_array = np.array([\n",
    "    [False,  True, False],\n",
    "    [True, False,  True],\n",
    "    [False,  True, False]\n",
    "])\n",
    " \n",
    "n = a[bool_indexing_array];\n",
    "print(n) "
   ]
  },
  {
   "cell_type": "code",
   "execution_count": 55,
   "metadata": {},
   "outputs": [
    {
     "name": "stdout",
     "output_type": "stream",
     "text": [
      "[[False  True False]\n",
      " [ True False  True]\n",
      " [False  True False]]\n",
      "[2 4 6 8]\n",
      "[2 4 6 8]\n"
     ]
    }
   ],
   "source": [
    "import numpy as np\n",
    " \n",
    "lst = [\n",
    "    [1, 2, 3],\n",
    "    [4, 5, 6],\n",
    "    [7, 8, 9]\n",
    "]\n",
    "a = np.array(lst)\n",
    " \n",
    "bool_indexing = (a % 2 == 0)\n",
    "print(bool_indexing)\n",
    "print(a[bool_indexing])\n",
    "\n",
    "n = a[ a % 2 == 0 ]\n",
    "print(n)\n"
   ]
  },
  {
   "cell_type": "code",
   "execution_count": 68,
   "metadata": {},
   "outputs": [
    {
     "name": "stdout",
     "output_type": "stream",
     "text": [
      "[5 7 9]\n",
      "[-3 -3 -3]\n",
      "[ 4 10 18]\n",
      "[0.25 0.4  0.5 ]\n"
     ]
    }
   ],
   "source": [
    "import numpy as np\n",
    " \n",
    "# a = [1,2,3]\n",
    "# b = [4,5,6]\n",
    " \n",
    "# c = a + b\n",
    "# print(c)  \n",
    "    \n",
    "a = np.array([1,2,3])\n",
    "b = np.array([4,5,6])\n",
    " \n",
    "c = a + b\n",
    "print(c)\n",
    " \n",
    "c = a - b\n",
    "print(c)\n",
    " \n",
    "# c = np.multiply(a, b)\n",
    "c = a * b\n",
    "print(c)\n",
    " \n",
    "# c = np.divide(a, b)\n",
    "c = a / b\n",
    "print(c)\n"
   ]
  },
  {
   "cell_type": "markdown",
   "metadata": {},
   "source": [
    "### 넘파이 브로드캐스팅"
   ]
  },
  {
   "cell_type": "code",
   "execution_count": 69,
   "metadata": {},
   "outputs": [
    {
     "ename": "ValueError",
     "evalue": "operands could not be broadcast together with shapes (5,) (4,) ",
     "output_type": "error",
     "traceback": [
      "\u001b[1;31m---------------------------------------------------------------------------\u001b[0m",
      "\u001b[1;31mValueError\u001b[0m                                Traceback (most recent call last)",
      "\u001b[1;32m<ipython-input-69-e576617dd077>\u001b[0m in \u001b[0;36m<module>\u001b[1;34m\u001b[0m\n\u001b[0;32m      1\u001b[0m \u001b[0ma\u001b[0m \u001b[1;33m=\u001b[0m \u001b[0mnp\u001b[0m\u001b[1;33m.\u001b[0m\u001b[0marray\u001b[0m\u001b[1;33m(\u001b[0m\u001b[1;33m[\u001b[0m\u001b[1;36m1\u001b[0m\u001b[1;33m,\u001b[0m\u001b[1;36m2\u001b[0m\u001b[1;33m,\u001b[0m\u001b[1;36m3\u001b[0m\u001b[1;33m,\u001b[0m\u001b[1;36m4\u001b[0m\u001b[1;33m,\u001b[0m\u001b[1;36m5\u001b[0m\u001b[1;33m]\u001b[0m\u001b[1;33m)\u001b[0m\u001b[1;33m\u001b[0m\u001b[1;33m\u001b[0m\u001b[0m\n\u001b[0;32m      2\u001b[0m \u001b[0mb\u001b[0m \u001b[1;33m=\u001b[0m \u001b[0mnp\u001b[0m\u001b[1;33m.\u001b[0m\u001b[0marray\u001b[0m\u001b[1;33m(\u001b[0m\u001b[1;33m[\u001b[0m\u001b[1;36m3\u001b[0m\u001b[1;33m,\u001b[0m\u001b[1;36m3\u001b[0m\u001b[1;33m,\u001b[0m\u001b[1;36m3\u001b[0m\u001b[1;33m,\u001b[0m\u001b[1;36m3\u001b[0m\u001b[1;33m]\u001b[0m\u001b[1;33m)\u001b[0m\u001b[1;33m\u001b[0m\u001b[1;33m\u001b[0m\u001b[0m\n\u001b[1;32m----> 3\u001b[1;33m \u001b[0mc\u001b[0m \u001b[1;33m=\u001b[0m \u001b[0ma\u001b[0m \u001b[1;33m+\u001b[0m \u001b[0mb\u001b[0m\u001b[1;33m\u001b[0m\u001b[1;33m\u001b[0m\u001b[0m\n\u001b[0m\u001b[0;32m      4\u001b[0m \u001b[0mprint\u001b[0m\u001b[1;33m(\u001b[0m\u001b[0mc\u001b[0m\u001b[1;33m)\u001b[0m\u001b[1;33m\u001b[0m\u001b[1;33m\u001b[0m\u001b[0m\n",
      "\u001b[1;31mValueError\u001b[0m: operands could not be broadcast together with shapes (5,) (4,) "
     ]
    }
   ],
   "source": [
    "a = np.array([1,2,3,4,5])  # a.ndim=1  ,  a.shape=(5,)\n",
    "b = np.array([3,3,3,3])    # b.ndim=1  ,  b.shape=(4,)\n",
    "c = a + b\n",
    "print(c)"
   ]
  },
  {
   "cell_type": "code",
   "execution_count": 79,
   "metadata": {},
   "outputs": [
    {
     "name": "stdout",
     "output_type": "stream",
     "text": [
      "[[ 2  2  4]\n",
      " [ 5  5  7]\n",
      " [ 8  8 10]\n",
      " [11 11 13]]\n",
      "[[ 2  2  4]\n",
      " [ 5  5  7]\n",
      " [ 8  8 10]\n",
      " [11 11 13]]\n"
     ]
    }
   ],
   "source": [
    "import numpy as np\n",
    "\n",
    "x = np.array([[1,2,3], \n",
    "              [4,5,6], \n",
    "              [7,8,9], \n",
    "              [10, 11, 12]])               # 2 (4, 3)  \n",
    "v = np.array([1, 0, 1])   #   [[1, 0, 1],\n",
    "                          #    [1, 0, 1],\n",
    "                          #    [1, 0, 1],\n",
    "                          #    [1, 0, 1]]    # 1 (3,) => (4,3)\n",
    "            \n",
    "y = x + v\n",
    "print(y)\n",
    "y = np.empty_like(x)   \n",
    "# print(y)\n",
    "\n",
    "for i in range(4):\n",
    "    y[i, :] = x[i, :] + v\n",
    "\n",
    "print(y)\n"
   ]
  },
  {
   "cell_type": "code",
   "execution_count": 81,
   "metadata": {},
   "outputs": [
    {
     "name": "stdout",
     "output_type": "stream",
     "text": [
      "[[ 4  5  6]\n",
      " [ 7  8  9]\n",
      " [10 11 12]\n",
      " [13 14 15]]\n"
     ]
    }
   ],
   "source": [
    "import numpy as np\n",
    "\n",
    "x = np.array([[1,2,3], \n",
    "              [4,5,6], \n",
    "              [7,8,9], \n",
    "              [10, 11, 12]])               \n",
    "v = 3       #  () => (4, 3)\n",
    "y = x + v\n",
    "print(y)"
   ]
  },
  {
   "cell_type": "code",
   "execution_count": 87,
   "metadata": {},
   "outputs": [
    {
     "name": "stdout",
     "output_type": "stream",
     "text": [
      "[[1 0 1]\n",
      " [1 0 1]\n",
      " [1 0 1]\n",
      " [1 0 1]]\n",
      "[[ 2  2  4]\n",
      " [ 5  5  7]\n",
      " [ 8  8 10]\n",
      " [11 11 13]]\n"
     ]
    }
   ],
   "source": [
    "import numpy as np\n",
    "\n",
    "x = np.array([[1,2,3], [4,5,6], [7,8,9], [10, 11, 12]])\n",
    "v = np.array([1, 0, 1])\n",
    "\n",
    "# print(x+v)\n",
    "\n",
    "vv = np.tile(v, (4, 1))  \n",
    "print(vv)                 \n",
    "y = x + vv  \n",
    "print(y) \n"
   ]
  },
  {
   "cell_type": "code",
   "execution_count": 91,
   "metadata": {},
   "outputs": [
    {
     "name": "stdout",
     "output_type": "stream",
     "text": [
      "[[3 3 3]\n",
      " [3 3 3]\n",
      " [3 3 3]\n",
      " [3 3 3]]\n",
      "[[ 4  5  6]\n",
      " [ 7  8  9]\n",
      " [10 11 12]\n",
      " [13 14 15]]\n"
     ]
    }
   ],
   "source": [
    "import numpy as np\n",
    "\n",
    "x = np.array([[1,2,3], [4,5,6], [7,8,9], [10, 11, 12]])\n",
    "v = 3 \n",
    "\n",
    "# print(x+v)\n",
    "\n",
    "vv = np.tile(v, (4, 3))  \n",
    "print(vv)                 \n",
    "y = x + vv  \n",
    "print(y)"
   ]
  },
  {
   "cell_type": "code",
   "execution_count": 101,
   "metadata": {},
   "outputs": [
    {
     "name": "stdout",
     "output_type": "stream",
     "text": [
      "[[0. 0. 0.]\n",
      " [0. 0. 0.]\n",
      " [0. 0. 0.]]\n",
      "[[ 2.  2.  4.]\n",
      " [ 5.  5.  7.]\n",
      " [ 8.  8. 10.]]\n"
     ]
    }
   ],
   "source": [
    "import numpy as np\n",
    "\n",
    "x = np.array([[1,2,3], \n",
    "              [4,5,6], \n",
    "              [7,8,9]])\n",
    "\n",
    "v = np.array([1,0,1])\n",
    "y = np.zeros(x.shape)\n",
    "print(y)\n",
    "# print(x.ndim)\n",
    "# print(x.shape)\n",
    "# print(x[0].shape)\n",
    "# print(x[0])\n",
    "# print(x[1, 1])\n",
    "\n",
    "# for i in range(3):\n",
    "#     print( x[i, :] )\n",
    "\n",
    "for i in range(3):\n",
    "    y[i, :] = x[i, :] + v\n",
    "    \n",
    "print(y)"
   ]
  },
  {
   "cell_type": "code",
   "execution_count": null,
   "metadata": {},
   "outputs": [],
   "source": []
  }
 ],
 "metadata": {
  "kernelspec": {
   "display_name": "Python 3",
   "language": "python",
   "name": "python3"
  },
  "language_info": {
   "codemirror_mode": {
    "name": "ipython",
    "version": 3
   },
   "file_extension": ".py",
   "mimetype": "text/x-python",
   "name": "python",
   "nbconvert_exporter": "python",
   "pygments_lexer": "ipython3",
   "version": "3.8.5"
  }
 },
 "nbformat": 4,
 "nbformat_minor": 4
}
