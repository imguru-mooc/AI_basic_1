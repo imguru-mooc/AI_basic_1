{
 "cells": [
  {
   "cell_type": "code",
   "execution_count": 10,
   "id": "83423dc8",
   "metadata": {},
   "outputs": [
    {
     "name": "stdout",
     "output_type": "stream",
     "text": [
      "1 10\n",
      "2 20\n",
      "3 30\n"
     ]
    }
   ],
   "source": [
    "a = [10,20,30]\n",
    "\n",
    "for i, data in enumerate(a, 1):\n",
    "    print(i, data)"
   ]
  },
  {
   "cell_type": "code",
   "execution_count": 18,
   "id": "f96a2fc3",
   "metadata": {},
   "outputs": [
    {
     "name": "stdout",
     "output_type": "stream",
     "text": [
      "deque(['one', 'two', 'three'], maxlen=3)\n",
      "one two three \n",
      "two three four "
     ]
    }
   ],
   "source": [
    "from collections import deque\n",
    "\n",
    "history = deque(maxlen=3)\n",
    "history.append('one')\n",
    "history.append('two')\n",
    "history.append('three')\n",
    "print(history)\n",
    "\n",
    "for data in history:\n",
    "    print(data, end=' ')\n",
    "    \n",
    "history.append('four')\n",
    "# print(history)\n",
    "print()\n",
    "for data in history:\n",
    "    print(data, end=' ')"
   ]
  },
  {
   "cell_type": "code",
   "execution_count": 20,
   "id": "ec6ae233",
   "metadata": {},
   "outputs": [
    {
     "name": "stdout",
     "output_type": "stream",
     "text": [
      "1:When the tree is modified\n",
      "2:the new tree  python\n",
      "2:the new tree  python\n",
      "3:to restore \n",
      "4:constrain python\n",
      "4:constrain python\n",
      "5:The properties \n",
      "6:recoloring can  python"
     ]
    }
   ],
   "source": [
    "from collections import deque\n",
    "class linehistory:\n",
    "    def __init__(self, lines, histlen=3):\n",
    "        self.lines = lines\n",
    "        self.history = deque(maxlen=histlen)\n",
    "\n",
    "    def __iter__(self):\n",
    "        for lineno, line in enumerate(self.lines,1):\n",
    "            self.history.append((lineno, line))\n",
    "            yield line\n",
    "\n",
    "    def clear(self):\n",
    "        self.history.clear()\n",
    "\n",
    "# 1:'When the tree is modified'\n",
    "# 2:'the new tree  python'\n",
    "# 2:'the new tree  python'\n",
    "# 3:'to restore'\n",
    "# 4:'constrain python'\n",
    "# 4:'constrain python'\n",
    "# 5:'The properties'\n",
    "# 6:'recoloring can  python'\n",
    "        \n",
    "with open('somefile.txt') as f:\n",
    "    lines = linehistory(f)\n",
    "    for line in lines:  #  i = iter(lines) -> next(i)\n",
    "        if 'python' in line:\n",
    "            for lineno, hline in lines.history:\n",
    "                print('{}:{}'.format(lineno, hline), end='')"
   ]
  },
  {
   "cell_type": "code",
   "execution_count": 24,
   "id": "4e95be20",
   "metadata": {},
   "outputs": [
    {
     "ename": "TypeError",
     "evalue": "'generator' object is not subscriptable",
     "output_type": "error",
     "traceback": [
      "\u001b[1;31m---------------------------------------------------------------------------\u001b[0m",
      "\u001b[1;31mTypeError\u001b[0m                                 Traceback (most recent call last)",
      "\u001b[1;32m<ipython-input-24-dd65bb8e2e49>\u001b[0m in \u001b[0;36m<module>\u001b[1;34m\u001b[0m\n\u001b[0;32m      7\u001b[0m \u001b[1;31m# print(next(c))\u001b[0m\u001b[1;33m\u001b[0m\u001b[1;33m\u001b[0m\u001b[1;33m\u001b[0m\u001b[0m\n\u001b[0;32m      8\u001b[0m \u001b[1;31m# print(next(c))\u001b[0m\u001b[1;33m\u001b[0m\u001b[1;33m\u001b[0m\u001b[1;33m\u001b[0m\u001b[0m\n\u001b[1;32m----> 9\u001b[1;33m \u001b[0mc\u001b[0m\u001b[1;33m[\u001b[0m\u001b[1;36m5\u001b[0m\u001b[1;33m:\u001b[0m\u001b[1;36m10\u001b[0m\u001b[1;33m]\u001b[0m\u001b[1;33m\u001b[0m\u001b[1;33m\u001b[0m\u001b[0m\n\u001b[0m",
      "\u001b[1;31mTypeError\u001b[0m: 'generator' object is not subscriptable"
     ]
    }
   ],
   "source": [
    "def count(n):\n",
    "    while True:\n",
    "        yield n\n",
    "        n += 1\n",
    "        \n",
    "c = count(0)\n",
    "# print(next(c))\n",
    "# print(next(c))\n",
    "c[5:10]"
   ]
  },
  {
   "cell_type": "code",
   "execution_count": 32,
   "id": "b979d988",
   "metadata": {},
   "outputs": [
    {
     "name": "stdout",
     "output_type": "stream",
     "text": [
      "10 11 12 13 14 15 16 17 18 19 \n",
      "<itertools.islice object at 0x0000025700016630>\n",
      "10\n",
      "11\n",
      "12\n"
     ]
    }
   ],
   "source": [
    "import itertools\n",
    "\n",
    "def count(n):\n",
    "    while True:\n",
    "        yield n\n",
    "        n += 1\n",
    "\n",
    "c = count(0)\n",
    "for x in itertools.islice(c, 10, 20):\n",
    "    print(x, end=' ')\n",
    "    \n",
    "print()\n",
    "\n",
    "c = count(0)\n",
    "i = iter(itertools.islice(c, 10, 20))\n",
    "#print(itertools.islice(c, 10, 20))\n",
    "print(i)\n",
    "print(next(i))\n",
    "print(next(i))\n",
    "print(next(i))"
   ]
  },
  {
   "attachments": {},
   "cell_type": "markdown",
   "id": "62bfc211",
   "metadata": {},
   "source": [
    "### 순환 객체 첫 번째 부분 건너뛰기"
   ]
  },
  {
   "cell_type": "code",
   "execution_count": 33,
   "id": "233e1581",
   "metadata": {},
   "outputs": [
    {
     "name": "stdout",
     "output_type": "stream",
     "text": [
      "#root:x:0:0:root:/root:/bin/bash\n",
      "#daemon:x:1:1:daemon:/usr/sbin:/usr/sbin/nologin\n",
      "#bin:x:2:2:bin:/bin:/usr/sbin/nologin\n",
      "#sys:x:3:3:sys:/dev:/usr/sbin/nologin\n",
      "sync:x:4:65534:sync:/bin:/bin/sync\n",
      "games:x:5:60:games:/usr/games:/usr/sbin/nologin\n",
      "man:x:6:12:man:/var/cache/man:/usr/sbin/nologin\n",
      "lp:x:7:7:lp:/var/spool/lpd:/usr/sbin/nologin\n",
      "mail:x:8:8:mail:/var/mail:/usr/sbin/nologin\n",
      "news:x:9:9:news:/var/spool/news:/usr/sbin/nologin\n",
      "uucp:x:10:10:uucp:/var/spool/uucp:/usr/sbin/nologin\n",
      "proxy:x:13:13:proxy:/bin:/usr/sbin/nologin"
     ]
    }
   ],
   "source": [
    "with open(\"passwd\") as f:\n",
    "    for line in f:\n",
    "        print(line, end='')"
   ]
  },
  {
   "cell_type": "code",
   "execution_count": 40,
   "id": "a3240234",
   "metadata": {},
   "outputs": [
    {
     "name": "stdout",
     "output_type": "stream",
     "text": [
      "sync:x:4:65534:sync:/bin:/bin/sync\n",
      "games:x:5:60:games:/usr/games:/usr/sbin/nologin\n",
      "man:x:6:12:man:/var/cache/man:/usr/sbin/nologin\n",
      "lp:x:7:7:lp:/var/spool/lpd:/usr/sbin/nologin\n",
      "#mail:x:8:8:mail:/var/mail:/usr/sbin/nologin\n",
      "#news:x:9:9:news:/var/spool/news:/usr/sbin/nologin\n",
      "uucp:x:10:10:uucp:/var/spool/uucp:/usr/sbin/nologin\n",
      "proxy:x:13:13:proxy:/bin:/usr/sbin/nologin"
     ]
    }
   ],
   "source": [
    "from itertools import dropwhile\n",
    "with open(\"passwd\") as f:\n",
    "    for line in dropwhile(lambda line: line.startswith('#'), f):\n",
    "        print(line, end='')"
   ]
  },
  {
   "cell_type": "code",
   "execution_count": 36,
   "id": "a2acd7af",
   "metadata": {},
   "outputs": [
    {
     "name": "stdout",
     "output_type": "stream",
     "text": [
      "1 4 10 15 "
     ]
    }
   ],
   "source": [
    "from itertools import islice\n",
    "items = ['a', 'b', 'c', 1, 4, 10, 15]\n",
    "for x in islice(items, 3, None):   # items[3:]\n",
    "    print(x, end=' ')"
   ]
  },
  {
   "cell_type": "code",
   "execution_count": 37,
   "id": "f3da2b83",
   "metadata": {},
   "outputs": [
    {
     "name": "stdout",
     "output_type": "stream",
     "text": [
      "1 4 10 15 "
     ]
    }
   ],
   "source": [
    "items = ['a', 'b', 'c', 1, 4, 10, 15]\n",
    "for x in  items[3:]:\n",
    "    print(x, end=' ')"
   ]
  },
  {
   "cell_type": "code",
   "execution_count": 39,
   "id": "baabbcb2",
   "metadata": {},
   "outputs": [
    {
     "name": "stdout",
     "output_type": "stream",
     "text": [
      "sync:x:4:65534:sync:/bin:/bin/sync\n",
      "games:x:5:60:games:/usr/games:/usr/sbin/nologin\n",
      "man:x:6:12:man:/var/cache/man:/usr/sbin/nologin\n",
      "lp:x:7:7:lp:/var/spool/lpd:/usr/sbin/nologin\n",
      "#mail:x:8:8:mail:/var/mail:/usr/sbin/nologin\n",
      "#news:x:9:9:news:/var/spool/news:/usr/sbin/nologin\n",
      "uucp:x:10:10:uucp:/var/spool/uucp:/usr/sbin/nologin\n",
      "proxy:x:13:13:proxy:/bin:/usr/sbin/nologin"
     ]
    }
   ],
   "source": [
    "with open('passwd') as f:\n",
    "    while True:\n",
    "        line = next(f)\n",
    "        if not line.startswith('#'):\n",
    "            break\n",
    "    while line:\n",
    "        print(line, end='')\n",
    "        line = next(f, None)"
   ]
  },
  {
   "cell_type": "code",
   "execution_count": 41,
   "id": "77f94ff5",
   "metadata": {},
   "outputs": [
    {
     "name": "stdout",
     "output_type": "stream",
     "text": [
      "sync:x:4:65534:sync:/bin:/bin/sync\n",
      "games:x:5:60:games:/usr/games:/usr/sbin/nologin\n",
      "man:x:6:12:man:/var/cache/man:/usr/sbin/nologin\n",
      "lp:x:7:7:lp:/var/spool/lpd:/usr/sbin/nologin\n",
      "uucp:x:10:10:uucp:/var/spool/uucp:/usr/sbin/nologin\n",
      "proxy:x:13:13:proxy:/bin:/usr/sbin/nologin"
     ]
    },
    {
     "ename": "StopIteration",
     "evalue": "",
     "output_type": "error",
     "traceback": [
      "\u001b[1;31m---------------------------------------------------------------------------\u001b[0m",
      "\u001b[1;31mStopIteration\u001b[0m                             Traceback (most recent call last)",
      "\u001b[1;32m<ipython-input-41-52587f397953>\u001b[0m in \u001b[0;36m<module>\u001b[1;34m\u001b[0m\n\u001b[0;32m      1\u001b[0m \u001b[1;32mwith\u001b[0m \u001b[0mopen\u001b[0m\u001b[1;33m(\u001b[0m\u001b[1;34m'passwd'\u001b[0m\u001b[1;33m)\u001b[0m \u001b[1;32mas\u001b[0m \u001b[0mf\u001b[0m\u001b[1;33m:\u001b[0m\u001b[1;33m\u001b[0m\u001b[1;33m\u001b[0m\u001b[0m\n\u001b[0;32m      2\u001b[0m     \u001b[1;32mwhile\u001b[0m \u001b[1;32mTrue\u001b[0m\u001b[1;33m:\u001b[0m\u001b[1;33m\u001b[0m\u001b[1;33m\u001b[0m\u001b[0m\n\u001b[1;32m----> 3\u001b[1;33m         \u001b[0mline\u001b[0m \u001b[1;33m=\u001b[0m \u001b[0mnext\u001b[0m\u001b[1;33m(\u001b[0m\u001b[0mf\u001b[0m\u001b[1;33m)\u001b[0m\u001b[1;33m\u001b[0m\u001b[1;33m\u001b[0m\u001b[0m\n\u001b[0m\u001b[0;32m      4\u001b[0m         \u001b[1;32mif\u001b[0m \u001b[0mline\u001b[0m\u001b[1;33m.\u001b[0m\u001b[0mstartswith\u001b[0m\u001b[1;33m(\u001b[0m\u001b[1;34m'#'\u001b[0m\u001b[1;33m)\u001b[0m\u001b[1;33m:\u001b[0m\u001b[1;33m\u001b[0m\u001b[1;33m\u001b[0m\u001b[0m\n\u001b[0;32m      5\u001b[0m             \u001b[1;32mcontinue\u001b[0m\u001b[1;33m\u001b[0m\u001b[1;33m\u001b[0m\u001b[0m\n",
      "\u001b[1;31mStopIteration\u001b[0m: "
     ]
    }
   ],
   "source": [
    "with open('passwd') as f:\n",
    "    while True:\n",
    "        line = next(f)\n",
    "        if line.startswith('#'):\n",
    "            continue   \n",
    "        print(line, end='')"
   ]
  },
  {
   "cell_type": "markdown",
   "id": "8ef2875c",
   "metadata": {},
   "source": [
    "### enumerate 사용법"
   ]
  },
  {
   "cell_type": "code",
   "execution_count": 43,
   "id": "77cafd42",
   "metadata": {},
   "outputs": [
    {
     "name": "stdout",
     "output_type": "stream",
     "text": [
      "0 a\n",
      "1 b\n",
      "2 c\n"
     ]
    }
   ],
   "source": [
    "my_list = ['a', 'b', 'c']\n",
    "idx = 0\n",
    "for val in my_list:\n",
    "    print(idx, val)\n",
    "    idx += 1"
   ]
  },
  {
   "cell_type": "code",
   "execution_count": 44,
   "id": "206fc166",
   "metadata": {},
   "outputs": [
    {
     "name": "stdout",
     "output_type": "stream",
     "text": [
      "0 a\n",
      "1 b\n",
      "2 c\n"
     ]
    }
   ],
   "source": [
    "my_list = ['a', 'b', 'c']\n",
    "for idx, val in enumerate(my_list):\n",
    "    print(idx, val)"
   ]
  },
  {
   "cell_type": "code",
   "execution_count": 45,
   "id": "fe7f5e6f",
   "metadata": {},
   "outputs": [
    {
     "name": "stdout",
     "output_type": "stream",
     "text": [
      "1 a\n",
      "2 b\n",
      "3 c\n"
     ]
    }
   ],
   "source": [
    "my_list = ['a', 'b', 'c']\n",
    "for idx, val in enumerate(my_list, 1):\n",
    "    print(idx, val)"
   ]
  },
  {
   "cell_type": "code",
   "execution_count": 47,
   "id": "97945f2a",
   "metadata": {},
   "outputs": [
    {
     "name": "stdout",
     "output_type": "stream",
     "text": [
      "1 a\n",
      "2 b\n",
      "3 c\n"
     ]
    }
   ],
   "source": [
    "idx=1\n",
    "for val in my_list:\n",
    "    print(idx, val)\n",
    "    idx+=1"
   ]
  },
  {
   "cell_type": "code",
   "execution_count": 46,
   "id": "fa512cdc",
   "metadata": {},
   "outputs": [
    {
     "data": {
      "text/plain": [
       "[(1, 'a'), (2, 'b'), (3, 'c')]"
      ]
     },
     "execution_count": 46,
     "metadata": {},
     "output_type": "execute_result"
    }
   ],
   "source": [
    "my_list = ['a', 'b', 'c']\n",
    "temp = []\n",
    "for idx, val in enumerate(my_list, 1):\n",
    "    temp.append((idx, val))\n",
    "temp"
   ]
  },
  {
   "attachments": {},
   "cell_type": "markdown",
   "id": "38f7cb7b",
   "metadata": {},
   "source": [
    "### 여러 시퀀스 동시에 순환"
   ]
  },
  {
   "cell_type": "code",
   "execution_count": 48,
   "id": "d22e8808",
   "metadata": {},
   "outputs": [
    {
     "name": "stdout",
     "output_type": "stream",
     "text": [
      "1 101\n",
      "5 78\n",
      "4 37\n",
      "2 15\n",
      "10 62\n",
      "7 99\n"
     ]
    }
   ],
   "source": [
    "xpts = [1, 5, 4, 2, 10, 7]\n",
    "ypts = [101, 78, 37, 15, 62, 99]\n",
    "for x, y in zip(xpts,ypts):\n",
    "    print(x, y)"
   ]
  },
  {
   "cell_type": "code",
   "execution_count": 51,
   "id": "06e88816",
   "metadata": {},
   "outputs": [
    {
     "name": "stdout",
     "output_type": "stream",
     "text": [
      "1 w\n",
      "2 x\n",
      "3 y\n"
     ]
    }
   ],
   "source": [
    "a = [1, 2, 3]\n",
    "b = ['w', 'x', 'y', 'z']\n",
    "for i in zip(a,b):\n",
    "    x, y = i\n",
    "    print(x, y)"
   ]
  },
  {
   "cell_type": "code",
   "execution_count": 52,
   "id": "777ce40b",
   "metadata": {},
   "outputs": [
    {
     "name": "stdout",
     "output_type": "stream",
     "text": [
      "(1, 'w')\n",
      "(2, 'x')\n",
      "(3, 'y')\n",
      "(None, 'z')\n"
     ]
    }
   ],
   "source": [
    "from itertools import zip_longest\n",
    "for i in zip_longest(a,b):\n",
    "    print(i)"
   ]
  },
  {
   "attachments": {},
   "cell_type": "markdown",
   "id": "d5f79e1e",
   "metadata": {},
   "source": [
    "### 코루틴과 yield 표현식"
   ]
  },
  {
   "cell_type": "code",
   "execution_count": 61,
   "id": "a5fbe927",
   "metadata": {},
   "outputs": [
    {
     "name": "stdout",
     "output_type": "stream",
     "text": [
      "Ready to receive\n",
      "Got 1\n",
      "Got 2\n"
     ]
    }
   ],
   "source": [
    "def receiver():\n",
    "    print(\"Ready to receive\")\n",
    "    while True:\n",
    "        n = yield    # yield 10\n",
    "        print(\"Got %s\" % n)\n",
    "\n",
    "r = receiver()\n",
    "# print(r)\n",
    "next(r)\n",
    "r.send(1)\n",
    "r.send(2)"
   ]
  },
  {
   "cell_type": "code",
   "execution_count": 59,
   "id": "53d395d1",
   "metadata": {},
   "outputs": [
    {
     "name": "stdout",
     "output_type": "stream",
     "text": [
      "Ready to receive\n",
      "Got 1\n"
     ]
    }
   ],
   "source": [
    "def coroutine(func):\n",
    "    def start(*args, **kwargs):\n",
    "        g = func(*args, **kwargs)   # g = receiver()\n",
    "        next(g)\n",
    "        return g\n",
    "    return start\n",
    "\n",
    "def receiver():\n",
    "    print(\"Ready to receive\")\n",
    "    while True:\n",
    "        n = (yield)\n",
    "        print(\"Got %s\" % n)\n",
    "        \n",
    "func = coroutine(receiver)\n",
    "c = func()\n",
    "c.send(1)"
   ]
  },
  {
   "cell_type": "code",
   "execution_count": 64,
   "id": "864841c3",
   "metadata": {},
   "outputs": [
    {
     "name": "stdout",
     "output_type": "stream",
     "text": [
      "Ready to receive\n",
      "Got 1\n"
     ]
    }
   ],
   "source": [
    "def coroutine(func):                # 1\n",
    "    def start(*args, **kwargs):     # 2\n",
    "        g = func(*args, **kwargs)\n",
    "        next(g)                     # 4\n",
    "        return g\n",
    "    return start\n",
    "\n",
    "@coroutine\n",
    "def receiver():                    # 3\n",
    "    print(\"Ready to receive\")\n",
    "    while True:\n",
    "        n = (yield)               # 6\n",
    "        print(\"Got %s\" % n)\n",
    "        \n",
    "c = receiver()\n",
    "c.send(1)                         # 5"
   ]
  },
  {
   "cell_type": "code",
   "execution_count": 65,
   "id": "04b51ba3",
   "metadata": {},
   "outputs": [
    {
     "name": "stdout",
     "output_type": "stream",
     "text": [
      "Ready to receive\n",
      "Got Hello World\n"
     ]
    }
   ],
   "source": [
    "r = receiver()\n",
    "r.send(\"Hello World\")"
   ]
  },
  {
   "cell_type": "code",
   "execution_count": 66,
   "id": "c89f47eb",
   "metadata": {},
   "outputs": [
    {
     "ename": "StopIteration",
     "evalue": "",
     "output_type": "error",
     "traceback": [
      "\u001b[1;31m---------------------------------------------------------------------------\u001b[0m",
      "\u001b[1;31mStopIteration\u001b[0m                             Traceback (most recent call last)",
      "\u001b[1;32m<ipython-input-66-a529e2e7c9bc>\u001b[0m in \u001b[0;36m<module>\u001b[1;34m\u001b[0m\n\u001b[0;32m      1\u001b[0m \u001b[0mr\u001b[0m\u001b[1;33m.\u001b[0m\u001b[0mclose\u001b[0m\u001b[1;33m(\u001b[0m\u001b[1;33m)\u001b[0m\u001b[1;33m\u001b[0m\u001b[1;33m\u001b[0m\u001b[0m\n\u001b[1;32m----> 2\u001b[1;33m \u001b[0mr\u001b[0m\u001b[1;33m.\u001b[0m\u001b[0msend\u001b[0m\u001b[1;33m(\u001b[0m\u001b[1;36m4\u001b[0m\u001b[1;33m)\u001b[0m\u001b[1;33m\u001b[0m\u001b[1;33m\u001b[0m\u001b[0m\n\u001b[0m",
      "\u001b[1;31mStopIteration\u001b[0m: "
     ]
    }
   ],
   "source": [
    "r.close()\n",
    "r.send(4)"
   ]
  },
  {
   "attachments": {},
   "cell_type": "markdown",
   "id": "158ff80a",
   "metadata": {},
   "source": [
    "### 생성기와 코루틴의 활용"
   ]
  },
  {
   "cell_type": "code",
   "execution_count": 76,
   "id": "00851847",
   "metadata": {},
   "outputs": [
    {
     "name": "stdout",
     "output_type": "stream",
     "text": [
      "<generator object walk at 0x0000025700032C10>\n",
      ".\\passwd\n"
     ]
    }
   ],
   "source": [
    "import os\n",
    "import fnmatch\n",
    "topdir = '.'\n",
    "pattern = 'passwd'\n",
    "g = os.walk(topdir)\n",
    "print(g)\n",
    "path, dirname, filelist = next(g)\n",
    "# print(path, len(dirname), len(filelist))\n",
    "# print(path, dirname, filelist)\n",
    "\n",
    "for name in filelist :\n",
    "    if fnmatch.fnmatch(name, pattern):\n",
    "        print(os.path.join(path,name))"
   ]
  },
  {
   "cell_type": "code",
   "execution_count": 79,
   "id": "cce4ac41",
   "metadata": {},
   "outputs": [
    {
     "name": "stdout",
     "output_type": "stream",
     "text": [
      ".\\passwd\n"
     ]
    }
   ],
   "source": [
    "def find_files(topdir, pattern):\n",
    "    for path, dirname, filelist in os.walk(topdir):\n",
    "        for name in filelist:\n",
    "            if fnmatch.fnmatch(name, pattern):\n",
    "                yield os.path.join(path,name)\n",
    "                \n",
    "g = find_files('.', 'passwd')\n",
    "path = next(g)\n",
    "print(path)"
   ]
  },
  {
   "cell_type": "code",
   "execution_count": 83,
   "id": "cce5c396",
   "metadata": {},
   "outputs": [
    {
     "name": "stdout",
     "output_type": "stream",
     "text": [
      "<_io.TextIOWrapper name='.\\\\passwd' mode='r' encoding='cp949'>\n"
     ]
    }
   ],
   "source": [
    "def opener(filenames):\n",
    "    for name in filenames:   # next(filenames)\n",
    "        f = open(name) \n",
    "        yield f\n",
    "        \n",
    "g = find_files('.', 'passwd')\n",
    "files = opener(g)\n",
    "f = next(files)\n",
    "print(f)"
   ]
  },
  {
   "cell_type": "code",
   "execution_count": 85,
   "id": "1fa52b46",
   "metadata": {},
   "outputs": [],
   "source": [
    "def cat(filelist):\n",
    "    for f in filelist:\n",
    "        for line in f:\n",
    "            yield line"
   ]
  },
  {
   "cell_type": "code",
   "execution_count": 86,
   "id": "cbb9ce5b",
   "metadata": {},
   "outputs": [
    {
     "data": {
      "text/plain": [
       "'sync:x:4:65534:sync:/bin:/bin/sync\\n'"
      ]
     },
     "execution_count": 86,
     "metadata": {},
     "output_type": "execute_result"
    }
   ],
   "source": [
    "g = find_files('.', 'passwd')\n",
    "files = opener(g)\n",
    "lines = cat(files)\n",
    "next(lines)"
   ]
  },
  {
   "cell_type": "code",
   "execution_count": 88,
   "id": "2294958f",
   "metadata": {},
   "outputs": [],
   "source": [
    "def grep(pattern, filelist):\n",
    "    for line in lines:\n",
    "        if pattern in line:\n",
    "            yield line"
   ]
  },
  {
   "cell_type": "code",
   "execution_count": 91,
   "id": "5beb65fa",
   "metadata": {},
   "outputs": [
    {
     "data": {
      "text/plain": [
       "'games:x:5:60:games:/usr/games:/usr/sbin/nologin\\n'"
      ]
     },
     "execution_count": 91,
     "metadata": {},
     "output_type": "execute_result"
    }
   ],
   "source": [
    "g = find_files('.', 'passwd')\n",
    "files = opener(g)\n",
    "lines = cat(files)\n",
    "pylines = grep(\"games\", lines)\n",
    "next(pylines)"
   ]
  },
  {
   "cell_type": "code",
   "execution_count": 98,
   "id": "4e3c061b",
   "metadata": {},
   "outputs": [],
   "source": [
    "import os\n",
    "import fnmatch\n",
    "def find_files(topdir, pattern):\n",
    "    for path, dirname, filelist in os.walk(topdir):\n",
    "        for name in filelist:\n",
    "            if fnmatch.fnmatch(name, pattern):\n",
    "                yield os.path.join(path,name)\n",
    "\n",
    "def opener(filenames):\n",
    "    for name in filenames:  # next(filenames)\n",
    "        f = open(name)\n",
    "        yield f\n",
    "        \n",
    "def cat(filelist):\n",
    "    for f in filelist:  #  next(filelist)\n",
    "        for line in f:\n",
    "            yield line\n",
    "            \n",
    "def grep(pattern, lines):\n",
    "    for line in lines:  # next(lines)\n",
    "        if pattern in line:\n",
    "            yield line"
   ]
  },
  {
   "cell_type": "code",
   "execution_count": 99,
   "id": "f5cf59fa",
   "metadata": {},
   "outputs": [
    {
     "name": "stdout",
     "output_type": "stream",
     "text": [
      "games:x:5:60:games:/usr/games:/usr/sbin/nologin\n",
      "\n"
     ]
    }
   ],
   "source": [
    "passwd = find_files(\".\", \"passwd\")    # find . -name passwd | cat | grep games\n",
    "files = opener(passwd)\n",
    "lines = cat(files)\n",
    "pylines = grep(\"games\", lines)\n",
    "for line in pylines:  # next(pylines)\n",
    "    print(line)"
   ]
  },
  {
   "cell_type": "code",
   "execution_count": 101,
   "id": "38f59c20",
   "metadata": {},
   "outputs": [
    {
     "name": "stdout",
     "output_type": "stream",
     "text": [
      "games:x:5:60:games:/usr/games:/usr/sbin/nologin\n",
      "\n"
     ]
    }
   ],
   "source": [
    "import os\n",
    "import fnmatch\n",
    "\n",
    "@coroutine\n",
    "def find_files(target):\n",
    "    while True:\n",
    "        topdir, pattern = (yield)\n",
    "        for path, dirname, filelist in os.walk(topdir):\n",
    "            for name in filelist:\n",
    "                if fnmatch.fnmatch(name, pattern):\n",
    "                    target.send(os.path.join(path,name))\n",
    "\n",
    "@coroutine                \n",
    "def opener(target):\n",
    "    while True:\n",
    "        name = (yield)\n",
    "        f = open(name)\n",
    "        target.send(f)\n",
    "\n",
    "@coroutine                \n",
    "def cat(target):\n",
    "    while True:\n",
    "        f = (yield)\n",
    "        for line in f:\n",
    "            target.send(line)\n",
    "\n",
    "@coroutine                \n",
    "def grep(pattern, target):\n",
    "    while True:\n",
    "        line = (yield)\n",
    "        if pattern in line:\n",
    "            target.send(line)\n",
    "            \n",
    "@coroutine                \n",
    "def printer():\n",
    "    while True:\n",
    "        line = (yield)\n",
    "        print(line)\n",
    "\n",
    "finder = find_files(opener(cat(grep(\"games\", printer()))))\n",
    "finder.send((\".\", \"passwd\"))"
   ]
  },
  {
   "cell_type": "markdown",
   "id": "ea7ad2c4",
   "metadata": {},
   "source": [
    "## 클래스와 객체"
   ]
  },
  {
   "attachments": {},
   "cell_type": "markdown",
   "id": "e47ab208",
   "metadata": {},
   "source": [
    "### 인스턴스의 문자열 표현식 변형"
   ]
  },
  {
   "cell_type": "code",
   "execution_count": 109,
   "id": "4d3f7acb",
   "metadata": {},
   "outputs": [
    {
     "name": "stdout",
     "output_type": "stream",
     "text": [
      "[1, 2, 3, 4]\n"
     ]
    },
    {
     "data": {
      "text/plain": [
       "[1, 2, 3, 4]"
      ]
     },
     "execution_count": 109,
     "metadata": {},
     "output_type": "execute_result"
    }
   ],
   "source": [
    "a = [1,2,3,4]\n",
    "print(a)\n",
    "a"
   ]
  },
  {
   "cell_type": "code",
   "execution_count": 111,
   "id": "de258e3c",
   "metadata": {},
   "outputs": [
    {
     "name": "stdout",
     "output_type": "stream",
     "text": [
      "(1, 2, 3, 4)\n"
     ]
    },
    {
     "data": {
      "text/plain": [
       "(1, 2, 3, 4)"
      ]
     },
     "execution_count": 111,
     "metadata": {},
     "output_type": "execute_result"
    }
   ],
   "source": [
    "t = (1,2,3,4)\n",
    "print(t)\n",
    "t"
   ]
  },
  {
   "cell_type": "code",
   "execution_count": 110,
   "id": "83d421fe",
   "metadata": {},
   "outputs": [
    {
     "name": "stdout",
     "output_type": "stream",
     "text": [
      "hello world\n"
     ]
    },
    {
     "data": {
      "text/plain": [
       "'hello world'"
      ]
     },
     "execution_count": 110,
     "metadata": {},
     "output_type": "execute_result"
    }
   ],
   "source": [
    "s = 'hello world'\n",
    "print(s)\n",
    "s"
   ]
  },
  {
   "cell_type": "code",
   "execution_count": 113,
   "id": "25e2f628",
   "metadata": {},
   "outputs": [
    {
     "name": "stdout",
     "output_type": "stream",
     "text": [
      "{'name': '홍길동', 'age': 33}\n"
     ]
    },
    {
     "data": {
      "text/plain": [
       "{'name': '홍길동', 'age': 33}"
      ]
     },
     "execution_count": 113,
     "metadata": {},
     "output_type": "execute_result"
    }
   ],
   "source": [
    "d = {'name':'홍길동', 'age':33 }\n",
    "print(d)\n",
    "d"
   ]
  },
  {
   "cell_type": "code",
   "execution_count": 117,
   "id": "bcb61386",
   "metadata": {},
   "outputs": [
    {
     "name": "stdout",
     "output_type": "stream",
     "text": [
      "(3, 4)\n"
     ]
    }
   ],
   "source": [
    "class Pair:\n",
    "    def __init__(self, x, y):\n",
    "        self.x = x\n",
    "        self.y = y\n",
    "        \n",
    "    def __repr__(self):\n",
    "        return 'Pair({0.x!r}, {0.y!r})'.format(self)\n",
    "\n",
    "    def __str__(self):\n",
    "        return '({0.x}, {0.y})'.format(self)\n",
    "\n",
    "p = Pair(3, 4)\n",
    "print( '{0!r}'.format(p))"
   ]
  },
  {
   "attachments": {},
   "cell_type": "markdown",
   "id": "eea0c90b",
   "metadata": {},
   "source": [
    "#### \"__repr__()는 eval(repr(x)) == x와 같은 텍스트를 만드는 것이 표준이다.\""
   ]
  },
  {
   "cell_type": "code",
   "execution_count": 118,
   "id": "8865c16e",
   "metadata": {},
   "outputs": [
    {
     "name": "stdout",
     "output_type": "stream",
     "text": [
      "(3, 4)\n"
     ]
    }
   ],
   "source": [
    "print(p)"
   ]
  },
  {
   "cell_type": "code",
   "execution_count": 119,
   "id": "5e24e1a8",
   "metadata": {},
   "outputs": [
    {
     "data": {
      "text/plain": [
       "Pair(3, 4)"
      ]
     },
     "execution_count": 119,
     "metadata": {},
     "output_type": "execute_result"
    }
   ],
   "source": [
    "p"
   ]
  },
  {
   "cell_type": "code",
   "execution_count": 120,
   "id": "0be37533",
   "metadata": {},
   "outputs": [
    {
     "data": {
      "text/plain": [
       "'1+1'"
      ]
     },
     "execution_count": 120,
     "metadata": {},
     "output_type": "execute_result"
    }
   ],
   "source": [
    " \"1+1\""
   ]
  },
  {
   "cell_type": "code",
   "execution_count": 121,
   "id": "f37fbb1b",
   "metadata": {},
   "outputs": [
    {
     "data": {
      "text/plain": [
       "2"
      ]
     },
     "execution_count": 121,
     "metadata": {},
     "output_type": "execute_result"
    }
   ],
   "source": [
    "eval(\"1+1\")"
   ]
  },
  {
   "cell_type": "code",
   "execution_count": 122,
   "id": "ee534966",
   "metadata": {},
   "outputs": [
    {
     "data": {
      "text/plain": [
       "\"'나'+'는'\""
      ]
     },
     "execution_count": 122,
     "metadata": {},
     "output_type": "execute_result"
    }
   ],
   "source": [
    "\"'나'+'는'\""
   ]
  },
  {
   "cell_type": "code",
   "execution_count": 123,
   "id": "820097ca",
   "metadata": {},
   "outputs": [
    {
     "data": {
      "text/plain": [
       "'나는'"
      ]
     },
     "execution_count": 123,
     "metadata": {},
     "output_type": "execute_result"
    }
   ],
   "source": [
    "eval(\"'나'+'는'\")"
   ]
  },
  {
   "cell_type": "code",
   "execution_count": 124,
   "id": "ee0968ce",
   "metadata": {},
   "outputs": [
    {
     "data": {
      "text/plain": [
       "Pair(3, 4)"
      ]
     },
     "execution_count": 124,
     "metadata": {},
     "output_type": "execute_result"
    }
   ],
   "source": [
    "a = eval('Pair(3, 4)')\n",
    "a"
   ]
  },
  {
   "cell_type": "code",
   "execution_count": 129,
   "id": "2698a7f7",
   "metadata": {},
   "outputs": [
    {
     "data": {
      "text/plain": [
       "Pair(10, 20)"
      ]
     },
     "execution_count": 129,
     "metadata": {},
     "output_type": "execute_result"
    }
   ],
   "source": [
    "p = Pair(10,20)\n",
    "x = eval(repr(p))\n",
    "x"
   ]
  },
  {
   "cell_type": "code",
   "execution_count": 130,
   "id": "2356e057",
   "metadata": {},
   "outputs": [
    {
     "data": {
      "text/plain": [
       "[1, 2, 3, 4]"
      ]
     },
     "execution_count": 130,
     "metadata": {},
     "output_type": "execute_result"
    }
   ],
   "source": [
    "a = [1,2,3,4]\n",
    "x = eval(repr(a))\n",
    "x"
   ]
  },
  {
   "cell_type": "code",
   "execution_count": 133,
   "id": "b9c7bb9e",
   "metadata": {},
   "outputs": [
    {
     "data": {
      "text/plain": [
       "'hello'"
      ]
     },
     "execution_count": 133,
     "metadata": {},
     "output_type": "execute_result"
    }
   ],
   "source": [
    "s = 'hello'\n",
    "x = eval(repr(s))\n",
    "x"
   ]
  }
 ],
 "metadata": {
  "kernelspec": {
   "display_name": "Python 3",
   "language": "python",
   "name": "python3"
  },
  "language_info": {
   "codemirror_mode": {
    "name": "ipython",
    "version": 3
   },
   "file_extension": ".py",
   "mimetype": "text/x-python",
   "name": "python",
   "nbconvert_exporter": "python",
   "pygments_lexer": "ipython3",
   "version": "3.8.8"
  }
 },
 "nbformat": 4,
 "nbformat_minor": 5
}
