{
 "cells": [
  {
   "cell_type": "code",
   "execution_count": 1,
   "id": "90780594",
   "metadata": {},
   "outputs": [
    {
     "name": "stdout",
     "output_type": "stream",
     "text": [
      "11\n"
     ]
    }
   ],
   "source": [
    "def plus_ten(x):\n",
    "    return x + 10\n",
    "\n",
    "print(plus_ten(1))"
   ]
  },
  {
   "cell_type": "markdown",
   "id": "5a91089d",
   "metadata": {},
   "source": [
    "### 람다 표현식"
   ]
  },
  {
   "cell_type": "code",
   "execution_count": 2,
   "id": "abdc5c4c",
   "metadata": {},
   "outputs": [
    {
     "data": {
      "text/plain": [
       "11"
      ]
     },
     "execution_count": 2,
     "metadata": {},
     "output_type": "execute_result"
    }
   ],
   "source": [
    "plus_ten = lambda x : x + 10\n",
    "plus_ten(1)"
   ]
  },
  {
   "cell_type": "code",
   "execution_count": 6,
   "id": "dbbff49c",
   "metadata": {},
   "outputs": [
    {
     "name": "stdout",
     "output_type": "stream",
     "text": [
      "1234\n",
      "<class 'int'>\n",
      "2234\n"
     ]
    }
   ],
   "source": [
    "a = int(input())\n",
    "print(type(a))\n",
    "print(a+1000)"
   ]
  },
  {
   "cell_type": "code",
   "execution_count": 11,
   "id": "2bec1add",
   "metadata": {},
   "outputs": [
    {
     "name": "stdout",
     "output_type": "stream",
     "text": [
      "12 34\n",
      "46\n"
     ]
    }
   ],
   "source": [
    "a,b = input().split()\n",
    "a = int(a)\n",
    "b = int(b)\n",
    "print(a+b)"
   ]
  },
  {
   "cell_type": "code",
   "execution_count": 12,
   "id": "7d27c0f2",
   "metadata": {},
   "outputs": [
    {
     "name": "stdout",
     "output_type": "stream",
     "text": [
      "12 34\n",
      "46\n"
     ]
    }
   ],
   "source": [
    "a,b = map(int, input().split())\n",
    "print(a+b)"
   ]
  },
  {
   "cell_type": "code",
   "execution_count": 16,
   "id": "40b845ae",
   "metadata": {},
   "outputs": [
    {
     "name": "stdout",
     "output_type": "stream",
     "text": [
      "12 34\n"
     ]
    }
   ],
   "source": [
    "a,b = \"12 34\".split()\n",
    "print(a,b)"
   ]
  },
  {
   "cell_type": "code",
   "execution_count": 19,
   "id": "9ef46db2",
   "metadata": {},
   "outputs": [
    {
     "name": "stdout",
     "output_type": "stream",
     "text": [
      "11 12 13\n"
     ]
    }
   ],
   "source": [
    "def plus_ten(x):\n",
    "    return x + 10\n",
    "\n",
    "a,b,c = map(plus_ten, [1, 2, 3])\n",
    "print(a,b,c)"
   ]
  },
  {
   "cell_type": "code",
   "execution_count": 20,
   "id": "0efef02e",
   "metadata": {},
   "outputs": [
    {
     "name": "stdout",
     "output_type": "stream",
     "text": [
      "11 12 13\n"
     ]
    }
   ],
   "source": [
    "a,b,c = map(lambda x:x+10, [1, 2, 3])\n",
    "print(a,b,c)"
   ]
  },
  {
   "cell_type": "code",
   "execution_count": 22,
   "id": "d66cd045",
   "metadata": {},
   "outputs": [
    {
     "name": "stdout",
     "output_type": "stream",
     "text": [
      "True\n"
     ]
    }
   ],
   "source": [
    "a = 12\n",
    "if a>10:\n",
    "    print(True)\n",
    "else:\n",
    "    print(False)"
   ]
  },
  {
   "cell_type": "code",
   "execution_count": 23,
   "id": "c8dee2cb",
   "metadata": {},
   "outputs": [
    {
     "data": {
      "text/plain": [
       "True"
      ]
     },
     "execution_count": 23,
     "metadata": {},
     "output_type": "execute_result"
    }
   ],
   "source": [
    "a = 12\n",
    "True if a>10 else False"
   ]
  },
  {
   "cell_type": "code",
   "execution_count": 24,
   "id": "2c0d75c5",
   "metadata": {},
   "outputs": [
    {
     "data": {
      "text/plain": [
       "[1, 2, '3', 4, 5, '6', 7, 8, '9', 10]"
      ]
     },
     "execution_count": 24,
     "metadata": {},
     "output_type": "execute_result"
    }
   ],
   "source": [
    "a = [1, 2, 3, 4, 5, 6, 7, 8, 9, 10]\n",
    "list(map(lambda x : str(x) if x%3 == 0 else x, a))"
   ]
  },
  {
   "cell_type": "code",
   "execution_count": 25,
   "id": "cc8bf2af",
   "metadata": {},
   "outputs": [
    {
     "data": {
      "text/plain": [
       "[6, 14, 24, 36, 50]"
      ]
     },
     "execution_count": 25,
     "metadata": {},
     "output_type": "execute_result"
    }
   ],
   "source": [
    "a = [1, 2, 3, 4, 5]\n",
    "b = [6, 7, 8, 9, 10]\n",
    "list(map(lambda x,y : x * y, a, b))"
   ]
  },
  {
   "cell_type": "code",
   "execution_count": 28,
   "id": "6cda598f",
   "metadata": {},
   "outputs": [
    {
     "data": {
      "text/plain": [
       "[6, 14, 24, 36, 50]"
      ]
     },
     "execution_count": 28,
     "metadata": {},
     "output_type": "execute_result"
    }
   ],
   "source": [
    "def foo(x,y):\n",
    "    return x*y\n",
    "\n",
    "a = [1, 2, 3, 4, 5]\n",
    "b = [6, 7, 8, 9, 10]\n",
    "temp = []\n",
    "for x,y in zip(a,b):\n",
    "    temp.append(foo(x,y))\n",
    "temp"
   ]
  },
  {
   "cell_type": "code",
   "execution_count": 35,
   "id": "d2e3fe84",
   "metadata": {},
   "outputs": [
    {
     "data": {
      "text/plain": [
       "[8, 7, 9]"
      ]
     },
     "execution_count": 35,
     "metadata": {},
     "output_type": "execute_result"
    }
   ],
   "source": [
    "def f(x):\n",
    "    return x > 5 and x < 10\n",
    "\n",
    "a = [8, 3, 2, 10, 15, 7, 1, 9, 0, 11]\n",
    "b = []\n",
    "for i, x in enumerate(a):\n",
    "    if f(x):\n",
    "        b.append(a[i])\n",
    "b"
   ]
  },
  {
   "cell_type": "code",
   "execution_count": 38,
   "id": "a21c24b6",
   "metadata": {},
   "outputs": [
    {
     "name": "stdout",
     "output_type": "stream",
     "text": [
      "0 5\n",
      "1 3\n",
      "2 4\n",
      "3 1\n",
      "4 2\n"
     ]
    }
   ],
   "source": [
    "a = [5,3,4,1,2]\n",
    "for i, x in enumerate(a):\n",
    "    print(i, x)"
   ]
  },
  {
   "cell_type": "code",
   "execution_count": 36,
   "id": "9c7d2465",
   "metadata": {},
   "outputs": [
    {
     "data": {
      "text/plain": [
       "[8, 7, 9]"
      ]
     },
     "execution_count": 36,
     "metadata": {},
     "output_type": "execute_result"
    }
   ],
   "source": [
    "def f(x):\n",
    "    return x > 5 and x < 10\n",
    "\n",
    "a = [8, 3, 2, 10, 15, 7, 1, 9, 0, 11]\n",
    "list(filter(f, a))"
   ]
  },
  {
   "cell_type": "code",
   "execution_count": 39,
   "id": "d2c24b33",
   "metadata": {},
   "outputs": [
    {
     "data": {
      "text/plain": [
       "[8, 7, 9]"
      ]
     },
     "execution_count": 39,
     "metadata": {},
     "output_type": "execute_result"
    }
   ],
   "source": [
    "a = [8, 3, 2, 10, 15, 7, 1, 9, 0, 11]\n",
    "list(filter(lambda x:x > 5 and x < 10, a))"
   ]
  },
  {
   "attachments": {},
   "cell_type": "markdown",
   "id": "4b9ca4c7",
   "metadata": {},
   "source": [
    "### 변수의 사용 범위"
   ]
  },
  {
   "cell_type": "code",
   "execution_count": 40,
   "id": "86e495bf",
   "metadata": {},
   "outputs": [
    {
     "name": "stdout",
     "output_type": "stream",
     "text": [
      "10\n",
      "10\n"
     ]
    }
   ],
   "source": [
    "x = 10\n",
    "def foo():\n",
    "    print(x)\n",
    "    \n",
    "foo()\n",
    "print(x)"
   ]
  },
  {
   "cell_type": "code",
   "execution_count": 41,
   "id": "06b1f938",
   "metadata": {},
   "outputs": [
    {
     "name": "stdout",
     "output_type": "stream",
     "text": [
      "20\n",
      "10\n"
     ]
    }
   ],
   "source": [
    "def foo():\n",
    "    x = 20\n",
    "    print(x)\n",
    "    \n",
    "foo()\n",
    "print(x)"
   ]
  },
  {
   "cell_type": "code",
   "execution_count": 42,
   "id": "edd01663",
   "metadata": {},
   "outputs": [
    {
     "name": "stdout",
     "output_type": "stream",
     "text": [
      "20\n",
      "20\n"
     ]
    }
   ],
   "source": [
    "def foo():\n",
    "    global x\n",
    "    x = 20\n",
    "    print(x)\n",
    "    \n",
    "foo()\n",
    "print(x)"
   ]
  },
  {
   "cell_type": "markdown",
   "id": "88e343b1",
   "metadata": {},
   "source": [
    "### 클로져 사용하기"
   ]
  },
  {
   "cell_type": "code",
   "execution_count": 44,
   "id": "1c4ffbd7",
   "metadata": {},
   "outputs": [
    {
     "name": "stdout",
     "output_type": "stream",
     "text": [
      "bar()\n",
      "foo()\n"
     ]
    }
   ],
   "source": [
    "def bar():\n",
    "    print(\"bar()\")\n",
    "    \n",
    "def foo():\n",
    "    bar()\n",
    "    print(\"foo()\")\n",
    "\n",
    "foo()"
   ]
  },
  {
   "cell_type": "code",
   "execution_count": 46,
   "id": "8989796c",
   "metadata": {},
   "outputs": [
    {
     "name": "stdout",
     "output_type": "stream",
     "text": [
      "foo()\n",
      "bar()\n"
     ]
    }
   ],
   "source": [
    "def foo():\n",
    "    def bar():\n",
    "        print(\"bar()\")\n",
    "    print(\"foo()\")\n",
    "    bar()\n",
    "\n",
    "foo()"
   ]
  },
  {
   "cell_type": "code",
   "execution_count": 48,
   "id": "bf9184f4",
   "metadata": {},
   "outputs": [
    {
     "name": "stdout",
     "output_type": "stream",
     "text": [
      "Hello, world!\n"
     ]
    }
   ],
   "source": [
    "def print_hello():\n",
    "    hello = 'Hello, world!'\n",
    "    def print_message():\n",
    "        print(hello)\n",
    "    print_message()\n",
    "    \n",
    "print_hello()"
   ]
  },
  {
   "cell_type": "code",
   "execution_count": 50,
   "id": "c31f9680",
   "metadata": {},
   "outputs": [
    {
     "name": "stdout",
     "output_type": "stream",
     "text": [
      "B(): 20\n",
      "10\n"
     ]
    }
   ],
   "source": [
    "def A():\n",
    "    x = 10\n",
    "    def B():\n",
    "        x = 20\n",
    "        print(\"B():\", x)\n",
    "    \n",
    "    B()\n",
    "    print(x)\n",
    "    \n",
    "A()"
   ]
  },
  {
   "cell_type": "code",
   "execution_count": 51,
   "id": "330d9334",
   "metadata": {},
   "outputs": [
    {
     "name": "stdout",
     "output_type": "stream",
     "text": [
      "B(): 20\n",
      "20\n"
     ]
    }
   ],
   "source": [
    "def A():\n",
    "    x = 10\n",
    "    def B():\n",
    "        nonlocal x\n",
    "        x = 20\n",
    "        print(\"B():\", x)\n",
    "    \n",
    "    B()\n",
    "    print(x)\n",
    "    \n",
    "A()"
   ]
  },
  {
   "cell_type": "code",
   "execution_count": 52,
   "id": "43201fc8",
   "metadata": {},
   "outputs": [
    {
     "name": "stdout",
     "output_type": "stream",
     "text": [
      "50\n",
      "400\n"
     ]
    }
   ],
   "source": [
    "def A():\n",
    "    x = 10\n",
    "    y = 100\n",
    "    def B():\n",
    "        x = 20\n",
    "        def C():\n",
    "            nonlocal x\n",
    "            nonlocal y\n",
    "            x = x + 30\n",
    "            y = y + 300\n",
    "            print(x)\n",
    "            print(y)\n",
    "\n",
    "        C()    \n",
    "    B()\n",
    "    \n",
    "A()\n"
   ]
  },
  {
   "cell_type": "code",
   "execution_count": 53,
   "id": "3c47425f",
   "metadata": {},
   "outputs": [
    {
     "name": "stdout",
     "output_type": "stream",
     "text": [
      "31\n"
     ]
    }
   ],
   "source": [
    "x = 1\n",
    "def A():\n",
    "    x = 10\n",
    "    y = 100\n",
    "    def B():\n",
    "        x = 20\n",
    "        def C():\n",
    "            global x\n",
    "            x = x + 30\n",
    "            print(x)\n",
    "\n",
    "        C()    \n",
    "    B()\n",
    "A()\n"
   ]
  },
  {
   "cell_type": "code",
   "execution_count": 54,
   "id": "09565c90",
   "metadata": {},
   "outputs": [
    {
     "name": "stdout",
     "output_type": "stream",
     "text": [
      "8 11 14\n"
     ]
    }
   ],
   "source": [
    "def calc():\n",
    "    a = 3\n",
    "    b = 5\n",
    "    def mul_add(x):\n",
    "        return a*x + b  # a = dy/dx\n",
    "    return mul_add\n",
    "\n",
    "c = calc()\n",
    "print(c(1),c(2),c(3))"
   ]
  },
  {
   "cell_type": "code",
   "execution_count": 71,
   "id": "8510b0e7",
   "metadata": {},
   "outputs": [
    {
     "data": {
      "image/png": "[encoded data removed]",
      "text/plain": [
       "<Figure size 432x288 with 1 Axes>"
      ]
     },
     "metadata": {
      "needs_background": "light"
     },
     "output_type": "display_data"
    }
   ],
   "source": [
    "from matplotlib import pyplot as plt\n",
    "\n",
    "def calc():\n",
    "    a = 0.5\n",
    "    b = 3\n",
    "    def mul_add(x):\n",
    "        return a*x + b  # a = dy/dx\n",
    "    return mul_add\n",
    "\n",
    "x = [0, 1, 2, 3, 4, 5]\n",
    "y = [0, 0, 0, 0, 0, 0]\n",
    "\n",
    "c = calc()\n",
    "for i, data in enumerate(x):\n",
    "    y[i] = c(data)\n",
    "\n",
    "plt.plot(x, y ,'r--')\n",
    "plt.grid()\n",
    "plt.xlim(0,10)\n",
    "plt.ylim(0,10)\n",
    "plt.show()"
   ]
  },
  {
   "cell_type": "code",
   "execution_count": 72,
   "id": "29ea03d9",
   "metadata": {},
   "outputs": [
    {
     "name": "stdout",
     "output_type": "stream",
     "text": [
      "8 11 14\n"
     ]
    }
   ],
   "source": [
    "def calc():\n",
    "    a = 3\n",
    "    b = 5\n",
    "    return lambda x : a*x + b\n",
    "\n",
    "c = calc()\n",
    "print(c(1),c(2),c(3))"
   ]
  },
  {
   "cell_type": "code",
   "execution_count": 78,
   "id": "d71a1b3f",
   "metadata": {},
   "outputs": [
    {
     "name": "stdout",
     "output_type": "stream",
     "text": [
      "8 19 33 335\n"
     ]
    }
   ],
   "source": [
    "def calc():\n",
    "    a = 3\n",
    "    b = 5\n",
    "    total = 0\n",
    "    def mul_add(x):\n",
    "        nonlocal total\n",
    "        total += a*x + b \n",
    "        return total\n",
    "    return mul_add\n",
    "\n",
    "c = calc()\n",
    "print(c(1),c(2),c(3),c(99))\n"
   ]
  },
  {
   "cell_type": "code",
   "execution_count": 74,
   "id": "dc1fa717",
   "metadata": {},
   "outputs": [
    {
     "name": "stdout",
     "output_type": "stream",
     "text": [
      "1 2 3 4 5 6 7 8 9 10 "
     ]
    }
   ],
   "source": [
    "def counter():\n",
    "    i = 0\n",
    "    def count():\n",
    "        nonlocal i\n",
    "        i += 1\n",
    "        return i\n",
    "    return count\n",
    "\n",
    "c = counter()\n",
    "for i in range(10):\n",
    "    print(c(), end=' ')"
   ]
  },
  {
   "cell_type": "markdown",
   "id": "0526197d",
   "metadata": {},
   "source": [
    "### 연습문제 1번"
   ]
  },
  {
   "cell_type": "code",
   "execution_count": 77,
   "id": "a0e3efd6",
   "metadata": {},
   "outputs": [
    {
     "name": "stdout",
     "output_type": "stream",
     "text": [
      "최대값=99, 최소값=45, 총점=748, 평균=74.80\n"
     ]
    }
   ],
   "source": [
    "def calc(score):\n",
    "    a = score[0]\n",
    "    b = score[0]\n",
    "    c = 0\n",
    "    \n",
    "    for x in score:\n",
    "        c += x\n",
    "        if a < x :\n",
    "            a = x\n",
    "        if b > x : \n",
    "            b = x\n",
    "\n",
    "    d = c / len(score)\n",
    "    return a,b,c,d\n",
    "\n",
    "score = [ 67, 45, 89, 99, 65, 64, 56, 78, 88, 97 ]\n",
    "a,b,c,d = calc(score)\n",
    "print(\"최대값=%d, 최소값=%d, 총점=%d, 평균=%5.2f\"%(a,b,c,d))"
   ]
  },
  {
   "cell_type": "markdown",
   "id": "7960f21d",
   "metadata": {},
   "source": [
    "### 연습문제 2번"
   ]
  },
  {
   "cell_type": "code",
   "execution_count": 79,
   "id": "273e1e9f",
   "metadata": {},
   "outputs": [
    {
     "name": "stdout",
     "output_type": "stream",
     "text": [
      "False\n",
      "True\n"
     ]
    }
   ],
   "source": [
    "def is_palindrome(word):\n",
    "    if len(word) < 2:\n",
    "        return True\n",
    "    if word[0] != word[-1]:\n",
    "        return False\n",
    "    return is_palindrome(word[1:-1])\n",
    "\n",
    "print(is_palindrome(\"hello\"))\n",
    "print(is_palindrome(\"level\"))"
   ]
  },
  {
   "cell_type": "markdown",
   "id": "bde92547",
   "metadata": {},
   "source": [
    "### 연습문제 3번"
   ]
  },
  {
   "cell_type": "code",
   "execution_count": 82,
   "id": "30341813",
   "metadata": {},
   "outputs": [
    {
     "name": "stdout",
     "output_type": "stream",
     "text": [
      "['1.png', '10.jpg', '2.jpg']\n"
     ]
    }
   ],
   "source": [
    "files = ['font', '1.png', '10.jpg', '11.gif', '2.jpg', '3.bmp']\n",
    "\n",
    "# def foo(fname):\n",
    "#     return fname[-4:] == '.png' or fname[-4:] == '.jpg'\n",
    "\n",
    "temp = list( filter( lambda x:x[-4:] == '.png' or x[-4:] == '.jpg', files) ) \n",
    "\n",
    "print(temp)\n"
   ]
  },
  {
   "cell_type": "markdown",
   "id": "0b622073",
   "metadata": {},
   "source": [
    "### 연습문제 4번"
   ]
  },
  {
   "cell_type": "code",
   "execution_count": 84,
   "id": "2d6fe625",
   "metadata": {},
   "outputs": [
    {
     "name": "stdout",
     "output_type": "stream",
     "text": [
      "10\n",
      "10 9 8 7 6 5 4 3 2 1 "
     ]
    }
   ],
   "source": [
    "def countdown(n):\n",
    "    temp = n+1\n",
    "    def count():\n",
    "        nonlocal temp\n",
    "        temp -= 1\n",
    "        return temp\n",
    "    return count\n",
    "\n",
    "    \n",
    "n = int(input())  # 10\n",
    "c = countdown(n)\n",
    "for i in range(n):\n",
    "    print(c(), end=' ')"
   ]
  },
  {
   "cell_type": "markdown",
   "id": "889c40ed",
   "metadata": {},
   "source": [
    "## 파이썬 객체지향"
   ]
  },
  {
   "cell_type": "code",
   "execution_count": 87,
   "id": "3754bde9",
   "metadata": {},
   "outputs": [
    {
     "name": "stdout",
     "output_type": "stream",
     "text": [
      "성적입력 : 45 56\n",
      "국어=45, 영어=56, 총점=101, 평균=50.50\n"
     ]
    }
   ],
   "source": [
    "#ver 0.1\n",
    "kor = 0\n",
    "eng = 0\n",
    "total = 0\n",
    "aver = 0.0\n",
    "\n",
    "kor, eng = map( int, input(\"성적입력 : \").split())\n",
    "total = kor + eng\n",
    "aver  = total / 2\n",
    "\n",
    "print(\"국어=%d, 영어=%d, 총점=%d, 평균=%5.2f\"%(kor, eng, total, aver))"
   ]
  },
  {
   "cell_type": "code",
   "execution_count": 88,
   "id": "08c3428f",
   "metadata": {},
   "outputs": [
    {
     "name": "stdout",
     "output_type": "stream",
     "text": [
      "성적입력 : 67 78\n",
      "국어=67, 영어=78, 총점=145, 평균=72.50\n"
     ]
    }
   ],
   "source": [
    "#ver 0.2\n",
    "\n",
    "def score_input():\n",
    "    kor, eng = map( int, input(\"성적입력 : \").split())\n",
    "    return kor, eng\n",
    "\n",
    "def score_calc(kor, eng):\n",
    "    total = kor + eng\n",
    "    aver  = total / 2\n",
    "    return total, aver\n",
    "\n",
    "def score_output(kor, eng, total, aver):\n",
    "    print(\"국어=%d, 영어=%d, 총점=%d, 평균=%5.2f\"%(kor, eng, total, aver))\n",
    "    \n",
    "kor, eng = score_input()\n",
    "total, aver = score_calc(kor, eng)\n",
    "score_output(kor, eng, total, aver)"
   ]
  },
  {
   "cell_type": "code",
   "execution_count": 89,
   "id": "be37fdc5",
   "metadata": {},
   "outputs": [
    {
     "name": "stdout",
     "output_type": "stream",
     "text": [
      "성적입력 : 34 45 56\n",
      "국어=34, 영어=45, 수학=56, 총점=135, 평균=45.00\n"
     ]
    }
   ],
   "source": [
    "#ver 0.3\n",
    "\n",
    "def score_input():\n",
    "    kor, eng, math = map( int, input(\"성적입력 : \").split())\n",
    "    return kor, eng, math\n",
    "\n",
    "def score_calc(kor, eng, math):\n",
    "    total = kor + eng + math\n",
    "    aver  = total / 3\n",
    "    return total, aver\n",
    "\n",
    "def score_output(kor, eng, math, total, aver):\n",
    "    print(\"국어=%d, 영어=%d, 수학=%d, 총점=%d, 평균=%5.2f\"%(kor, eng, math, total, aver))\n",
    "    \n",
    "kor, eng, math = score_input()\n",
    "total, aver = score_calc(kor, eng, math)\n",
    "score_output(kor, eng, math, total, aver)"
   ]
  },
  {
   "cell_type": "code",
   "execution_count": 92,
   "id": "80156cf2",
   "metadata": {},
   "outputs": [
    {
     "name": "stdout",
     "output_type": "stream",
     "text": [
      "성적입력 : 67 78 89\n",
      "국어=67, 영어=78, 수학=89, 총점=234, 평균=78.00\n"
     ]
    }
   ],
   "source": [
    "#ver 0.4\n",
    "\n",
    "def score_input(my_score):\n",
    "    my_score['kor'], my_score['eng'], my_score['math'] = map( int, input(\"성적입력 : \").split())\n",
    "\n",
    "def score_calc(my_score):\n",
    "    my_score['total'] = my_score['kor'] + my_score['eng'] + my_score['math']\n",
    "    my_score['aver']  = my_score['total'] / 3\n",
    "\n",
    "def score_output(my_score):\n",
    "    print(\"국어=%d, 영어=%d, 수학=%d, 총점=%d, 평균=%5.2f\"%\n",
    "          (my_score['kor'], my_score['eng'] , my_score['math'], my_score['total'], my_score['aver'])) \n",
    "    \n",
    "my_score = { 'kor':0, 'eng':0, 'math':0, 'total':0, 'aver':0.0 }\n",
    "score_input(my_score)\n",
    "score_calc(my_score)\n",
    "score_output(my_score)"
   ]
  },
  {
   "cell_type": "code",
   "execution_count": 93,
   "id": "ccc32137",
   "metadata": {},
   "outputs": [
    {
     "name": "stdout",
     "output_type": "stream",
     "text": [
      "성적입력 : 45 56 67\n",
      "국어=45, 영어=56, 수학=67, 총점=168, 평균=56.00\n"
     ]
    }
   ],
   "source": [
    "#ver 0.5\n",
    "\n",
    "class Score:\n",
    "    def __init__(self):\n",
    "        self.kor = 0\n",
    "        self.eng = 0\n",
    "        self.math = 0\n",
    "        self.total = 0\n",
    "        self.aver = 0.0\n",
    "        \n",
    "    def score_input(self):\n",
    "        self.kor, self.eng, self.math = map( int, input(\"성적입력 : \").split())\n",
    "\n",
    "    def score_calc(self):\n",
    "        self.total  = self.kor + self.eng + self.math \n",
    "        self.aver  = self.total/ 3\n",
    "\n",
    "    def score_output(self):\n",
    "        print(\"국어=%d, 영어=%d, 수학=%d, 총점=%d, 평균=%5.2f\"%\n",
    "              (self.kor, self.eng, self.math , self.total , self.aver )) \n",
    "    \n",
    "my_score = Score()\n",
    "my_score.score_input()\n",
    "my_score.score_calc()\n",
    "my_score.score_output()"
   ]
  }
 ],
 "metadata": {
  "kernelspec": {
   "display_name": "Python 3",
   "language": "python",
   "name": "python3"
  },
  "language_info": {
   "codemirror_mode": {
    "name": "ipython",
    "version": 3
   },
   "file_extension": ".py",
   "mimetype": "text/x-python",
   "name": "python",
   "nbconvert_exporter": "python",
   "pygments_lexer": "ipython3",
   "version": "3.8.8"
  }
 },
 "nbformat": 4,
 "nbformat_minor": 5
}
